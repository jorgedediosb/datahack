{
 "cells": [
  {
   "cell_type": "markdown",
   "metadata": {
    "application/vnd.databricks.v1+cell": {
     "cellMetadata": {},
     "inputWidgets": {},
     "nuid": "7d196880-1c0c-4df2-8c3d-e7755da9f727",
     "showTitle": false,
     "title": ""
    },
    "id": "8Z0h3dF9Vg4X"
   },
   "source": [
    "# Download Datasets"
   ]
  },
  {
   "cell_type": "code",
   "execution_count": 0,
   "metadata": {
    "application/vnd.databricks.v1+cell": {
     "cellMetadata": {
      "byteLimit": 2048000,
      "rowLimit": 10000
     },
     "inputWidgets": {},
     "nuid": "388601c9-88ae-4ed4-987d-ce13002f6009",
     "showTitle": false,
     "title": ""
    },
    "colab": {
     "base_uri": "https://localhost:8080/"
    },
    "id": "KBDin-0sXgyI",
    "outputId": "44ef94e3-6aa0-41d0-a579-242216511c27"
   },
   "outputs": [],
   "source": [
    "%sh \n",
    "curl -O 'https://raw.githubusercontent.com/masfworld/datahack_docker/master/zeppelin/data/bank.csv'\n",
    "curl -O 'https://raw.githubusercontent.com/masfworld/datahack_docker/master/zeppelin/data/vehicles.csv'\n",
    "curl -O 'https://raw.githubusercontent.com/masfworld/datahack_docker/master/zeppelin/data/characters.csv'\n",
    "curl -O 'https://raw.githubusercontent.com/masfworld/datahack_docker/master/zeppelin/data/planets.csv'\n",
    "curl -O 'https://raw.githubusercontent.com/masfworld/datahack_docker/master/zeppelin/data/species.csv'\n",
    "curl -O 'https://raw.githubusercontent.com/masfworld/datahack_docker/master/zeppelin/data/melb_data.csv'"
   ]
  },
  {
   "cell_type": "code",
   "execution_count": 0,
   "metadata": {
    "application/vnd.databricks.v1+cell": {
     "cellMetadata": {
      "byteLimit": 2048000,
      "rowLimit": 10000
     },
     "inputWidgets": {},
     "nuid": "974d1e38-5d98-4e76-afe4-52ada41e65fd",
     "showTitle": false,
     "title": ""
    }
   },
   "outputs": [],
   "source": [
    "dbutils.fs.mkdirs(\"/dataset\")\n",
    "dbutils.fs.cp('file:/databricks/driver/bank.csv','dbfs:/dataset/bank.csv')\n",
    "dbutils.fs.cp('file:/databricks/driver/vehicles.csv','dbfs:/dataset/vehicles.csv')\n",
    "dbutils.fs.cp('file:/databricks/driver/characters.csv','dbfs:/dataset/characters.csv')\n",
    "dbutils.fs.cp('file:/databricks/driver/planets.csv','dbfs:/dataset/planets.csv')\n",
    "dbutils.fs.cp('file:/databricks/driver/species.csv','dbfs:/dataset/species.csv')\n",
    "dbutils.fs.cp('file:/databricks/driver/melb_data.csv','dbfs:/dataset/melb_data.csv')"
   ]
  },
  {
   "cell_type": "markdown",
   "metadata": {
    "application/vnd.databricks.v1+cell": {
     "cellMetadata": {},
     "inputWidgets": {},
     "nuid": "91cb1a56-adab-4fe1-9026-587901979120",
     "showTitle": false,
     "title": ""
    },
    "id": "02Zwm3NRXS_I"
   },
   "source": [
    "# Windows Partitioning\n",
    "\n",
    "---\n",
    "\n"
   ]
  },
  {
   "cell_type": "markdown",
   "metadata": {
    "application/vnd.databricks.v1+cell": {
     "cellMetadata": {},
     "inputWidgets": {},
     "nuid": "d5e6d760-9d3e-4933-874c-8b4ae53ea244",
     "showTitle": false,
     "title": ""
    },
    "id": "h1o6f6QOjTcZ"
   },
   "source": [
    "## Example 1"
   ]
  },
  {
   "cell_type": "code",
   "execution_count": 0,
   "metadata": {
    "application/vnd.databricks.v1+cell": {
     "cellMetadata": {
      "byteLimit": 2048000,
      "rowLimit": 10000
     },
     "inputWidgets": {},
     "nuid": "9fc11917-3fb9-45c6-a5c0-0bf7645dbc7c",
     "showTitle": false,
     "title": ""
    },
    "colab": {
     "base_uri": "https://localhost:8080/"
    },
    "id": "USrsDETtstv-",
    "outputId": "d1264403-ed43-410d-8525-50609d00c668"
   },
   "outputs": [],
   "source": [
    "dbutils.fs.head(\"dbfs:/dataset/bank.csv\")"
   ]
  },
  {
   "cell_type": "markdown",
   "metadata": {
    "application/vnd.databricks.v1+cell": {
     "cellMetadata": {},
     "inputWidgets": {},
     "nuid": "cccc673f-b8d2-4773-9384-c51bb124c060",
     "showTitle": false,
     "title": ""
    },
    "id": "yjPpxRyJYA1h"
   },
   "source": [
    "Reading data from `bank.csv` file to a DataFrame"
   ]
  },
  {
   "cell_type": "code",
   "execution_count": 0,
   "metadata": {
    "application/vnd.databricks.v1+cell": {
     "cellMetadata": {
      "byteLimit": 2048000,
      "rowLimit": 10000
     },
     "inputWidgets": {},
     "nuid": "a49c5040-119f-4a70-83d5-9461457ed2ad",
     "showTitle": false,
     "title": ""
    },
    "id": "HnbafeFCVk8d"
   },
   "outputs": [],
   "source": [
    "from pyspark.sql.functions import *\n",
    "\n",
    "bank_df = spark.read.format(\"csv\") \\\n",
    "  .option(\"sep\", \";\") \\\n",
    "  .option(\"inferSchema\", \"true\") \\\n",
    "  .option(\"header\", \"true\") \\\n",
    "  .load(\"/dataset/bank.csv\")"
   ]
  },
  {
   "cell_type": "code",
   "execution_count": 0,
   "metadata": {
    "application/vnd.databricks.v1+cell": {
     "cellMetadata": {
      "byteLimit": 2048000,
      "rowLimit": 10000
     },
     "inputWidgets": {},
     "nuid": "804166e5-190f-48c7-9582-a379ff720557",
     "showTitle": false,
     "title": ""
    },
    "colab": {
     "base_uri": "https://localhost:8080/"
    },
    "id": "qxhLiwwXk6kD",
    "outputId": "f98c2b2a-1212-48b6-d7b1-ee5d83b7d132"
   },
   "outputs": [],
   "source": [
    "bank_df.display()"
   ]
  },
  {
   "cell_type": "markdown",
   "metadata": {
    "application/vnd.databricks.v1+cell": {
     "cellMetadata": {},
     "inputWidgets": {},
     "nuid": "e9d323c5-f018-4845-960f-accbd6689ac8",
     "showTitle": false,
     "title": ""
    },
    "id": "VHDroSQ1ZQSB"
   },
   "source": [
    "Get the balance of the two youngest people by job\n"
   ]
  },
  {
   "cell_type": "code",
   "execution_count": 0,
   "metadata": {
    "application/vnd.databricks.v1+cell": {
     "cellMetadata": {
      "byteLimit": 2048000,
      "rowLimit": 10000
     },
     "inputWidgets": {},
     "nuid": "be848059-4c23-4f22-ab3c-bed3eb797bcf",
     "showTitle": false,
     "title": ""
    },
    "colab": {
     "base_uri": "https://localhost:8080/"
    },
    "id": "3BEWmhhYqxp8",
    "outputId": "7fd0c1e4-dad5-4d55-cdd7-7bc460fe96b4"
   },
   "outputs": [],
   "source": [
    "from pyspark.sql.window import Window\n",
    "\n",
    "byJob = Window.partitionBy(\"job\").orderBy(\"age\")\n",
    "\n",
    "bank_df \\\n",
    "  .withColumn(\"new_column_job\", row_number().over(byJob)) \\\n",
    "  .filter(col(\"new_column_job\") <= 2) \\\n",
    "  .select(\"age\", \"job\", \"balance\") \\\n",
    "  .orderBy(\"job\", \"age\") \\\n",
    "  .display()"
   ]
  },
  {
   "cell_type": "markdown",
   "metadata": {
    "application/vnd.databricks.v1+cell": {
     "cellMetadata": {
      "byteLimit": 2048000,
      "rowLimit": 10000
     },
     "inputWidgets": {},
     "nuid": "404bd5a4-583a-4e45-8c35-2dd5fa5f1e8b",
     "showTitle": false,
     "title": ""
    },
    "id": "yzU_4EjAjZgh"
   },
   "source": [
    "## Exercise 1"
   ]
  },
  {
   "cell_type": "markdown",
   "metadata": {
    "application/vnd.databricks.v1+cell": {
     "cellMetadata": {
      "byteLimit": 2048000,
      "rowLimit": 10000
     },
     "inputWidgets": {},
     "nuid": "b92fb281-bbf0-440e-b27f-bcc82125b96f",
     "showTitle": false,
     "title": ""
    },
    "id": "sV-NchsMsHvF"
   },
   "source": [
    "Using the dataframe built from `bank.csv`file, get the TOP 3 of maximum balance by marital\n",
    "\n",
    "---\n",
    "\n",
    "\n"
   ]
  },
  {
   "cell_type": "code",
   "execution_count": 0,
   "metadata": {
    "application/vnd.databricks.v1+cell": {
     "cellMetadata": {
      "byteLimit": 2048000,
      "rowLimit": 10000
     },
     "inputWidgets": {},
     "nuid": "a927a2b7-5076-4600-afb5-efcd0673d2d1",
     "showTitle": false,
     "title": ""
    },
    "colab": {
     "base_uri": "https://localhost:8080/"
    },
    "id": "SgireGq6YWEj",
    "outputId": "daa8a8e3-a68b-456d-f1aa-9dc756224882"
   },
   "outputs": [],
   "source": []
  },
  {
   "cell_type": "markdown",
   "metadata": {
    "application/vnd.databricks.v1+cell": {
     "cellMetadata": {
      "byteLimit": 2048000,
      "rowLimit": 10000
     },
     "inputWidgets": {},
     "nuid": "87c2c008-1ca3-40c1-a907-594f82367509",
     "showTitle": false,
     "title": ""
    },
    "id": "bX0FXU7JawRm"
   },
   "source": [
    "## Exercise 2\n",
    "\n"
   ]
  },
  {
   "cell_type": "markdown",
   "metadata": {
    "application/vnd.databricks.v1+cell": {
     "cellMetadata": {
      "byteLimit": 2048000,
      "rowLimit": 10000
     },
     "inputWidgets": {},
     "nuid": "54ee9c73-35d1-4ae4-8bb7-47b3ea33edc1",
     "showTitle": false,
     "title": ""
    },
    "id": "eBtPRPnVmpGM"
   },
   "source": [
    "Load `vehicles.csv` file into a DataFrame\n",
    "\n",
    "---"
   ]
  },
  {
   "cell_type": "code",
   "execution_count": 0,
   "metadata": {
    "application/vnd.databricks.v1+cell": {
     "cellMetadata": {
      "byteLimit": 2048000,
      "rowLimit": 10000
     },
     "inputWidgets": {},
     "nuid": "c2ddf943-0555-477b-a8e7-4c9eff4b7292",
     "showTitle": false,
     "title": ""
    },
    "colab": {
     "base_uri": "https://localhost:8080/"
    },
    "id": "eYPt59chwJUw",
    "outputId": "9ba6c08a-646b-4b76-887e-49e8761f2879"
   },
   "outputs": [],
   "source": [
    "dbutils.fs.head(\"dbfs:/dataset/vehicles.csv\")"
   ]
  },
  {
   "cell_type": "code",
   "execution_count": 0,
   "metadata": {
    "application/vnd.databricks.v1+cell": {
     "cellMetadata": {
      "byteLimit": 2048000,
      "rowLimit": 10000
     },
     "inputWidgets": {},
     "nuid": "7a4f7b88-b813-490d-aa9f-dd348f5eca6d",
     "showTitle": false,
     "title": ""
    },
    "id": "mCDo_-PiaEVl"
   },
   "outputs": [],
   "source": []
  },
  {
   "cell_type": "markdown",
   "metadata": {
    "application/vnd.databricks.v1+cell": {
     "cellMetadata": {
      "byteLimit": 2048000,
      "rowLimit": 10000
     },
     "inputWidgets": {},
     "nuid": "5d17c03c-de05-4f0f-9c3b-bfc960610539",
     "showTitle": false,
     "title": ""
    },
    "id": "vCDfqm_UxUcn"
   },
   "source": [
    "For each vehicle, get the difference in price (`cost_in_credits`) for each product compared to the cheapest product in the same vehicle class\n",
    "\n",
    "\n",
    "---\n",
    "\n"
   ]
  },
  {
   "cell_type": "code",
   "execution_count": 0,
   "metadata": {
    "application/vnd.databricks.v1+cell": {
     "cellMetadata": {
      "byteLimit": 2048000,
      "rowLimit": 10000
     },
     "inputWidgets": {},
     "nuid": "00094d9b-549a-4278-b63d-08ad0d791198",
     "showTitle": false,
     "title": ""
    },
    "colab": {
     "base_uri": "https://localhost:8080/"
    },
    "id": "-n2R6MJlxP4w",
    "outputId": "32722204-de7c-4b48-ab57-f013d2bf23c6"
   },
   "outputs": [],
   "source": []
  },
  {
   "cell_type": "markdown",
   "metadata": {
    "application/vnd.databricks.v1+cell": {
     "cellMetadata": {
      "byteLimit": 2048000,
      "rowLimit": 10000
     },
     "inputWidgets": {},
     "nuid": "023964f5-df52-4a69-a6fb-bcb9ad718fa5",
     "showTitle": false,
     "title": ""
    },
    "id": "wpMMuB4guKOe"
   },
   "source": [
    "# Data Cleaning\n",
    "\n",
    "---\n",
    "\n"
   ]
  },
  {
   "cell_type": "markdown",
   "metadata": {
    "application/vnd.databricks.v1+cell": {
     "cellMetadata": {
      "byteLimit": 2048000,
      "rowLimit": 10000
     },
     "inputWidgets": {},
     "nuid": "bdcf834c-46a0-4d12-9c5b-2610e399dd8d",
     "showTitle": false,
     "title": ""
    },
    "id": "D47yHnG1uNlg"
   },
   "source": [
    "## Exercise 3\n",
    "---\n",
    "1. Read file `melb_data.csv`\n",
    "2. Get the number of houses built per year. Order the result by `YearBuilt`\n",
    "3. Drop all `null` values. Repeat the grouping of the previous point\n",
    "4. Drop `null` values only for column `YearBuilt`. Repeat the grouping specified in point 2\n",
    "5. Replace `null` values in column `YearBuilt` by `1900`. Repeat the grouping specified in point 2"
   ]
  },
  {
   "cell_type": "code",
   "execution_count": 0,
   "metadata": {
    "application/vnd.databricks.v1+cell": {
     "cellMetadata": {
      "byteLimit": 2048000,
      "rowLimit": 10000
     },
     "inputWidgets": {},
     "nuid": "c712c2ad-68f4-4156-82e4-71c73c1451b5",
     "showTitle": false,
     "title": ""
    },
    "colab": {
     "base_uri": "https://localhost:8080/"
    },
    "id": "uaA5_hn5vgZS",
    "outputId": "1ec28bae-a6ac-4e97-ba68-be8c1249f4a8"
   },
   "outputs": [],
   "source": [
    "dbutils.fs.head(\"/dataset/melb_data.csv\")"
   ]
  },
  {
   "cell_type": "code",
   "execution_count": 0,
   "metadata": {
    "application/vnd.databricks.v1+cell": {
     "cellMetadata": {
      "byteLimit": 2048000,
      "rowLimit": 10000
     },
     "inputWidgets": {},
     "nuid": "c517f784-a8c7-4369-b2df-62328307f9e2",
     "showTitle": false,
     "title": ""
    }
   },
   "outputs": [],
   "source": []
  },
  {
   "cell_type": "markdown",
   "metadata": {
    "application/vnd.databricks.v1+cell": {
     "cellMetadata": {
      "byteLimit": 2048000,
      "rowLimit": 10000
     },
     "inputWidgets": {},
     "nuid": "4ddc4dc9-5a81-4fd1-8a13-f817df8d214c",
     "showTitle": false,
     "title": ""
    },
    "id": "8GUV9KLzqR-4"
   },
   "source": [
    "# Joins"
   ]
  },
  {
   "cell_type": "markdown",
   "metadata": {
    "application/vnd.databricks.v1+cell": {
     "cellMetadata": {
      "byteLimit": 2048000,
      "rowLimit": 10000
     },
     "inputWidgets": {},
     "nuid": "a38e0248-d38f-40d1-ba37-dc3558b60a97",
     "showTitle": false,
     "title": ""
    },
    "id": "tZw41ki6kc3p"
   },
   "source": [
    "## Exercise 4"
   ]
  },
  {
   "cell_type": "markdown",
   "metadata": {
    "application/vnd.databricks.v1+cell": {
     "cellMetadata": {
      "byteLimit": 2048000,
      "rowLimit": 10000
     },
     "inputWidgets": {},
     "nuid": "03df0954-7c83-4085-97b0-2d05cd0e1bc8",
     "showTitle": false,
     "title": ""
    },
    "id": "YAzx5B5IkVeP"
   },
   "source": [
    "1. Create dataframes for files `characters.csv` and `planets.csv`\n",
    "2. Get the planet gravity for each character, selecting only the character name, planet name and gravity.\n",
    "\n",
    "\n",
    "---\n",
    "\n",
    "\n"
   ]
  },
  {
   "cell_type": "code",
   "execution_count": 0,
   "metadata": {
    "application/vnd.databricks.v1+cell": {
     "cellMetadata": {
      "byteLimit": 2048000,
      "rowLimit": 10000
     },
     "inputWidgets": {},
     "nuid": "8e71f099-e24a-4c70-9c22-edc9a65286dd",
     "showTitle": false,
     "title": ""
    },
    "colab": {
     "base_uri": "https://localhost:8080/"
    },
    "id": "WMlJTJzTkC2j",
    "outputId": "7985c0ec-efad-4e03-fbfe-a9e907513c71"
   },
   "outputs": [],
   "source": [
    "dbutils.fs.head(\"/dataset/characters.csv\")"
   ]
  },
  {
   "cell_type": "code",
   "execution_count": 0,
   "metadata": {
    "application/vnd.databricks.v1+cell": {
     "cellMetadata": {
      "byteLimit": 2048000,
      "rowLimit": 10000
     },
     "inputWidgets": {},
     "nuid": "64b7c7b6-ac9b-43b2-9732-40e653ab07c6",
     "showTitle": false,
     "title": ""
    }
   },
   "outputs": [],
   "source": [
    "\n",
    "dbutils.fs.head(\"/dataset/planets.csv\")"
   ]
  },
  {
   "cell_type": "code",
   "execution_count": 0,
   "metadata": {
    "application/vnd.databricks.v1+cell": {
     "cellMetadata": {
      "byteLimit": 2048000,
      "rowLimit": 10000
     },
     "inputWidgets": {},
     "nuid": "b915d6cc-5d83-4cc6-9afd-a2a2e2d9d770",
     "showTitle": false,
     "title": ""
    }
   },
   "outputs": [],
   "source": []
  },
  {
   "cell_type": "markdown",
   "metadata": {
    "application/vnd.databricks.v1+cell": {
     "cellMetadata": {
      "byteLimit": 2048000,
      "rowLimit": 10000
     },
     "inputWidgets": {},
     "nuid": "3c78c539-70c5-4d09-afa4-3a7ecb84b47a",
     "showTitle": false,
     "title": ""
    },
    "id": "HSEBVnVQlU52"
   },
   "source": [
    "## Exercise 5"
   ]
  },
  {
   "cell_type": "markdown",
   "metadata": {
    "application/vnd.databricks.v1+cell": {
     "cellMetadata": {
      "byteLimit": 2048000,
      "rowLimit": 10000
     },
     "inputWidgets": {},
     "nuid": "054e0b19-867b-484e-a6a3-be116c48d89a",
     "showTitle": false,
     "title": ""
    },
    "id": "JF4fyAaMlXsI"
   },
   "source": [
    "1. Check exercise 4. What join type are been used? Why?\n",
    "2. After checking execution plan, execute the following instructions:\n",
    "\n",
    "---"
   ]
  },
  {
   "cell_type": "code",
   "execution_count": 0,
   "metadata": {
    "application/vnd.databricks.v1+cell": {
     "cellMetadata": {
      "byteLimit": 2048000,
      "rowLimit": 10000
     },
     "inputWidgets": {},
     "nuid": "894fe045-8b34-4db7-b841-22ce75bb4cb2",
     "showTitle": false,
     "title": ""
    },
    "colab": {
     "base_uri": "https://localhost:8080/",
     "height": 35
    },
    "id": "SwEnVoVqnj7D",
    "outputId": "5b5f4374-22af-48b4-f31c-1105488dc3ce"
   },
   "outputs": [],
   "source": [
    "spark.conf.get(\"spark.databricks.adaptive.autoBroadcastJoinThreshold\")"
   ]
  },
  {
   "cell_type": "code",
   "execution_count": 0,
   "metadata": {
    "application/vnd.databricks.v1+cell": {
     "cellMetadata": {
      "byteLimit": 2048000,
      "rowLimit": 10000
     },
     "inputWidgets": {},
     "nuid": "0923006a-8389-4172-b1a5-2249be18200d",
     "showTitle": false,
     "title": ""
    }
   },
   "outputs": [],
   "source": [
    "spark.conf.set(\"spark.databricks.adaptive.autoBroadcastJoinThreshold\", \"-1\")"
   ]
  },
  {
   "cell_type": "code",
   "execution_count": 0,
   "metadata": {
    "application/vnd.databricks.v1+cell": {
     "cellMetadata": {
      "byteLimit": 2048000,
      "rowLimit": 10000
     },
     "inputWidgets": {},
     "nuid": "9dceb85c-105c-402a-8c27-6d34f3626f95",
     "showTitle": false,
     "title": ""
    }
   },
   "outputs": [],
   "source": [
    "spark.conf.set(\"spark.sql.autoBroadcastJoinThreshold\", \"-1\")"
   ]
  },
  {
   "cell_type": "code",
   "execution_count": 0,
   "metadata": {
    "application/vnd.databricks.v1+cell": {
     "cellMetadata": {
      "byteLimit": 2048000,
      "rowLimit": 10000
     },
     "inputWidgets": {},
     "nuid": "4be37788-6a24-47c9-a6b9-e03abcd530ee",
     "showTitle": false,
     "title": ""
    }
   },
   "outputs": [],
   "source": [
    "spark.conf.get(\"spark.sql.autoBroadcastJoinThreshold\")"
   ]
  },
  {
   "cell_type": "markdown",
   "metadata": {
    "application/vnd.databricks.v1+cell": {
     "cellMetadata": {
      "byteLimit": 2048000,
      "rowLimit": 10000
     },
     "inputWidgets": {},
     "nuid": "5fb6e140-ad98-46be-ab52-c57bb90a8ac4",
     "showTitle": false,
     "title": ""
    },
    "id": "pxqgghUnlWe3"
   },
   "source": [
    "**Execute again the query of the exercise 4**"
   ]
  },
  {
   "cell_type": "code",
   "execution_count": 0,
   "metadata": {
    "application/vnd.databricks.v1+cell": {
     "cellMetadata": {
      "byteLimit": 2048000,
      "rowLimit": 10000
     },
     "inputWidgets": {},
     "nuid": "00605ee0-8bfd-4c9f-9dc7-2f4aa11e743d",
     "showTitle": false,
     "title": ""
    }
   },
   "outputs": [],
   "source": [
    "spark.conf.set(\"spark.databricks.adaptive.autoBroadcastJoinThreshold\", \"30MB\")"
   ]
  },
  {
   "cell_type": "code",
   "execution_count": 0,
   "metadata": {
    "application/vnd.databricks.v1+cell": {
     "cellMetadata": {
      "byteLimit": 2048000,
      "rowLimit": 10000
     },
     "inputWidgets": {},
     "nuid": "ea7dc470-cce1-4e82-8350-6c8106551aa9",
     "showTitle": false,
     "title": ""
    }
   },
   "outputs": [],
   "source": [
    "spark.conf.set(\"spark.sql.autoBroadcastJoinThreshold\", \"30MB\")"
   ]
  },
  {
   "cell_type": "markdown",
   "metadata": {
    "application/vnd.databricks.v1+cell": {
     "cellMetadata": {
      "byteLimit": 2048000,
      "rowLimit": 10000
     },
     "inputWidgets": {},
     "nuid": "9f4bdfe6-3745-4ba7-9edf-4b575a6fe0e7",
     "showTitle": false,
     "title": ""
    },
    "id": "yT-AFIMvm43z"
   },
   "source": [
    "## Exercise 6"
   ]
  },
  {
   "cell_type": "markdown",
   "metadata": {
    "application/vnd.databricks.v1+cell": {
     "cellMetadata": {
      "byteLimit": 2048000,
      "rowLimit": 10000
     },
     "inputWidgets": {},
     "nuid": "cdd0496c-8d54-49f0-9ae1-7c85b48cfca1",
     "showTitle": false,
     "title": ""
    },
    "id": "C9UBVU6ym9ue"
   },
   "source": [
    "1. Create a DataFrame from `species.csv`.\n",
    "2. Repartition the species and characters Dataframes to 100 partitions\n",
    "\n",
    "---\n",
    "\n"
   ]
  },
  {
   "cell_type": "code",
   "execution_count": 0,
   "metadata": {
    "application/vnd.databricks.v1+cell": {
     "cellMetadata": {
      "byteLimit": 2048000,
      "rowLimit": 10000
     },
     "inputWidgets": {},
     "nuid": "32bfadc3-0942-4fa0-a082-0addb3575f38",
     "showTitle": false,
     "title": ""
    }
   },
   "outputs": [],
   "source": []
  },
  {
   "cell_type": "markdown",
   "metadata": {
    "application/vnd.databricks.v1+cell": {
     "cellMetadata": {
      "byteLimit": 2048000,
      "rowLimit": 10000
     },
     "inputWidgets": {},
     "nuid": "0f6fb981-523d-41af-8048-42dcbf5b7c82",
     "showTitle": false,
     "title": ""
    },
    "id": "tv0AmHi926F7"
   },
   "source": [
    "## Exercise 7"
   ]
  },
  {
   "cell_type": "markdown",
   "metadata": {
    "application/vnd.databricks.v1+cell": {
     "cellMetadata": {
      "byteLimit": 2048000,
      "rowLimit": 10000
     },
     "inputWidgets": {},
     "nuid": "2b1bbd05-0358-49df-8b16-1ac11e2c1ada",
     "showTitle": false,
     "title": ""
    },
    "id": "WR6FPU3b29TP"
   },
   "source": [
    "- Set `spark.databricks.optimizer.adaptive.enabled` property to `False`\n",
    "- Get the specie classification for each character. \n",
    "- Select only the character name and its classification<br>\n",
    "**Use the DataFrames repartitioned previously in Exercise 6**\n",
    "\n",
    "\n",
    "---\n",
    "\n"
   ]
  },
  {
   "cell_type": "code",
   "execution_count": 0,
   "metadata": {
    "application/vnd.databricks.v1+cell": {
     "cellMetadata": {
      "byteLimit": 2048000,
      "rowLimit": 10000
     },
     "inputWidgets": {},
     "nuid": "a2c8871c-08c6-4203-8ebb-a895adcebbe0",
     "showTitle": false,
     "title": ""
    }
   },
   "outputs": [],
   "source": []
  },
  {
   "cell_type": "markdown",
   "metadata": {
    "application/vnd.databricks.v1+cell": {
     "cellMetadata": {
      "byteLimit": 2048000,
      "rowLimit": 10000
     },
     "inputWidgets": {},
     "nuid": "aed06ece-810a-46e8-8664-d48d8594801d",
     "showTitle": false,
     "title": ""
    },
    "id": "xG81SgpY4P3t"
   },
   "source": [
    "## Exercise 8"
   ]
  },
  {
   "cell_type": "markdown",
   "metadata": {
    "application/vnd.databricks.v1+cell": {
     "cellMetadata": {
      "byteLimit": 2048000,
      "rowLimit": 10000
     },
     "inputWidgets": {},
     "nuid": "6e4ac17f-6a94-4311-a6a3-f9ec47b8cab6",
     "showTitle": false,
     "title": ""
    },
    "id": "56fGSsmt4adO"
   },
   "source": [
    "1. Execute the following statement over the DataFrame built in exercise 7. `classDF` is the output DataFrame coming from the previous exercise\n",
    "2. Check the difference in terms of rows distribution across all partitions\n",
    "\n",
    "---\n",
    "\n"
   ]
  },
  {
   "cell_type": "code",
   "execution_count": 0,
   "metadata": {
    "application/vnd.databricks.v1+cell": {
     "cellMetadata": {
      "byteLimit": 2048000,
      "rowLimit": 10000
     },
     "inputWidgets": {},
     "nuid": "b1817e53-6cbf-48d3-8c42-d4b1cb522360",
     "showTitle": false,
     "title": ""
    },
    "colab": {
     "base_uri": "https://localhost:8080/"
    },
    "id": "XhNn5PZX6Dpf",
    "outputId": "5539515d-90d4-4ad1-ef9a-54cbd98b04b3"
   },
   "outputs": [],
   "source": []
  },
  {
   "cell_type": "markdown",
   "metadata": {
    "application/vnd.databricks.v1+cell": {
     "cellMetadata": {
      "byteLimit": 2048000,
      "rowLimit": 10000
     },
     "inputWidgets": {},
     "nuid": "40209b2a-994f-44a0-9f38-17e023009a77",
     "showTitle": false,
     "title": ""
    },
    "id": "OtLPpgH_jFIU"
   },
   "source": [
    "# Spark 3. Adaptative Query Execution - AQE"
   ]
  },
  {
   "cell_type": "markdown",
   "metadata": {
    "application/vnd.databricks.v1+cell": {
     "cellMetadata": {
      "byteLimit": 2048000,
      "rowLimit": 10000
     },
     "inputWidgets": {},
     "nuid": "5587d1c9-f16f-4175-8fe7-23c5186eb188",
     "showTitle": false,
     "title": ""
    },
    "id": "FuKUdb2hv9GV"
   },
   "source": [
    "## Exercise 9\n",
    "---\n",
    "**Coalescing partitions**<br>\n",
    "Try to execute the following query twice:\n",
    "- In the first execution, set to `False` the configuration parameter `spark.databricks.optimizer.adaptive.enabled`.\n",
    "- Set up to `True` previous configuration parameter and repeat the query.\n"
   ]
  },
  {
   "cell_type": "code",
   "execution_count": 0,
   "metadata": {
    "application/vnd.databricks.v1+cell": {
     "cellMetadata": {
      "byteLimit": 2048000,
      "rowLimit": 10000
     },
     "inputWidgets": {},
     "nuid": "2b0b21ba-1ee3-4a69-8ac8-2bb3a48897c3",
     "showTitle": false,
     "title": ""
    }
   },
   "outputs": [],
   "source": [
    "spark.conf.get(\"spark.databricks.optimizer.adaptive.enabled\")"
   ]
  },
  {
   "cell_type": "code",
   "execution_count": 0,
   "metadata": {
    "application/vnd.databricks.v1+cell": {
     "cellMetadata": {
      "byteLimit": 2048000,
      "rowLimit": 10000
     },
     "inputWidgets": {},
     "nuid": "f6b24cc7-8810-423b-aee6-fce1b19df65d",
     "showTitle": false,
     "title": ""
    }
   },
   "outputs": [],
   "source": [
    "spark.conf.set(\"spark.databricks.optimizer.adaptive.enabled\",False)"
   ]
  },
  {
   "cell_type": "code",
   "execution_count": 0,
   "metadata": {
    "application/vnd.databricks.v1+cell": {
     "cellMetadata": {
      "byteLimit": 2048000,
      "rowLimit": 10000
     },
     "inputWidgets": {},
     "nuid": "c710843b-e351-4a01-958e-1de9ecc4e34f",
     "showTitle": false,
     "title": ""
    },
    "colab": {
     "base_uri": "https://localhost:8080/"
    },
    "id": "jg8Myf6mjd7m",
    "outputId": "3d39bd78-0338-438b-a3ce-a725adfd8542"
   },
   "outputs": [],
   "source": [
    "simpleData = [(\"James\",\"Sales\",\"NY\",90000,34,10000), \\\n",
    "    (\"Michael\",\"Sales\",\"NY\",86000,56,20000), \\\n",
    "    (\"Robert\",\"Sales\",\"CA\",81000,30,23000), \\\n",
    "    (\"Maria\",\"Finance\",\"CA\",90000,24,23000), \\\n",
    "    (\"Raman\",\"Finance\",\"CA\",99000,40,24000), \\\n",
    "    (\"Scott\",\"Finance\",\"NY\",83000,36,19000), \\\n",
    "    (\"Jen\",\"Finance\",\"NY\",79000,53,15000), \\\n",
    "    (\"Jeff\",\"Marketing\",\"CA\",80000,25,18000), \\\n",
    "    (\"Kumar\",\"Marketing\",\"NY\",91000,50,21000)]\n",
    "\n",
    "df = spark.sparkContext.parallelize(simpleData).toDF(['name','department','zip','max_salary','age','min_salary'])\n",
    "\n",
    "df1 = df.groupBy(\"department\").count()\n",
    "\n",
    "df1.show()"
   ]
  },
  {
   "cell_type": "code",
   "execution_count": 0,
   "metadata": {
    "application/vnd.databricks.v1+cell": {
     "cellMetadata": {
      "byteLimit": 2048000,
      "rowLimit": 10000
     },
     "inputWidgets": {},
     "nuid": "16b30fd9-0f14-421e-9340-770b72992f3c",
     "showTitle": false,
     "title": ""
    },
    "id": "YBeMgvz5jwfn"
   },
   "outputs": [],
   "source": [
    "spark.conf.set(\"spark.databricks.optimizer.adaptive.enabled\",True)"
   ]
  },
  {
   "cell_type": "markdown",
   "metadata": {
    "application/vnd.databricks.v1+cell": {
     "cellMetadata": {
      "byteLimit": 2048000,
      "rowLimit": 10000
     },
     "inputWidgets": {},
     "nuid": "dd42efeb-a3f1-4b57-bac4-935b283aaefd",
     "showTitle": false,
     "title": ""
    },
    "id": "WWyJOlcTwEZb"
   },
   "source": [
    "## Example 2\n",
    "---\n",
    "**Tail**"
   ]
  },
  {
   "cell_type": "code",
   "execution_count": 0,
   "metadata": {
    "application/vnd.databricks.v1+cell": {
     "cellMetadata": {
      "byteLimit": 2048000,
      "rowLimit": 10000
     },
     "inputWidgets": {},
     "nuid": "3991b120-2954-4a18-84c3-003136a7a18f",
     "showTitle": false,
     "title": ""
    },
    "colab": {
     "base_uri": "https://localhost:8080/"
    },
    "id": "ceF8Al50wH74",
    "outputId": "1f70bf31-a605-4d49-d941-2fff6fdcd607"
   },
   "outputs": [],
   "source": [
    "df.tail(2)"
   ]
  },
  {
   "cell_type": "markdown",
   "metadata": {
    "application/vnd.databricks.v1+cell": {
     "cellMetadata": {
      "byteLimit": 2048000,
      "rowLimit": 10000
     },
     "inputWidgets": {},
     "nuid": "3ab0f273-6046-458d-a238-42929890d4d7",
     "showTitle": false,
     "title": ""
    },
    "id": "BEchOwI0wTjx"
   },
   "source": [
    "## Example 3\n",
    "---\n",
    "**Repartition in SQL**"
   ]
  },
  {
   "cell_type": "code",
   "execution_count": 0,
   "metadata": {
    "application/vnd.databricks.v1+cell": {
     "cellMetadata": {
      "byteLimit": 2048000,
      "rowLimit": 10000
     },
     "inputWidgets": {},
     "nuid": "09fc5610-614b-46ba-ae9d-859ab47f89d1",
     "showTitle": false,
     "title": ""
    },
    "colab": {
     "base_uri": "https://localhost:8080/"
    },
    "id": "0IEs3uh6wKp_",
    "outputId": "6f38fd4e-fa81-4c9e-f13b-7764a8ae8566"
   },
   "outputs": [],
   "source": [
    "print(\"Before re-partition :\" + str(df.rdd.getNumPartitions()))\n",
    "df.createOrReplaceTempView(\"RANGE_TABLE\")\n",
    "df2=spark.sql(\"SELECT /*+ REPARTITION(20) */ * FROM RANGE_TABLE\")\n",
    "print(\"After re-partition :\" + str(df2.rdd.getNumPartitions()))"
   ]
  },
  {
   "cell_type": "code",
   "execution_count": 0,
   "metadata": {
    "application/vnd.databricks.v1+cell": {
     "cellMetadata": {
      "byteLimit": 2048000,
      "rowLimit": 10000
     },
     "inputWidgets": {},
     "nuid": "77b90d02-3e1a-4ef2-a3e0-0f5cb5861788",
     "showTitle": false,
     "title": ""
    },
    "id": "3_mbSlpWwWzP"
   },
   "outputs": [],
   "source": []
  }
 ],
 "metadata": {
  "application/vnd.databricks.v1+notebook": {
   "dashboards": [],
   "environmentMetadata": null,
   "language": "python",
   "notebookMetadata": {
    "mostRecentlyExecutedCommandWithImplicitDF": {
     "commandId": 1673892751449703,
     "dataframes": [
      "_sqldf"
     ]
    },
    "pythonIndentUnit": 2
   },
   "notebookName": "1.1.Spark SQL Advanced",
   "widgets": {}
  },
  "colab": {
   "collapsed_sections": [
    "Jq9d0x1OTh2N",
    "8Z0h3dF9Vg4X",
    "h1o6f6QOjTcZ",
    "tv0AmHi926F7"
   ],
   "provenance": [],
   "toc_visible": true
  },
  "kernelspec": {
   "display_name": "Python 3",
   "name": "python3"
  }
 },
 "nbformat": 4,
 "nbformat_minor": 0
}
