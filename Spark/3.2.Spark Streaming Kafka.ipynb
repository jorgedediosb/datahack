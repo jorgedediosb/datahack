{
 "cells": [
  {
   "cell_type": "markdown",
   "metadata": {
    "application/vnd.databricks.v1+cell": {
     "cellMetadata": {
      "byteLimit": 2048000,
      "rowLimit": 10000
     },
     "inputWidgets": {},
     "nuid": "b6ef4018-4842-40f0-860c-74a3cbdc3ddb",
     "showTitle": false,
     "title": ""
    },
    "id": "rPVTLyFgrCJZ"
   },
   "source": [
    "# Structured Streaming with Apache Kafka"
   ]
  },
  {
   "cell_type": "markdown",
   "metadata": {
    "application/vnd.databricks.v1+cell": {
     "cellMetadata": {
      "byteLimit": 2048000,
      "rowLimit": 10000
     },
     "inputWidgets": {},
     "nuid": "943ee4d5-0464-43e8-ad4f-2ed555521614",
     "showTitle": false,
     "title": ""
    },
    "id": "42PI1onm9kIh"
   },
   "source": [
    "## Example 1"
   ]
  },
  {
   "cell_type": "markdown",
   "metadata": {
    "application/vnd.databricks.v1+cell": {
     "cellMetadata": {
      "byteLimit": 2048000,
      "rowLimit": 10000
     },
     "inputWidgets": {},
     "nuid": "7aab45e2-350f-46cc-9544-a381ba62914c",
     "showTitle": false,
     "title": ""
    },
    "id": "nbf8iJP0AlkN"
   },
   "source": [
    "Reading a Kafka topic in AWS.\n",
    "Before executing this code, replace `kafka:9094` by the right bootstrap server"
   ]
  },
  {
   "cell_type": "code",
   "execution_count": 0,
   "metadata": {
    "application/vnd.databricks.v1+cell": {
     "cellMetadata": {
      "byteLimit": 2048000,
      "rowLimit": 10000
     },
     "inputWidgets": {},
     "nuid": "397f8f56-69a7-4283-82b2-aff575691525",
     "showTitle": false,
     "title": ""
    },
    "colab": {
     "base_uri": "https://localhost:8080/"
    },
    "id": "PUIqs27uAvM9",
    "outputId": "eb110574-cde1-4d33-f953-cbeb3c24e5dc"
   },
   "outputs": [],
   "source": [
    "from pyspark.sql.functions import from_json, col\n",
    "from pyspark.sql.types import StructType, StructField, StringType\n",
    "\n",
    "df = spark \\\n",
    "  .readStream \\\n",
    "  .format(\"kafka\") \\\n",
    "  .option(\"kafka.bootstrap.servers\", \"34.73.125.79:9094\") \\\n",
    "  .option(\"subscribe\", \"toots\") \\\n",
    "  .load()\n",
    "  \n",
    "schema = StructType(\n",
    "    [\n",
    "        StructField('id', StringType(), True),\n",
    "        StructField('content', StringType(), True),\n",
    "        StructField('created_at', StringType(), True),\n",
    "        StructField('account', StringType(), True)\n",
    "    ]\n",
    ")\n",
    "df.printSchema()\n",
    "\n",
    "dataset = df.selectExpr(\"CAST(key AS STRING)\", \"CAST(value AS STRING)\", \"timestamp\") \\\n",
    "    .withColumn(\"value\", from_json(\"value\", schema)) \\\n",
    "    .select(col('key'), col(\"timestamp\"), col('value.*'))"
   ]
  },
  {
   "cell_type": "code",
   "execution_count": 0,
   "metadata": {
    "application/vnd.databricks.v1+cell": {
     "cellMetadata": {
      "byteLimit": 2048000,
      "rowLimit": 10000
     },
     "inputWidgets": {},
     "nuid": "9bd57d8f-594e-4274-8ab4-04ecef66e5f4",
     "showTitle": false,
     "title": ""
    },
    "colab": {
     "base_uri": "https://localhost:8080/"
    },
    "id": "FFE9-1mVb0oL",
    "outputId": "289e8c2a-40c5-43c9-974e-878ef6fd9a4a"
   },
   "outputs": [],
   "source": [
    "dataset.writeStream \\\n",
    " .outputMode(\"append\") \\\n",
    " .format(\"memory\") \\\n",
    " .option(\"truncate\", \"false\") \\\n",
    " .queryName(\"toots_topic\") \\\n",
    " .start()"
   ]
  },
  {
   "cell_type": "code",
   "execution_count": 0,
   "metadata": {
    "application/vnd.databricks.v1+cell": {
     "cellMetadata": {
      "byteLimit": 2048000,
      "implicitDf": true,
      "rowLimit": 10000
     },
     "inputWidgets": {},
     "nuid": "4307908c-d816-40ce-a4af-ae8a9a6d6060",
     "showTitle": false,
     "title": ""
    },
    "colab": {
     "base_uri": "https://localhost:8080/"
    },
    "id": "FeYb_B40b4Yz",
    "outputId": "6d0a9dfe-2150-48dc-c859-fe8c0d10dbd7"
   },
   "outputs": [],
   "source": [
    "%sql\n",
    "SELECT\n",
    "  *\n",
    "FROM\n",
    "  toots_topic"
   ]
  },
  {
   "cell_type": "markdown",
   "metadata": {
    "application/vnd.databricks.v1+cell": {
     "cellMetadata": {
      "byteLimit": 2048000,
      "rowLimit": 10000
     },
     "inputWidgets": {},
     "nuid": "e5e566c2-0d7f-4240-80d3-dfe7a2479735",
     "showTitle": false,
     "title": ""
    },
    "id": "jkR3V9kYE6IF"
   },
   "source": [
    "## Exercise 1"
   ]
  },
  {
   "cell_type": "markdown",
   "metadata": {
    "application/vnd.databricks.v1+cell": {
     "cellMetadata": {
      "byteLimit": 2048000,
      "rowLimit": 10000
     },
     "inputWidgets": {},
     "nuid": "42bca667-4e8e-4ba3-ac27-a05e270a1861",
     "showTitle": false,
     "title": ""
    },
    "id": "JmTOOQQUE8KV"
   },
   "source": [
    "Apply a sliding window each minute, 5 minutes of duration, grouping by `server`, applying a count per domain. A server in Mastodon is the domain in account column\n",
    "\n",
    "---\n",
    "\n"
   ]
  },
  {
   "cell_type": "code",
   "execution_count": 0,
   "metadata": {
    "application/vnd.databricks.v1+cell": {
     "cellMetadata": {
      "byteLimit": 2048000,
      "implicitDf": true,
      "rowLimit": 10000
     },
     "inputWidgets": {},
     "nuid": "2109698b-beaa-4037-befb-479faed9d80b",
     "showTitle": false,
     "title": ""
    }
   },
   "outputs": [],
   "source": []
  },
  {
   "cell_type": "markdown",
   "metadata": {
    "application/vnd.databricks.v1+cell": {
     "cellMetadata": {
      "byteLimit": 2048000,
      "rowLimit": 10000
     },
     "inputWidgets": {},
     "nuid": "83f10342-c437-40e2-9e95-638bb40fd9dd",
     "showTitle": false,
     "title": ""
    },
    "id": "2W5pcAqFdk0h"
   },
   "source": [
    "## Exercise 2"
   ]
  },
  {
   "cell_type": "markdown",
   "metadata": {
    "application/vnd.databricks.v1+cell": {
     "cellMetadata": {
      "byteLimit": 2048000,
      "rowLimit": 10000
     },
     "inputWidgets": {},
     "nuid": "880a447c-b4ff-44b2-84a7-5b0a49aff56c",
     "showTitle": false,
     "title": ""
    },
    "id": "hDW6jxpsdoGI"
   },
   "source": [
    "Each minute, get the number of toots received in last 5 minutes\n",
    "\n",
    "---\n",
    "\n"
   ]
  },
  {
   "cell_type": "code",
   "execution_count": 0,
   "metadata": {
    "application/vnd.databricks.v1+cell": {
     "cellMetadata": {
      "byteLimit": 2048000,
      "implicitDf": true,
      "rowLimit": 10000
     },
     "inputWidgets": {},
     "nuid": "4adeb964-7c68-4cef-bf41-c0c0a714065a",
     "showTitle": false,
     "title": ""
    }
   },
   "outputs": [],
   "source": []
  },
  {
   "cell_type": "markdown",
   "metadata": {
    "application/vnd.databricks.v1+cell": {
     "cellMetadata": {
      "byteLimit": 2048000,
      "rowLimit": 10000
     },
     "inputWidgets": {},
     "nuid": "fa94a729-6891-485a-8ecf-56d2a2b12247",
     "showTitle": false,
     "title": ""
    },
    "id": "pxJyQip9exxX"
   },
   "source": [
    "## Exercise 3"
   ]
  },
  {
   "cell_type": "markdown",
   "metadata": {
    "application/vnd.databricks.v1+cell": {
     "cellMetadata": {
      "byteLimit": 2048000,
      "rowLimit": 10000
     },
     "inputWidgets": {},
     "nuid": "4b5d3bb8-a955-4f24-bc2d-384e4923be96",
     "showTitle": false,
     "title": ""
    },
    "id": "5wbL-LCuezVu"
   },
   "source": [
    "Get top words with more than 3 letters in 1 minute slots\n",
    "\n",
    "---\n",
    "\n"
   ]
  },
  {
   "cell_type": "code",
   "execution_count": 0,
   "metadata": {
    "application/vnd.databricks.v1+cell": {
     "cellMetadata": {
      "byteLimit": 2048000,
      "rowLimit": 10000
     },
     "inputWidgets": {},
     "nuid": "ed29cef7-184c-4bfe-bb8c-7c758eae7c5b",
     "showTitle": false,
     "title": ""
    },
    "colab": {
     "base_uri": "https://localhost:8080/"
    },
    "id": "VQbOueaAeDX0",
    "outputId": "cf9b4a2a-2873-4ff9-fcd9-a68be926747b"
   },
   "outputs": [],
   "source": []
  },
  {
   "cell_type": "markdown",
   "metadata": {
    "application/vnd.databricks.v1+cell": {
     "cellMetadata": {
      "byteLimit": 2048000,
      "rowLimit": 10000
     },
     "inputWidgets": {},
     "nuid": "079ea0e1-410c-4aab-8ac6-75784186f51a",
     "showTitle": false,
     "title": ""
    }
   },
   "source": [
    "## Clean up DBFS"
   ]
  },
  {
   "cell_type": "code",
   "execution_count": 0,
   "metadata": {
    "application/vnd.databricks.v1+cell": {
     "cellMetadata": {
      "byteLimit": 2048000,
      "rowLimit": 10000
     },
     "inputWidgets": {},
     "nuid": "ec352ab9-9a46-4649-b81c-6ffad69908c5",
     "showTitle": false,
     "title": ""
    }
   },
   "outputs": [],
   "source": [
    "%scala\n",
    "// Clean up\n",
    "val PATH = \"dbfs:/tmp/\"\n",
    "dbutils.fs.ls(PATH)\n",
    "            .map(_.name)\n",
    "            .foreach((file: String) => dbutils.fs.rm(PATH + file, true))"
   ]
  }
 ],
 "metadata": {
  "application/vnd.databricks.v1+notebook": {
   "dashboards": [],
   "environmentMetadata": null,
   "language": "python",
   "notebookMetadata": {
    "mostRecentlyExecutedCommandWithImplicitDF": {
     "commandId": 3775767141637080,
     "dataframes": [
      "_sqldf"
     ]
    },
    "pythonIndentUnit": 2
   },
   "notebookName": "3.2.Spark Streaming Kafka",
   "widgets": {}
  },
  "colab": {
   "collapsed_sections": [],
   "provenance": [],
   "toc_visible": true
  },
  "kernelspec": {
   "display_name": "Python 3",
   "name": "python3"
  }
 },
 "nbformat": 4,
 "nbformat_minor": 0
}
