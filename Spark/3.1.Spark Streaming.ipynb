{
 "cells": [
  {
   "cell_type": "markdown",
   "metadata": {
    "application/vnd.databricks.v1+cell": {
     "cellMetadata": {
      "byteLimit": 2048000,
      "rowLimit": 10000
     },
     "inputWidgets": {},
     "nuid": "01fdb178-6a8f-4553-a96e-136e0744f2fd",
     "showTitle": false,
     "title": ""
    },
    "id": "8Z0h3dF9Vg4X"
   },
   "source": [
    "# Download Datasets"
   ]
  },
  {
   "cell_type": "code",
   "execution_count": 0,
   "metadata": {
    "application/vnd.databricks.v1+cell": {
     "cellMetadata": {
      "byteLimit": 2048000,
      "rowLimit": 10000
     },
     "inputWidgets": {},
     "nuid": "a2be725e-f792-4224-9a10-152bcde68fa2",
     "showTitle": false,
     "title": ""
    },
    "colab": {
     "base_uri": "https://localhost:8080/"
    },
    "id": "KBDin-0sXgyI",
    "outputId": "681ac0b0-ac2c-4b10-edba-bec4cf21660c"
   },
   "outputs": [],
   "source": [
    "%sh \n",
    "curl -O 'https://raw.githubusercontent.com/masfworld/datahack_docker/master/zeppelin/data/el_quijote.txt'\n",
    "curl -O 'https://raw.githubusercontent.com/masfworld/datahack_docker/master/zeppelin/data/frankenstein.txt'\n",
    "curl -O 'https://raw.githubusercontent.com/masfworld/datahack_docker/master/zeppelin/data/characters.csv'\n",
    "curl -O 'https://raw.githubusercontent.com/masfworld/datahack_docker/master/zeppelin/data/species.csv'"
   ]
  },
  {
   "cell_type": "code",
   "execution_count": 0,
   "metadata": {
    "application/vnd.databricks.v1+cell": {
     "cellMetadata": {
      "byteLimit": 2048000,
      "rowLimit": 10000
     },
     "inputWidgets": {},
     "nuid": "e843b7b0-932c-43a5-8dd2-290066fbc555",
     "showTitle": false,
     "title": ""
    }
   },
   "outputs": [],
   "source": [
    "dbutils.fs.rm(\"/dataset/streaming\", True)\n",
    "dbutils.fs.mkdirs(\"/dataset/streaming\")\n",
    "dbutils.fs.cp('file:/databricks/driver/el_quijote.txt','dbfs:/dataset/streaming/el_quijote.txt')\n",
    "dbutils.fs.cp('file:/databricks/driver/frankenstein.txt','dbfs:/dataset/frankenstein.txt')\n",
    "dbutils.fs.cp('file:/databricks/driver/characters.csv','dbfs:/dataset/characters.csv')\n",
    "dbutils.fs.cp('file:/databricks/driver/species.csv','dbfs:/dataset/species.csv')"
   ]
  },
  {
   "cell_type": "markdown",
   "metadata": {
    "application/vnd.databricks.v1+cell": {
     "cellMetadata": {
      "byteLimit": 2048000,
      "rowLimit": 10000
     },
     "inputWidgets": {},
     "nuid": "30c82f68-1e2a-470c-a3d4-d3749b5f7171",
     "showTitle": false,
     "title": ""
    },
    "id": "02Zwm3NRXS_I"
   },
   "source": [
    "# Structured Streaming\n",
    "\n",
    "---\n",
    "\n"
   ]
  },
  {
   "cell_type": "markdown",
   "metadata": {
    "application/vnd.databricks.v1+cell": {
     "cellMetadata": {
      "byteLimit": 2048000,
      "rowLimit": 10000
     },
     "inputWidgets": {},
     "nuid": "3c8056f5-8e52-4033-9076-42ebbc3b56c3",
     "showTitle": false,
     "title": ""
    },
    "id": "h1o6f6QOjTcZ"
   },
   "source": [
    "## Example 1"
   ]
  },
  {
   "cell_type": "markdown",
   "metadata": {
    "application/vnd.databricks.v1+cell": {
     "cellMetadata": {
      "byteLimit": 2048000,
      "rowLimit": 10000
     },
     "inputWidgets": {},
     "nuid": "1c4cc931-d240-4f02-927f-3847aea33fa8",
     "showTitle": false,
     "title": ""
    },
    "id": "yjPpxRyJYA1h"
   },
   "source": [
    "Read a streaming folder"
   ]
  },
  {
   "cell_type": "code",
   "execution_count": 0,
   "metadata": {
    "application/vnd.databricks.v1+cell": {
     "cellMetadata": {
      "byteLimit": 2048000,
      "rowLimit": 10000
     },
     "inputWidgets": {},
     "nuid": "cbbde9c8-3c73-4621-93eb-70c0a041c2e5",
     "showTitle": false,
     "title": ""
    },
    "colab": {
     "base_uri": "https://localhost:8080/"
    },
    "id": "HnbafeFCVk8d",
    "outputId": "7c3b356f-c746-4021-e4c5-8ff656ec2809"
   },
   "outputs": [],
   "source": [
    "from pyspark.sql.functions import *\n",
    "\n",
    "lines = spark \\\n",
    "  .readStream \\\n",
    "  .format(\"text\") \\\n",
    "  .load(\"/dataset/streaming/\")\n",
    "\n",
    "words = lines.select(\n",
    "    explode(split(col(\"value\"), \" \")).alias(\"word\"),    \n",
    ")\n",
    "\n",
    "groupedWords = words \\\n",
    "  .groupBy(\"word\") \\\n",
    "  .count() \\\n",
    "  .sort(col(\"count\").desc())\n",
    "\n",
    "query = groupedWords \\\n",
    "  .writeStream \\\n",
    "  .outputMode(\"complete\") \\\n",
    "  .format(\"memory\") \\\n",
    "  .queryName(\"testquijote\")\n",
    "\n",
    "query.start()\n",
    "\n"
   ]
  },
  {
   "cell_type": "code",
   "execution_count": 0,
   "metadata": {
    "application/vnd.databricks.v1+cell": {
     "cellMetadata": {
      "byteLimit": 2048000,
      "rowLimit": 10000
     },
     "inputWidgets": {},
     "nuid": "bd5908dc-cf57-4511-b17a-56c0f3afd54f",
     "showTitle": false,
     "title": ""
    }
   },
   "outputs": [],
   "source": [
    "groupedWords.display()"
   ]
  },
  {
   "cell_type": "code",
   "execution_count": 0,
   "metadata": {
    "application/vnd.databricks.v1+cell": {
     "cellMetadata": {
      "byteLimit": 2048000,
      "rowLimit": 10000
     },
     "inputWidgets": {},
     "nuid": "40499f2f-ebf8-443b-8259-ded286beddaa",
     "showTitle": false,
     "title": ""
    },
    "colab": {
     "base_uri": "https://localhost:8080/"
    },
    "id": "HTGfY-5LskwQ",
    "outputId": "1b1d5b9a-98b8-40c7-a1de-c581ba6cf5c6"
   },
   "outputs": [],
   "source": [
    "spark.sql(\"select * from testquijote limit 10\").show()"
   ]
  },
  {
   "cell_type": "markdown",
   "metadata": {
    "application/vnd.databricks.v1+cell": {
     "cellMetadata": {
      "byteLimit": 2048000,
      "rowLimit": 10000
     },
     "inputWidgets": {},
     "nuid": "7e7f6ee7-9b0e-4234-a34e-52e3dd74274c",
     "showTitle": false,
     "title": ""
    },
    "id": "ZpcAQtSUtteu"
   },
   "source": [
    "**Ahora copiamos un nuevo fichero en el directorio de streaming para ver que la tabla en memoria captura los cambios** "
   ]
  },
  {
   "cell_type": "code",
   "execution_count": 0,
   "metadata": {
    "application/vnd.databricks.v1+cell": {
     "cellMetadata": {
      "byteLimit": 2048000,
      "rowLimit": 10000
     },
     "inputWidgets": {},
     "nuid": "d55f4bc3-1454-431f-80d9-924544350947",
     "showTitle": false,
     "title": ""
    }
   },
   "outputs": [],
   "source": [
    "dbutils.fs.ls('/dataset/streaming')"
   ]
  },
  {
   "cell_type": "code",
   "execution_count": 0,
   "metadata": {
    "application/vnd.databricks.v1+cell": {
     "cellMetadata": {
      "byteLimit": 2048000,
      "rowLimit": 10000
     },
     "inputWidgets": {},
     "nuid": "70304641-cd10-425c-88c2-71eaa6cf72fd",
     "showTitle": false,
     "title": ""
    },
    "colab": {
     "base_uri": "https://localhost:8080/"
    },
    "id": "-y7xXjmbs44o",
    "outputId": "5858546f-0eb7-45ae-f6e8-70cea63a14b3"
   },
   "outputs": [],
   "source": [
    "dbutils.fs.cp('/dataset/frankenstein.txt','/dataset/streaming/')\n",
    "dbutils.fs.ls('/dataset/streaming')"
   ]
  },
  {
   "cell_type": "code",
   "execution_count": 0,
   "metadata": {
    "application/vnd.databricks.v1+cell": {
     "cellMetadata": {
      "byteLimit": 2048000,
      "implicitDf": true,
      "rowLimit": 10000
     },
     "inputWidgets": {},
     "nuid": "0806622a-e261-43fc-823e-81ad1273cb35",
     "showTitle": false,
     "title": ""
    },
    "colab": {
     "base_uri": "https://localhost:8080/"
    },
    "id": "3qpygEOHtHwh",
    "outputId": "61650a2d-226e-4c90-b9cc-6025c9be8218"
   },
   "outputs": [],
   "source": [
    "%sql\n",
    "select * from testquijote limit 100"
   ]
  },
  {
   "cell_type": "markdown",
   "metadata": {
    "application/vnd.databricks.v1+cell": {
     "cellMetadata": {
      "byteLimit": 2048000,
      "rowLimit": 10000
     },
     "inputWidgets": {},
     "nuid": "53031db7-c970-489d-aa2b-5b333fd203a6",
     "showTitle": false,
     "title": ""
    },
    "id": "yzU_4EjAjZgh"
   },
   "source": [
    "## Exercise 1"
   ]
  },
  {
   "cell_type": "markdown",
   "metadata": {
    "application/vnd.databricks.v1+cell": {
     "cellMetadata": {
      "byteLimit": 2048000,
      "rowLimit": 10000
     },
     "inputWidgets": {},
     "nuid": "647a7405-9578-4785-8b1e-6f8ef0d745e6",
     "showTitle": false,
     "title": ""
    },
    "id": "sV-NchsMsHvF"
   },
   "source": [
    "Using the example 1 code, filter out all words less than 4 characters\n",
    "\n",
    "---\n",
    "\n",
    "\n"
   ]
  },
  {
   "cell_type": "code",
   "execution_count": 0,
   "metadata": {
    "application/vnd.databricks.v1+cell": {
     "cellMetadata": {
      "byteLimit": 2048000,
      "rowLimit": 10000
     },
     "inputWidgets": {},
     "nuid": "5b1cb859-e745-4917-99ac-75754364d4aa",
     "showTitle": false,
     "title": ""
    },
    "colab": {
     "base_uri": "https://localhost:8080/"
    },
    "id": "SgireGq6YWEj",
    "outputId": "2fce361b-8994-48a8-f039-e82a2517143b"
   },
   "outputs": [],
   "source": []
  },
  {
   "cell_type": "markdown",
   "metadata": {
    "application/vnd.databricks.v1+cell": {
     "cellMetadata": {
      "byteLimit": 2048000,
      "rowLimit": 10000
     },
     "inputWidgets": {},
     "nuid": "467a9d0d-0b47-4281-8f48-fc220b280128",
     "showTitle": false,
     "title": ""
    },
    "id": "7j_LLcGeo2-j"
   },
   "source": [
    "## Example 2"
   ]
  },
  {
   "cell_type": "markdown",
   "metadata": {
    "application/vnd.databricks.v1+cell": {
     "cellMetadata": {
      "byteLimit": 2048000,
      "rowLimit": 10000
     },
     "inputWidgets": {},
     "nuid": "398f5fca-6d52-4385-9c15-cf118fd3a3b2",
     "showTitle": false,
     "title": ""
    },
    "id": "UgDfrBiqpAq_"
   },
   "source": [
    "Reading a CSV file, applying a schema"
   ]
  },
  {
   "cell_type": "code",
   "execution_count": 0,
   "metadata": {
    "application/vnd.databricks.v1+cell": {
     "cellMetadata": {
      "byteLimit": 2048000,
      "rowLimit": 10000
     },
     "inputWidgets": {},
     "nuid": "fa133222-485c-41a6-be1d-f1c4361fb2c7",
     "showTitle": false,
     "title": ""
    },
    "id": "qDBtt-33pH2B"
   },
   "outputs": [],
   "source": [
    "from pyspark.sql.types import *\n",
    "\n",
    "schema = StructType([\n",
    "    StructField(\"name\", StringType(), True),\n",
    "    StructField(\"height\", StringType(), True),\n",
    "    StructField(\"hair_color\", StringType(), True),\n",
    "    StructField(\"skin_color\", StringType(), True),\n",
    "    StructField(\"eye_color\", StringType(), True),\n",
    "    StructField(\"birth_year\", StringType(), True),\n",
    "    StructField(\"gender\", StringType(), True),\n",
    "    StructField(\"homeworld\", StringType(), True),\n",
    "    StructField(\"species\", StringType(), True)\n",
    "])"
   ]
  },
  {
   "cell_type": "code",
   "execution_count": 0,
   "metadata": {
    "application/vnd.databricks.v1+cell": {
     "cellMetadata": {
      "byteLimit": 2048000,
      "rowLimit": 10000
     },
     "inputWidgets": {},
     "nuid": "93bdbed1-b792-4fe8-a0ad-71c6d1297bfc",
     "showTitle": false,
     "title": ""
    },
    "id": "HG1ObxVnpSD1"
   },
   "outputs": [],
   "source": [
    "lines = spark.readStream \\\n",
    "  .format(\"csv\") \\\n",
    "  .schema(schema) \\\n",
    "  .load(\"/dataset/charac*.csv\") \\\n",
    "  .withColumn(\"current_timestamp\", current_timestamp())"
   ]
  },
  {
   "cell_type": "code",
   "execution_count": 0,
   "metadata": {
    "application/vnd.databricks.v1+cell": {
     "cellMetadata": {
      "byteLimit": 2048000,
      "rowLimit": 10000
     },
     "inputWidgets": {},
     "nuid": "7258ba36-1c8c-49db-a0ad-14e28918acb2",
     "showTitle": false,
     "title": ""
    },
    "colab": {
     "base_uri": "https://localhost:8080/"
    },
    "id": "AoRAS3YWpV6m",
    "outputId": "80262564-e192-434d-89ba-baa8622df171"
   },
   "outputs": [],
   "source": [
    "# Start running the query that prints the running counts to the console\n",
    "query = lines.writeStream \\\n",
    "  .outputMode(\"update\") \\\n",
    "  .format(\"memory\") \\\n",
    "  .queryName(\"charac\") \\\n",
    "\n",
    "query.start()\n"
   ]
  },
  {
   "cell_type": "code",
   "execution_count": 0,
   "metadata": {
    "application/vnd.databricks.v1+cell": {
     "cellMetadata": {
      "byteLimit": 2048000,
      "rowLimit": 10000
     },
     "inputWidgets": {},
     "nuid": "ea452cf5-a2f2-4235-93e1-e32c7eef6d18",
     "showTitle": false,
     "title": ""
    },
    "colab": {
     "base_uri": "https://localhost:8080/"
    },
    "id": "AqDjqB0lpYrY",
    "outputId": "29f50c1a-637b-437b-82fc-1bda24028124"
   },
   "outputs": [],
   "source": [
    "spark.sql(\"select * from charac limit 10\").display()"
   ]
  },
  {
   "cell_type": "code",
   "execution_count": 0,
   "metadata": {
    "application/vnd.databricks.v1+cell": {
     "cellMetadata": {
      "byteLimit": 2048000,
      "rowLimit": 10000
     },
     "inputWidgets": {},
     "nuid": "5e9ea681-d574-4ba1-b9d8-1f11e6e1ea95",
     "showTitle": false,
     "title": ""
    }
   },
   "outputs": [],
   "source": [
    "lines.display()"
   ]
  },
  {
   "cell_type": "markdown",
   "metadata": {
    "application/vnd.databricks.v1+cell": {
     "cellMetadata": {
      "byteLimit": 2048000,
      "rowLimit": 10000
     },
     "inputWidgets": {},
     "nuid": "2ab6458b-2dbf-400f-bc34-634d7d277926",
     "showTitle": false,
     "title": ""
    },
    "id": "rPVTLyFgrCJZ"
   },
   "source": [
    "# Windowing"
   ]
  },
  {
   "cell_type": "markdown",
   "metadata": {
    "application/vnd.databricks.v1+cell": {
     "cellMetadata": {
      "byteLimit": 2048000,
      "rowLimit": 10000
     },
     "inputWidgets": {},
     "nuid": "de364b88-c2da-428e-a6f5-26ee67a82a5f",
     "showTitle": false,
     "title": ""
    },
    "id": "42PI1onm9kIh"
   },
   "source": [
    "## Example 3"
   ]
  },
  {
   "cell_type": "markdown",
   "metadata": {
    "application/vnd.databricks.v1+cell": {
     "cellMetadata": {
      "byteLimit": 2048000,
      "rowLimit": 10000
     },
     "inputWidgets": {},
     "nuid": "6430db2c-6c77-40f8-9b7c-7891e0747ec7",
     "showTitle": false,
     "title": ""
    },
    "id": "nbf8iJP0AlkN"
   },
   "source": [
    "Read in streaming files `el_quijote.txt` and `frankestein.txt`. Applying a 5 seconds fix window"
   ]
  },
  {
   "cell_type": "code",
   "execution_count": 0,
   "metadata": {
    "application/vnd.databricks.v1+cell": {
     "cellMetadata": {
      "byteLimit": 2048000,
      "rowLimit": 10000
     },
     "inputWidgets": {},
     "nuid": "254529f7-5e8f-44f7-b174-1a2044d4b9fa",
     "showTitle": false,
     "title": ""
    },
    "id": "PUIqs27uAvM9"
   },
   "outputs": [],
   "source": [
    "dbutils.fs.rm('/dataset/books', True)\n",
    "dbutils.fs.mkdirs(\"/dataset/books\")"
   ]
  },
  {
   "cell_type": "code",
   "execution_count": 0,
   "metadata": {
    "application/vnd.databricks.v1+cell": {
     "cellMetadata": {
      "byteLimit": 2048000,
      "rowLimit": 10000
     },
     "inputWidgets": {},
     "nuid": "ce92bfae-57f6-41a5-a2a0-b5a25300c0af",
     "showTitle": false,
     "title": ""
    },
    "id": "9579ZquMBCm9"
   },
   "outputs": [],
   "source": [
    "dbutils.fs.cp('/dataset/streaming/el_quijote.txt', '/dataset/books/')\n",
    "dbutils.fs.ls('/dataset/books/')"
   ]
  },
  {
   "cell_type": "code",
   "execution_count": 0,
   "metadata": {
    "application/vnd.databricks.v1+cell": {
     "cellMetadata": {
      "byteLimit": 2048000,
      "rowLimit": 10000
     },
     "inputWidgets": {},
     "nuid": "e0419ffa-f3cf-40fa-b4b7-7e99498be558",
     "showTitle": false,
     "title": ""
    },
    "id": "pKPZ4kc2BUdA"
   },
   "outputs": [],
   "source": [
    "from pyspark.sql.functions import *\n",
    "words = spark \\\n",
    "  .readStream \\\n",
    "  .format(\"text\") \\\n",
    "  .load(\"/dataset/books/\") \\\n",
    "  .select(explode(split(col(\"value\"), \" \")).alias(\"word\"), col(\"current_timestamp\")) \\\n",
    "  .withColumn(\"current_timestamp\", current_timestamp())"
   ]
  },
  {
   "cell_type": "code",
   "execution_count": 0,
   "metadata": {
    "application/vnd.databricks.v1+cell": {
     "cellMetadata": {
      "byteLimit": 2048000,
      "rowLimit": 10000
     },
     "inputWidgets": {},
     "nuid": "ce654916-5728-4b45-afd4-11faf78dc0ce",
     "showTitle": false,
     "title": ""
    },
    "colab": {
     "base_uri": "https://localhost:8080/"
    },
    "id": "ZYpiFeIbBgRW",
    "outputId": "52f246f7-7180-4b46-f0b0-c63e9558e456"
   },
   "outputs": [],
   "source": [
    "from pyspark.sql.functions import *\n",
    "windowedCounts = words \\\n",
    "  .groupBy(\n",
    "      window(col(\"current_timestamp\"), \"5 seconds\"),\n",
    "      col(\"word\")\n",
    "  ) \\\n",
    "  .count() \\\n",
    "  .sort(col(\"count\").desc())\n",
    "\n",
    "query = windowedCounts \\\n",
    "  .writeStream \\\n",
    "  .outputMode(\"complete\") \\\n",
    "  .format(\"memory\") \\\n",
    "  .queryName(\"test_windowing_books\")\n",
    "\n",
    "query.start()"
   ]
  },
  {
   "cell_type": "code",
   "execution_count": 0,
   "metadata": {
    "application/vnd.databricks.v1+cell": {
     "cellMetadata": {
      "byteLimit": 2048000,
      "rowLimit": 10000
     },
     "inputWidgets": {},
     "nuid": "a22ae9f4-1030-4468-859f-13e24bd92718",
     "showTitle": false,
     "title": ""
    },
    "colab": {
     "base_uri": "https://localhost:8080/"
    },
    "id": "_Av3IdgbBs0C",
    "outputId": "033b3c23-c1a3-4acb-ecfc-43c085dadb36"
   },
   "outputs": [],
   "source": [
    "spark.sql(\"select * from test_windowing_books limit 10\").display()"
   ]
  },
  {
   "cell_type": "code",
   "execution_count": 0,
   "metadata": {
    "application/vnd.databricks.v1+cell": {
     "cellMetadata": {
      "byteLimit": 2048000,
      "rowLimit": 10000
     },
     "inputWidgets": {},
     "nuid": "bda30368-1d25-49ef-bdef-09e4185b8b43",
     "showTitle": false,
     "title": ""
    },
    "colab": {
     "base_uri": "https://localhost:8080/"
    },
    "id": "Tj-Wkc67Dyni",
    "outputId": "37f68704-e9c2-4d12-ee5c-d24beed6f071"
   },
   "outputs": [],
   "source": [
    "spark.sql(\"select window, count(*) from test_windowing_books group by window\").show(20, False)"
   ]
  },
  {
   "cell_type": "code",
   "execution_count": 0,
   "metadata": {
    "application/vnd.databricks.v1+cell": {
     "cellMetadata": {
      "byteLimit": 2048000,
      "rowLimit": 10000
     },
     "inputWidgets": {},
     "nuid": "fce91979-0c86-4e41-865d-b6f4a838dacf",
     "showTitle": false,
     "title": ""
    },
    "id": "QwLEx9SdB0jd"
   },
   "outputs": [],
   "source": [
    "dbutils.fs.cp('/dataset/streaming/frankenstein.txt', '/dataset/books/')\n",
    "dbutils.fs.ls('/dataset/books/')"
   ]
  },
  {
   "cell_type": "code",
   "execution_count": 0,
   "metadata": {
    "application/vnd.databricks.v1+cell": {
     "cellMetadata": {
      "byteLimit": 2048000,
      "rowLimit": 10000
     },
     "inputWidgets": {},
     "nuid": "64bdd546-774c-47d7-919a-66914a91a58f",
     "showTitle": false,
     "title": ""
    },
    "colab": {
     "base_uri": "https://localhost:8080/"
    },
    "id": "PcI1-3-aEFyk",
    "outputId": "b293151c-33d4-4b55-f915-15558a043990"
   },
   "outputs": [],
   "source": [
    "spark.sql(\"select window, count(*) from test_windowing_books group by window\").display()"
   ]
  },
  {
   "cell_type": "markdown",
   "metadata": {
    "application/vnd.databricks.v1+cell": {
     "cellMetadata": {
      "byteLimit": 2048000,
      "rowLimit": 10000
     },
     "inputWidgets": {},
     "nuid": "edd84dfe-f803-4124-b48f-f596a7030d4b",
     "showTitle": false,
     "title": ""
    },
    "id": "jkR3V9kYE6IF"
   },
   "source": [
    "## Exercise 2"
   ]
  },
  {
   "cell_type": "markdown",
   "metadata": {
    "application/vnd.databricks.v1+cell": {
     "cellMetadata": {
      "byteLimit": 2048000,
      "rowLimit": 10000
     },
     "inputWidgets": {},
     "nuid": "466820d2-7e63-4857-9d9f-5c256a86b130",
     "showTitle": false,
     "title": ""
    },
    "id": "JmTOOQQUE8KV"
   },
   "source": [
    "Get the number of different species classifications from `species.csv`\n",
    "- Split the file in multiple parts, create a new folder, inserting each part in the folder one by one\n",
    "- Group the result in 2 seconds fix window\n",
    "\n",
    "---\n",
    "\n"
   ]
  },
  {
   "cell_type": "code",
   "execution_count": 0,
   "metadata": {
    "application/vnd.databricks.v1+cell": {
     "cellMetadata": {
      "byteLimit": 2048000,
      "rowLimit": 10000
     },
     "inputWidgets": {},
     "nuid": "e78e856a-c448-427f-8537-a4b3a0a306b4",
     "showTitle": false,
     "title": ""
    }
   },
   "outputs": [],
   "source": [
    "dbutils.fs.rm('/dataset/species_splitted', True)"
   ]
  },
  {
   "cell_type": "code",
   "execution_count": 0,
   "metadata": {
    "application/vnd.databricks.v1+cell": {
     "cellMetadata": {
      "byteLimit": 2048000,
      "rowLimit": 10000
     },
     "inputWidgets": {},
     "nuid": "213d50fd-ba5c-498c-85e7-7d9f3dfd4e55",
     "showTitle": false,
     "title": ""
    }
   },
   "outputs": [],
   "source": [
    "from pyspark.sql.types import *\n",
    "\n",
    "schema_species = StructType([\n",
    "    StructField(\"name\", StringType(), True),\n",
    "    StructField(\"classification\", StringType(), True),\n",
    "    StructField(\"designation\", StringType(), True),\n",
    "    StructField(\"skin_colors\", StringType(), True),\n",
    "    StructField(\"hair_colors\", StringType(), True),\n",
    "    StructField(\"eye_colors\", StringType(), True),\n",
    "    StructField(\"average_lifespan\", StringType(), True),\n",
    "    StructField(\"language\", StringType(), True),\n",
    "    StructField(\"homeworld\", StringType(), True)\n",
    "])"
   ]
  },
  {
   "cell_type": "markdown",
   "metadata": {
    "application/vnd.databricks.v1+cell": {
     "cellMetadata": {
      "byteLimit": 2048000,
      "rowLimit": 10000
     },
     "inputWidgets": {},
     "nuid": "fe769950-5de0-41cf-a387-33bd52e9f3a9",
     "showTitle": false,
     "title": ""
    },
    "id": "8i1s62r-hDDL"
   },
   "source": [
    "# Stream - Stream Join"
   ]
  },
  {
   "cell_type": "markdown",
   "metadata": {
    "application/vnd.databricks.v1+cell": {
     "cellMetadata": {
      "byteLimit": 2048000,
      "rowLimit": 10000
     },
     "inputWidgets": {},
     "nuid": "a88f03cc-4f50-47e6-a40c-57513a1c07a5",
     "showTitle": false,
     "title": ""
    },
    "id": "ETU4lxgBhHqE"
   },
   "source": [
    "## Exercise 3"
   ]
  },
  {
   "cell_type": "markdown",
   "metadata": {
    "application/vnd.databricks.v1+cell": {
     "cellMetadata": {
      "byteLimit": 2048000,
      "rowLimit": 10000
     },
     "inputWidgets": {},
     "nuid": "19493c72-a2b8-47c9-9555-b1faf6fb8acc",
     "showTitle": false,
     "title": ""
    },
    "id": "V6vE8gzAh7Bz"
   },
   "source": [
    "Update the following code to build an inner join between `df_left_modified` and `df_right_modified` Dataframes.\n",
    "- Set 2 hours watermark for both streams"
   ]
  },
  {
   "cell_type": "code",
   "execution_count": 0,
   "metadata": {
    "application/vnd.databricks.v1+cell": {
     "cellMetadata": {
      "byteLimit": 2048000,
      "rowLimit": 10000
     },
     "inputWidgets": {},
     "nuid": "f3895100-21c8-43c0-9acb-0c1d026ec0ce",
     "showTitle": false,
     "title": ""
    },
    "id": "wbUjICTnIeOl"
   },
   "outputs": [],
   "source": [
    "df_left = (\n",
    "    spark\n",
    "    .readStream\n",
    "    .format(\"rate\")\n",
    "    .option(\"rowsPerSecond\", 3)\n",
    "    .load()\n",
    ")"
   ]
  },
  {
   "cell_type": "code",
   "execution_count": 0,
   "metadata": {
    "application/vnd.databricks.v1+cell": {
     "cellMetadata": {
      "byteLimit": 2048000,
      "rowLimit": 10000
     },
     "inputWidgets": {},
     "nuid": "62cfd52c-e14b-4500-a14b-526ffc0fe432",
     "showTitle": false,
     "title": ""
    }
   },
   "outputs": [],
   "source": [
    "df_left.printSchema()"
   ]
  },
  {
   "cell_type": "code",
   "execution_count": 0,
   "metadata": {
    "application/vnd.databricks.v1+cell": {
     "cellMetadata": {
      "byteLimit": 2048000,
      "rowLimit": 10000
     },
     "inputWidgets": {},
     "nuid": "5362e93c-3a45-4fac-941f-1bfb1be99301",
     "showTitle": false,
     "title": ""
    },
    "id": "mWS1VnWkiSET"
   },
   "outputs": [],
   "source": [
    "df_right = (\n",
    "    spark\n",
    "    .readStream\n",
    "    .format(\"rate\")\n",
    "    .option(\"rowsPerSecond\", 3)\n",
    "    .load()\n",
    ")"
   ]
  },
  {
   "cell_type": "code",
   "execution_count": 0,
   "metadata": {
    "application/vnd.databricks.v1+cell": {
     "cellMetadata": {
      "byteLimit": 2048000,
      "rowLimit": 10000
     },
     "inputWidgets": {},
     "nuid": "d13f316d-c2f2-4459-a51f-2e72051883a5",
     "showTitle": false,
     "title": ""
    }
   },
   "outputs": [],
   "source": [
    "from pyspark.sql.functions import *\n",
    "\n",
    "df_left_modified = (\n",
    "    df_left\n",
    "    .withColumn(\"left_key\", ceil(rand() * 10))\n",
    "    .withColumn(\"left_value\", ceil(rand() * 10))\n",
    ")"
   ]
  },
  {
   "cell_type": "code",
   "execution_count": 0,
   "metadata": {
    "application/vnd.databricks.v1+cell": {
     "cellMetadata": {
      "byteLimit": 2048000,
      "rowLimit": 10000
     },
     "inputWidgets": {},
     "nuid": "e7f23a3a-a5cd-4e1b-97d4-4028a9fd32cf",
     "showTitle": false,
     "title": ""
    },
    "id": "kjZRhXoUizIT"
   },
   "outputs": [],
   "source": [
    "df_right_modified = (\n",
    "    df_right\n",
    "    .withColumn(\"right_key\", ceil(rand() * 10))\n",
    "    .withColumn(\"right_value\", ceil(rand() * 10))\n",
    ")"
   ]
  },
  {
   "cell_type": "code",
   "execution_count": 0,
   "metadata": {
    "application/vnd.databricks.v1+cell": {
     "cellMetadata": {
      "byteLimit": 2048000,
      "rowLimit": 10000
     },
     "inputWidgets": {},
     "nuid": "9e8e2ba1-4826-4fc9-bef9-b8a475c4da5f",
     "showTitle": false,
     "title": ""
    }
   },
   "outputs": [],
   "source": []
  }
 ],
 "metadata": {
  "application/vnd.databricks.v1+notebook": {
   "dashboards": [],
   "environmentMetadata": null,
   "language": "python",
   "notebookMetadata": {
    "mostRecentlyExecutedCommandWithImplicitDF": {
     "commandId": 693023670525267,
     "dataframes": [
      "_sqldf"
     ]
    },
    "pythonIndentUnit": 2
   },
   "notebookName": "3.1.Spark Streaming",
   "widgets": {}
  },
  "colab": {
   "collapsed_sections": [
    "42PI1onm9kIh",
    "jkR3V9kYE6IF"
   ],
   "provenance": [],
   "toc_visible": true
  },
  "kernelspec": {
   "display_name": "Python 3",
   "name": "python3"
  }
 },
 "nbformat": 4,
 "nbformat_minor": 0
}
