{
 "cells": [
  {
   "cell_type": "markdown",
   "metadata": {
    "application/vnd.databricks.v1+cell": {
     "cellMetadata": {},
     "inputWidgets": {},
     "nuid": "ee027c0e-b0bd-47dc-b15f-2b9a2ae006de",
     "showTitle": false,
     "title": ""
    },
    "id": "8Z0h3dF9Vg4X"
   },
   "source": [
    "# Download Datasets"
   ]
  },
  {
   "cell_type": "code",
   "execution_count": 0,
   "metadata": {
    "application/vnd.databricks.v1+cell": {
     "cellMetadata": {
      "byteLimit": 2048000,
      "rowLimit": 10000
     },
     "inputWidgets": {},
     "nuid": "a8ed2ccb-e5c5-4420-ad75-2b5bcba55b7c",
     "showTitle": false,
     "title": ""
    },
    "colab": {
     "base_uri": "https://localhost:8080/"
    },
    "id": "KBDin-0sXgyI",
    "outputId": "41169cf6-82e6-4cfa-c5ca-a1efdce7c8a7"
   },
   "outputs": [],
   "source": [
    "%sh \n",
    "curl -O 'https://raw.githubusercontent.com/masfworld/datahack_docker/master/zeppelin/data/Coral_cover_data.csv'\n",
    "curl -O 'https://raw.githubusercontent.com/masfworld/datahack_docker/master/zeppelin/data/departuredelays.csv'\n",
    "curl -O 'https://raw.githubusercontent.com/masfworld/datahack_docker/master/zeppelin/data/loan.csv'\n",
    "curl -O 'https://raw.githubusercontent.com/masfworld/datahack_docker/master/zeppelin/data/OnlineRetail.csv'"
   ]
  },
  {
   "cell_type": "code",
   "execution_count": 0,
   "metadata": {
    "application/vnd.databricks.v1+cell": {
     "cellMetadata": {
      "byteLimit": 2048000,
      "rowLimit": 10000
     },
     "inputWidgets": {},
     "nuid": "1c226e68-53b7-4634-af72-d7cd95d43802",
     "showTitle": false,
     "title": ""
    }
   },
   "outputs": [],
   "source": [
    "dbutils.fs.mkdirs(\"/dataset\")\n",
    "dbutils.fs.cp('file:/databricks/driver/Coral_cover_data.csv','dbfs:/dataset/Coral_cover_data.csv')\n",
    "dbutils.fs.cp('file:/databricks/driver/departuredelays.csv','dbfs:/dataset/departuredelays.csv')\n",
    "dbutils.fs.cp('file:/databricks/driver/loan.csv','dbfs:/dataset/loan.csv')\n",
    "dbutils.fs.cp('file:/databricks/driver/OnlineRetail.csv','dbfs:/dataset/OnlineRetail.csv')"
   ]
  },
  {
   "cell_type": "markdown",
   "metadata": {
    "application/vnd.databricks.v1+cell": {
     "cellMetadata": {},
     "inputWidgets": {},
     "nuid": "3747a5a4-9f82-4d47-a517-a5df7ab59c3d",
     "showTitle": false,
     "title": ""
    },
    "id": "02Zwm3NRXS_I"
   },
   "source": [
    "# ACID Transactions\n",
    "\n",
    "---\n",
    "\n"
   ]
  },
  {
   "cell_type": "markdown",
   "metadata": {
    "application/vnd.databricks.v1+cell": {
     "cellMetadata": {},
     "inputWidgets": {},
     "nuid": "778d535c-4c66-46af-a73e-f6a68581e7bf",
     "showTitle": false,
     "title": ""
    },
    "id": "h1o6f6QOjTcZ"
   },
   "source": [
    "## Example 1\n",
    "\n",
    "Atomicity"
   ]
  },
  {
   "cell_type": "code",
   "execution_count": 0,
   "metadata": {
    "application/vnd.databricks.v1+cell": {
     "cellMetadata": {
      "byteLimit": 2048000,
      "rowLimit": 10000
     },
     "inputWidgets": {},
     "nuid": "3a83ec75-7713-433c-8c98-b74dd0bdda50",
     "showTitle": false,
     "title": ""
    },
    "id": "YBeMgvz5jwfn"
   },
   "outputs": [],
   "source": [
    "#Job-1\n",
    "FILE_PATH = \"/mnt/delta/atomicity\"\n",
    "dbutils.fs.rm(FILE_PATH,recurse=True)\n",
    "\n",
    "data = spark.range(100, 200)\n",
    "data.write.format(\"delta\").mode(\"overwrite\").save(FILE_PATH)"
   ]
  },
  {
   "cell_type": "code",
   "execution_count": 0,
   "metadata": {
    "application/vnd.databricks.v1+cell": {
     "cellMetadata": {
      "byteLimit": 2048000,
      "rowLimit": 10000
     },
     "inputWidgets": {},
     "nuid": "6257328c-f98e-4a9b-ac3f-983e768c8f99",
     "showTitle": false,
     "title": ""
    }
   },
   "outputs": [],
   "source": [
    "display(data)"
   ]
  },
  {
   "cell_type": "code",
   "execution_count": 0,
   "metadata": {
    "application/vnd.databricks.v1+cell": {
     "cellMetadata": {
      "byteLimit": 2048000,
      "rowLimit": 10000
     },
     "inputWidgets": {},
     "nuid": "b2c086cc-187b-425e-8b0a-52b8ed219aa6",
     "showTitle": false,
     "title": ""
    }
   },
   "outputs": [],
   "source": [
    "dbutils.fs.ls(\"/mnt/delta/atomicity/\")"
   ]
  },
  {
   "cell_type": "code",
   "execution_count": 0,
   "metadata": {
    "application/vnd.databricks.v1+cell": {
     "cellMetadata": {
      "byteLimit": 2048000,
      "rowLimit": 10000
     },
     "inputWidgets": {},
     "nuid": "b8093594-3941-433e-a262-340f1d40e2e6",
     "showTitle": false,
     "title": ""
    }
   },
   "outputs": [],
   "source": [
    "dbutils.fs.head(\"/mnt/delta/atomicity/_delta_log/00000000000000000000.json\")"
   ]
  },
  {
   "cell_type": "code",
   "execution_count": 0,
   "metadata": {
    "application/vnd.databricks.v1+cell": {
     "cellMetadata": {
      "byteLimit": 2048000,
      "rowLimit": 10000
     },
     "inputWidgets": {},
     "nuid": "ce256295-e13a-4ac3-a367-9848d2653b4f",
     "showTitle": false,
     "title": ""
    }
   },
   "outputs": [],
   "source": [
    "data.display()"
   ]
  },
  {
   "cell_type": "code",
   "execution_count": 0,
   "metadata": {
    "application/vnd.databricks.v1+cell": {
     "cellMetadata": {
      "byteLimit": 2048000,
      "rowLimit": 10000
     },
     "inputWidgets": {},
     "nuid": "cde2ad21-92f2-448c-88ad-105a5ef11ce4",
     "showTitle": false,
     "title": ""
    },
    "colab": {
     "base_uri": "https://localhost:8080/"
    },
    "id": "iO3yHMqyubdV",
    "outputId": "b5252a8b-14a6-430f-89b3-32c8f961aaa3"
   },
   "outputs": [],
   "source": [
    "dbutils.fs.ls(\"/mnt/delta/atomicity/\")"
   ]
  },
  {
   "cell_type": "code",
   "execution_count": 0,
   "metadata": {
    "application/vnd.databricks.v1+cell": {
     "cellMetadata": {
      "byteLimit": 2048000,
      "rowLimit": 10000
     },
     "inputWidgets": {},
     "nuid": "e0b7b9c8-ce65-4ec8-a11c-16b0c910cf26",
     "showTitle": false,
     "title": ""
    }
   },
   "outputs": [],
   "source": [
    "data.display()"
   ]
  },
  {
   "cell_type": "code",
   "execution_count": 0,
   "metadata": {
    "application/vnd.databricks.v1+cell": {
     "cellMetadata": {
      "byteLimit": 2048000,
      "rowLimit": 10000
     },
     "inputWidgets": {},
     "nuid": "581d984e-8dc8-4ec9-9f53-f8ba67143e6f",
     "showTitle": false,
     "title": ""
    },
    "colab": {
     "base_uri": "https://localhost:8080/"
    },
    "id": "15zxhjM7uqb1",
    "outputId": "a1f1a93d-33c7-4692-b74f-463a68ed7c9f"
   },
   "outputs": [],
   "source": [
    "spark.read.format(\"delta\").load(FILE_PATH).count()"
   ]
  },
  {
   "cell_type": "code",
   "execution_count": 0,
   "metadata": {
    "application/vnd.databricks.v1+cell": {
     "cellMetadata": {
      "byteLimit": 2048000,
      "rowLimit": 10000
     },
     "inputWidgets": {},
     "nuid": "bb8d552f-3272-4f68-8f71-89d060c37660",
     "showTitle": false,
     "title": ""
    },
    "colab": {
     "base_uri": "https://localhost:8080/"
    },
    "id": "v1Xe7Faau6Ij",
    "outputId": "9e329099-c428-4ece-c57e-6878042cc881"
   },
   "outputs": [],
   "source": [
    "from pyspark.sql.functions import *\n",
    "from pyspark.sql.functions import udf\n",
    "from pyspark.sql.types import IntegerType\n",
    "\n",
    "def atomicity(x):\n",
    "  if (x == 60):    \n",
    "    raise Exception(\"Error in: \" + x)\n",
    "  else: \n",
    "    return x\n",
    "\n",
    "atomicity_udf = udf(atomicity, IntegerType())\n",
    "  \n",
    "try:\n",
    "  spark.range(50,200) \\\n",
    "    .withColumn(\"id\", atomicity_udf(col(\"id\"))) \\\n",
    "    .write.format(\"delta\").mode(\"overwrite\").option(\"overwriteSchema\", \"true\").save(FILE_PATH)\n",
    "except:\n",
    "  print('Failed')  "
   ]
  },
  {
   "cell_type": "code",
   "execution_count": 0,
   "metadata": {
    "application/vnd.databricks.v1+cell": {
     "cellMetadata": {
      "byteLimit": 2048000,
      "rowLimit": 10000
     },
     "inputWidgets": {},
     "nuid": "97a6c16d-2a3e-4ec8-9794-5d016d99d1d1",
     "showTitle": false,
     "title": ""
    },
    "colab": {
     "base_uri": "https://localhost:8080/"
    },
    "id": "7Lq7kP3LvA09",
    "outputId": "1fef3703-fcac-49d8-9601-f5df62c80563"
   },
   "outputs": [],
   "source": [
    "spark.read.format(\"delta\").load(FILE_PATH).count()"
   ]
  },
  {
   "cell_type": "markdown",
   "metadata": {
    "application/vnd.databricks.v1+cell": {
     "cellMetadata": {},
     "inputWidgets": {},
     "nuid": "bbde3482-dcc8-420f-a7f0-9f7cdc7f93fe",
     "showTitle": false,
     "title": ""
    },
    "id": "nrfhKNlgvL6e"
   },
   "source": [
    "## Example 2\n",
    "\n",
    "* Converting data to `delta` format\n",
    "* Updates"
   ]
  },
  {
   "cell_type": "code",
   "execution_count": 0,
   "metadata": {
    "application/vnd.databricks.v1+cell": {
     "cellMetadata": {
      "byteLimit": 2048000,
      "implicitDf": true,
      "rowLimit": 10000
     },
     "inputWidgets": {},
     "nuid": "59a0e56e-119c-491e-b809-b187e42fb0fc",
     "showTitle": false,
     "title": ""
    }
   },
   "outputs": [],
   "source": [
    "%sql\n",
    "DROP TABLE IF EXISTS coral"
   ]
  },
  {
   "cell_type": "code",
   "execution_count": 0,
   "metadata": {
    "application/vnd.databricks.v1+cell": {
     "cellMetadata": {
      "byteLimit": 2048000,
      "rowLimit": 10000
     },
     "inputWidgets": {},
     "nuid": "a67c4389-15ad-4ace-ac33-27013e2f4cbb",
     "showTitle": false,
     "title": ""
    },
    "id": "h4LVACrNvCac"
   },
   "outputs": [],
   "source": [
    "CORAL_DELTA_PATH = \"/mnt/delta/coral\"\n",
    "dbutils.fs.rm(CORAL_DELTA_PATH, recurse=True)"
   ]
  },
  {
   "cell_type": "code",
   "execution_count": 0,
   "metadata": {
    "application/vnd.databricks.v1+cell": {
     "cellMetadata": {
      "byteLimit": 2048000,
      "rowLimit": 10000
     },
     "inputWidgets": {},
     "nuid": "5e132693-95b1-4c6b-afbd-38f532dfd78b",
     "showTitle": false,
     "title": ""
    }
   },
   "outputs": [],
   "source": [
    "dbutils.fs.ls(CORAL_DELTA_PATH)"
   ]
  },
  {
   "cell_type": "code",
   "execution_count": 0,
   "metadata": {
    "application/vnd.databricks.v1+cell": {
     "cellMetadata": {
      "byteLimit": 2048000,
      "rowLimit": 10000
     },
     "inputWidgets": {},
     "nuid": "4fb6b4b8-303b-4b0d-b3c0-557d4cdfd925",
     "showTitle": false,
     "title": ""
    },
    "id": "7HnA7Uv3hkkl"
   },
   "outputs": [],
   "source": [
    "from delta.tables import *\n",
    "from pyspark.sql.functions import *"
   ]
  },
  {
   "cell_type": "code",
   "execution_count": 0,
   "metadata": {
    "application/vnd.databricks.v1+cell": {
     "cellMetadata": {
      "byteLimit": 2048000,
      "rowLimit": 10000
     },
     "inputWidgets": {},
     "nuid": "6c7bbf00-94a0-4841-a5c4-7b8e688aacf8",
     "showTitle": false,
     "title": ""
    },
    "colab": {
     "base_uri": "https://localhost:8080/"
    },
    "id": "dWY47k-2vjJM",
    "outputId": "a3114367-9700-4b73-cc50-a32eecd935fd"
   },
   "outputs": [],
   "source": [
    "coral_df = spark.read \\\n",
    "  .option(\"header\", \"true\") \\\n",
    "  .option(\"inferSchema\", \"true\") \\\n",
    "  .csv(\"/dataset/Coral_cover_data.csv\")\n",
    "\n",
    "coral_df.write.format(\"delta\").save(CORAL_DELTA_PATH)\n",
    "spark.sql(\"CREATE TABLE coral USING DELTA LOCATION \\'\" + CORAL_DELTA_PATH + \"\\'\")"
   ]
  },
  {
   "cell_type": "code",
   "execution_count": 0,
   "metadata": {
    "application/vnd.databricks.v1+cell": {
     "cellMetadata": {
      "byteLimit": 2048000,
      "implicitDf": true,
      "rowLimit": 10000
     },
     "inputWidgets": {},
     "nuid": "9d40ca40-0cdc-4b80-abb9-e32e18955146",
     "showTitle": false,
     "title": ""
    }
   },
   "outputs": [],
   "source": [
    "%sql\n",
    "DROP TABLE IF EXISTS coral_2"
   ]
  },
  {
   "cell_type": "code",
   "execution_count": 0,
   "metadata": {
    "application/vnd.databricks.v1+cell": {
     "cellMetadata": {
      "byteLimit": 2048000,
      "rowLimit": 10000
     },
     "inputWidgets": {},
     "nuid": "a4a2e5dd-aec1-4064-a2b4-f88722c8c591",
     "showTitle": false,
     "title": ""
    }
   },
   "outputs": [],
   "source": [
    "\n",
    "dbutils.fs.rm(\"/user/hive/warehouse/coral_2\", recurse=True)"
   ]
  },
  {
   "cell_type": "code",
   "execution_count": 0,
   "metadata": {
    "application/vnd.databricks.v1+cell": {
     "cellMetadata": {
      "byteLimit": 2048000,
      "rowLimit": 10000
     },
     "inputWidgets": {},
     "nuid": "3e3cc2cd-01dc-4601-b0ce-17c4d773cc8f",
     "showTitle": false,
     "title": ""
    }
   },
   "outputs": [],
   "source": [
    "coral_df.write.format(\"delta\").saveAsTable(\"coral_2\")"
   ]
  },
  {
   "cell_type": "code",
   "execution_count": 0,
   "metadata": {
    "application/vnd.databricks.v1+cell": {
     "cellMetadata": {
      "byteLimit": 2048000,
      "implicitDf": true,
      "rowLimit": 10000
     },
     "inputWidgets": {},
     "nuid": "fc7bab8a-96ab-4219-99ce-c0c7f415ef86",
     "showTitle": false,
     "title": ""
    },
    "colab": {
     "base_uri": "https://localhost:8080/"
    },
    "id": "XpA2Q8SscX_G",
    "outputId": "a646ffcf-5198-41ca-efd1-09a532a33edb"
   },
   "outputs": [],
   "source": [
    "%sql\n",
    "SELECT *\n",
    "FROM\n",
    "  coral\n",
    "LIMIT 10"
   ]
  },
  {
   "cell_type": "code",
   "execution_count": 0,
   "metadata": {
    "application/vnd.databricks.v1+cell": {
     "cellMetadata": {
      "byteLimit": 2048000,
      "implicitDf": true,
      "rowLimit": 10000
     },
     "inputWidgets": {},
     "nuid": "574facf0-7470-4cc7-a1fa-0bc2c6f81d24",
     "showTitle": false,
     "title": ""
    },
    "colab": {
     "base_uri": "https://localhost:8080/"
    },
    "id": "m30ayA1rcke9",
    "outputId": "abfa0459-22b0-4ce0-c96c-1808e5936ef3"
   },
   "outputs": [],
   "source": [
    "%sql\n",
    "UPDATE coral SET Percent_cover = 0.0"
   ]
  },
  {
   "cell_type": "code",
   "execution_count": 0,
   "metadata": {
    "application/vnd.databricks.v1+cell": {
     "cellMetadata": {
      "byteLimit": 2048000,
      "rowLimit": 10000
     },
     "inputWidgets": {},
     "nuid": "c9425647-dd66-4733-9b0e-52415e303b0b",
     "showTitle": false,
     "title": ""
    }
   },
   "outputs": [],
   "source": [
    "dbutils.fs.ls(\"/mnt/delta/coral/\")"
   ]
  },
  {
   "cell_type": "code",
   "execution_count": 0,
   "metadata": {
    "application/vnd.databricks.v1+cell": {
     "cellMetadata": {
      "byteLimit": 2048000,
      "rowLimit": 10000
     },
     "inputWidgets": {},
     "nuid": "946f0d58-fe50-4b42-aae8-a93663f02166",
     "showTitle": false,
     "title": ""
    }
   },
   "outputs": [],
   "source": [
    "dbutils.fs.head(\"/mnt/delta/coral/_delta_log/00000000000000000001.json\")"
   ]
  },
  {
   "cell_type": "code",
   "execution_count": 0,
   "metadata": {
    "application/vnd.databricks.v1+cell": {
     "cellMetadata": {
      "byteLimit": 2048000,
      "implicitDf": true,
      "rowLimit": 10000
     },
     "inputWidgets": {},
     "nuid": "55be3df4-8f18-4bc3-9a1d-13d3ace7fbcb",
     "showTitle": false,
     "title": ""
    },
    "colab": {
     "base_uri": "https://localhost:8080/"
    },
    "id": "Nn4YSxfUc9vm",
    "outputId": "c211b65c-e991-44a4-8561-303ad3b4a107"
   },
   "outputs": [],
   "source": [
    "%sql\n",
    "SELECT *\n",
    "FROM\n",
    "  coral\n",
    "LIMIT 10"
   ]
  },
  {
   "cell_type": "markdown",
   "metadata": {
    "application/vnd.databricks.v1+cell": {
     "cellMetadata": {},
     "inputWidgets": {},
     "nuid": "4cb9f847-5bd0-4e0c-bc14-1cf90c6c5a88",
     "showTitle": false,
     "title": ""
    },
    "id": "8_B6FPvQhndq"
   },
   "source": [
    "## Exercise 1\n",
    "---\n",
    "\n",
    "Using Delta Table API (No SQL):\n",
    "1. Creating a *DeltaTable* object, loading data from example 2 (Coral Dataset).\n",
    "2. Update table with `Percent_cover = 1` where `Taxon` is equal to `Acropora_cervicornis` (Using Delta Table API)\n",
    "\n",
    "*Hint: https://docs.delta.io/latest/api/python/spark/index.html*"
   ]
  },
  {
   "cell_type": "code",
   "execution_count": 0,
   "metadata": {
    "application/vnd.databricks.v1+cell": {
     "cellMetadata": {
      "byteLimit": 2048000,
      "implicitDf": true,
      "rowLimit": 10000
     },
     "inputWidgets": {},
     "nuid": "9e242e6c-15f6-46a9-a1b2-42e4eda5b446",
     "showTitle": false,
     "title": ""
    }
   },
   "outputs": [],
   "source": [
    "from delta.tables import *\n",
    "from pyspark.sql.functions import *"
   ]
  },
  {
   "cell_type": "code",
   "execution_count": 0,
   "metadata": {
    "application/vnd.databricks.v1+cell": {
     "cellMetadata": {},
     "inputWidgets": {},
     "nuid": "eac3a623-4c4a-4c23-8d79-beabab09d4ec",
     "showTitle": false,
     "title": ""
    }
   },
   "outputs": [],
   "source": []
  },
  {
   "cell_type": "markdown",
   "metadata": {
    "application/vnd.databricks.v1+cell": {
     "cellMetadata": {},
     "inputWidgets": {},
     "nuid": "b69ecb86-5a20-461a-953b-f4c91c3052eb",
     "showTitle": false,
     "title": ""
    },
    "id": "9XOV_LGBdFot"
   },
   "source": [
    "# Time Travel"
   ]
  },
  {
   "cell_type": "markdown",
   "metadata": {
    "application/vnd.databricks.v1+cell": {
     "cellMetadata": {},
     "inputWidgets": {},
     "nuid": "6c6efe94-7d0e-4d40-94e4-755fb6f88387",
     "showTitle": false,
     "title": ""
    },
    "id": "FtDkR2D2dJY-"
   },
   "source": [
    "## Example 3"
   ]
  },
  {
   "cell_type": "code",
   "execution_count": 0,
   "metadata": {
    "application/vnd.databricks.v1+cell": {
     "cellMetadata": {
      "byteLimit": 2048000,
      "implicitDf": true,
      "rowLimit": 10000
     },
     "inputWidgets": {},
     "nuid": "82440a2f-e9ca-45fe-9845-c0b3f5fe7f81",
     "showTitle": false,
     "title": ""
    },
    "colab": {
     "base_uri": "https://localhost:8080/"
    },
    "id": "GxE55BnsdH_n",
    "outputId": "6c61deeb-9d53-4a1c-985e-d4fc09d2a25c"
   },
   "outputs": [],
   "source": [
    "%sql\n",
    "DESCRIBE HISTORY coral"
   ]
  },
  {
   "cell_type": "code",
   "execution_count": 0,
   "metadata": {
    "application/vnd.databricks.v1+cell": {
     "cellMetadata": {
      "byteLimit": 2048000,
      "rowLimit": 10000
     },
     "inputWidgets": {},
     "nuid": "310206d0-7669-4b79-9ddb-7938a4fd9871",
     "showTitle": false,
     "title": ""
    },
    "colab": {
     "base_uri": "https://localhost:8080/",
     "height": 407
    },
    "id": "4h9sD8h2dPS3",
    "outputId": "17af693d-ef87-43a8-91d3-f09d695b549a"
   },
   "outputs": [],
   "source": [
    "spark.read \\\n",
    "  .format(\"delta\") \\\n",
    "  .option(\"timestampAsOf\", \"2024-03-20T19:03:20\") \\\n",
    "  .load(CORAL_DELTA_PATH) \\\n",
    "  .display()"
   ]
  },
  {
   "cell_type": "markdown",
   "metadata": {
    "application/vnd.databricks.v1+cell": {
     "cellMetadata": {},
     "inputWidgets": {},
     "nuid": "c7ae4bf6-6612-475d-af61-2e84eabc95d4",
     "showTitle": false,
     "title": ""
    },
    "id": "d2QWWc4yeV5U"
   },
   "source": [
    "## Exercise 2\n",
    "---\n",
    "\n",
    "Do the following tasks:\n",
    "1. Read `departuredelays.csv` file into a Dataframe\n",
    "2. Convert the previous DataFrame in a Delta table\n",
    "3. Build an example query over the table\n",
    "4. Get the history of the delta table\n",
    "5. Update the column `delay` to 0, and check changes\n",
    "6. Restore the table to the initial state"
   ]
  },
  {
   "cell_type": "code",
   "execution_count": 0,
   "metadata": {
    "application/vnd.databricks.v1+cell": {
     "cellMetadata": {
      "byteLimit": 2048000,
      "rowLimit": 10000
     },
     "inputWidgets": {},
     "nuid": "6ebf48b2-0f87-4c67-97e7-fbe79eada7ed",
     "showTitle": false,
     "title": ""
    },
    "id": "9b1QwkakeVB0"
   },
   "outputs": [],
   "source": [
    "tripdelaysFilePath = \"/dataset/departuredelays.csv\""
   ]
  },
  {
   "cell_type": "code",
   "execution_count": 0,
   "metadata": {
    "application/vnd.databricks.v1+cell": {
     "cellMetadata": {
      "byteLimit": 2048000,
      "implicitDf": true,
      "rowLimit": 10000
     },
     "inputWidgets": {},
     "nuid": "f78f39cc-7721-491e-8f20-29167a235412",
     "showTitle": false,
     "title": ""
    }
   },
   "outputs": [],
   "source": [
    "%sql\n",
    "DROP TABLE IF EXISTS flights"
   ]
  },
  {
   "cell_type": "code",
   "execution_count": 0,
   "metadata": {
    "application/vnd.databricks.v1+cell": {
     "cellMetadata": {
      "byteLimit": 2048000,
      "rowLimit": 10000
     },
     "inputWidgets": {},
     "nuid": "78afdbc2-1dd6-4436-b199-ca2c3bcccd92",
     "showTitle": false,
     "title": ""
    }
   },
   "outputs": [],
   "source": [
    "\n",
    "dbutils.fs.rm(\"/user/hive/warehouse/flights\", recurse=True)"
   ]
  },
  {
   "cell_type": "code",
   "execution_count": 0,
   "metadata": {
    "application/vnd.databricks.v1+cell": {
     "cellMetadata": {},
     "inputWidgets": {},
     "nuid": "ae33d220-2625-4fb6-93da-64a24ab8d6f0",
     "showTitle": false,
     "title": ""
    }
   },
   "outputs": [],
   "source": []
  },
  {
   "cell_type": "markdown",
   "metadata": {
    "application/vnd.databricks.v1+cell": {
     "cellMetadata": {},
     "inputWidgets": {},
     "nuid": "c3c6ddb5-30d3-4051-a04a-64ecd19050dc",
     "showTitle": false,
     "title": ""
    },
    "id": "29rkKSyvQ6Of"
   },
   "source": [
    "## Exercise 3\n",
    "---\n",
    "Do the following tasks (using SQL and Delta Table API):\n",
    "1. Delete rows where `origin = ORD` (Using Delta Table API)\n",
    "2. Check the results\n",
    "2. Restore table to the original state"
   ]
  },
  {
   "cell_type": "code",
   "execution_count": 0,
   "metadata": {
    "application/vnd.databricks.v1+cell": {
     "cellMetadata": {
      "byteLimit": 2048000,
      "rowLimit": 10000
     },
     "inputWidgets": {},
     "nuid": "941f32eb-f032-4f63-9fe8-04fa2fe95842",
     "showTitle": false,
     "title": ""
    }
   },
   "outputs": [],
   "source": []
  },
  {
   "cell_type": "markdown",
   "metadata": {
    "application/vnd.databricks.v1+cell": {
     "cellMetadata": {},
     "inputWidgets": {},
     "nuid": "c528fe3d-af45-4e9a-82d7-826b30dc1c75",
     "showTitle": false,
     "title": ""
    },
    "id": "1kZcH_nDoEKt"
   },
   "source": [
    "# Schema Evolution"
   ]
  },
  {
   "cell_type": "markdown",
   "metadata": {
    "application/vnd.databricks.v1+cell": {
     "cellMetadata": {},
     "inputWidgets": {},
     "nuid": "47d61ebf-0254-47f8-8a0c-86f274f47191",
     "showTitle": false,
     "title": ""
    },
    "id": "oDRzV3wqoJPa"
   },
   "source": [
    "## Example 4"
   ]
  },
  {
   "cell_type": "code",
   "execution_count": 0,
   "metadata": {
    "application/vnd.databricks.v1+cell": {
     "cellMetadata": {
      "byteLimit": 2048000,
      "rowLimit": 10000
     },
     "inputWidgets": {},
     "nuid": "d28e1a6e-6ef2-4158-8905-e72841b89fb9",
     "showTitle": false,
     "title": ""
    },
    "id": "ZVs7AkH_mTim"
   },
   "outputs": [],
   "source": [
    "loans_df = spark.read \\\n",
    "  .option(\"header\", \"true\") \\\n",
    "  .option(\"inferSchema\", \"true\") \\\n",
    "  .csv('/dataset/loan.csv')"
   ]
  },
  {
   "cell_type": "code",
   "execution_count": 0,
   "metadata": {
    "application/vnd.databricks.v1+cell": {
     "cellMetadata": {
      "byteLimit": 2048000,
      "rowLimit": 10000
     },
     "inputWidgets": {},
     "nuid": "685d2e9d-9d88-43ea-8dd6-e70c6aa32467",
     "showTitle": false,
     "title": ""
    },
    "colab": {
     "base_uri": "https://localhost:8080/"
    },
    "id": "tLHSqX5CqakC",
    "outputId": "ead9819c-4cb7-486a-93c8-69aa15fcde1b"
   },
   "outputs": [],
   "source": [
    "loans_df.display()"
   ]
  },
  {
   "cell_type": "code",
   "execution_count": 0,
   "metadata": {
    "application/vnd.databricks.v1+cell": {
     "cellMetadata": {
      "byteLimit": 2048000,
      "rowLimit": 10000
     },
     "inputWidgets": {},
     "nuid": "e740a551-eef4-4ff3-8b8b-c6d323495973",
     "showTitle": false,
     "title": ""
    },
    "id": "uKWZdMzfqdWK"
   },
   "outputs": [],
   "source": [
    "loans_ver = loans_df.select(\"loan_amnt\", \"verification_status\")\n",
    "loan_by_ver = loans_ver.groupBy(\"verification_status\").count()\n",
    "\n",
    "loan_by_ver.createOrReplaceTempView(\"loan_by_ver\")"
   ]
  },
  {
   "cell_type": "code",
   "execution_count": 0,
   "metadata": {
    "application/vnd.databricks.v1+cell": {
     "cellMetadata": {
      "byteLimit": 2048000,
      "implicitDf": true,
      "rowLimit": 10000
     },
     "inputWidgets": {},
     "nuid": "fc26d4fb-c092-4bf8-8024-5d45a26f1751",
     "showTitle": false,
     "title": ""
    },
    "colab": {
     "base_uri": "https://localhost:8080/"
    },
    "id": "T4kU1wOfqu3I",
    "outputId": "ebea2841-bd87-4747-c9d6-8614e427ec4f"
   },
   "outputs": [],
   "source": [
    "%sql\n",
    "SELECT * FROM loan_by_ver LIMIT 10"
   ]
  },
  {
   "cell_type": "code",
   "execution_count": 0,
   "metadata": {
    "application/vnd.databricks.v1+cell": {
     "cellMetadata": {
      "byteLimit": 2048000,
      "rowLimit": 10000
     },
     "inputWidgets": {},
     "nuid": "bc689167-a0d3-436f-a99d-2e1b4ae254c4",
     "showTitle": false,
     "title": ""
    },
    "id": "0sYd02-YrM8R"
   },
   "outputs": [],
   "source": [
    "LOANS_DELTA_PATH = \"/mnt/delta/loans\"\n",
    "dbutils.fs.rm(LOANS_DELTA_PATH,recurse=True)"
   ]
  },
  {
   "cell_type": "code",
   "execution_count": 0,
   "metadata": {
    "application/vnd.databricks.v1+cell": {
     "cellMetadata": {
      "byteLimit": 2048000,
      "implicitDf": true,
      "rowLimit": 10000
     },
     "inputWidgets": {},
     "nuid": "05a6b21a-2657-4bc3-84ba-765f5147716f",
     "showTitle": false,
     "title": ""
    },
    "colab": {
     "base_uri": "https://localhost:8080/"
    },
    "id": "KewZ8_KxrbA6",
    "outputId": "45beaeae-932b-471d-b3a8-b3f732d57466"
   },
   "outputs": [],
   "source": [
    "%sql\n",
    "DROP TABLE IF EXISTS loan_by_ver_delta"
   ]
  },
  {
   "cell_type": "code",
   "execution_count": 0,
   "metadata": {
    "application/vnd.databricks.v1+cell": {
     "cellMetadata": {
      "byteLimit": 2048000,
      "implicitDf": true,
      "rowLimit": 10000
     },
     "inputWidgets": {},
     "nuid": "ff0b8fbd-9258-4bc0-ae30-e336f9bb0759",
     "showTitle": false,
     "title": ""
    },
    "colab": {
     "base_uri": "https://localhost:8080/"
    },
    "id": "PKCp-qhyr3Xo",
    "outputId": "01c45962-8222-427d-98f9-e6927995039a"
   },
   "outputs": [],
   "source": [
    "%sql \n",
    "CREATE TABLE loan_by_ver_delta USING delta LOCATION '/mnt/delta/loans' AS\n",
    "SELECT\n",
    "  *\n",
    "FROM\n",
    "  loan_by_ver"
   ]
  },
  {
   "cell_type": "code",
   "execution_count": 0,
   "metadata": {
    "application/vnd.databricks.v1+cell": {
     "cellMetadata": {
      "byteLimit": 2048000,
      "implicitDf": true,
      "rowLimit": 10000
     },
     "inputWidgets": {},
     "nuid": "84e128a6-48d9-4993-a27f-e237a1d68b9b",
     "showTitle": false,
     "title": ""
    },
    "colab": {
     "base_uri": "https://localhost:8080/"
    },
    "id": "B7kQgBJTsJhv",
    "outputId": "a16d8e3c-d978-4819-a409-8dd7de1373c2"
   },
   "outputs": [],
   "source": [
    "%sql\n",
    "SELECT * FROM loan_by_ver_delta"
   ]
  },
  {
   "cell_type": "code",
   "execution_count": 0,
   "metadata": {
    "application/vnd.databricks.v1+cell": {
     "cellMetadata": {
      "byteLimit": 2048000,
      "rowLimit": 10000
     },
     "inputWidgets": {},
     "nuid": "cfb24328-8f8a-48be-825f-9ef751508024",
     "showTitle": false,
     "title": ""
    },
    "id": "SutyBZ0XsN6_"
   },
   "outputs": [],
   "source": [
    "loans = spark.sql(\"\"\"\n",
    "            SELECT verification_status, CAST(rand(10)*count as bigint) AS count,\n",
    "            CAST(rand(10) * 10000 * count AS double) AS amount\n",
    "            FROM loan_by_ver_delta\n",
    "            \"\"\")\n"
   ]
  },
  {
   "cell_type": "code",
   "execution_count": 0,
   "metadata": {
    "application/vnd.databricks.v1+cell": {
     "cellMetadata": {
      "byteLimit": 2048000,
      "rowLimit": 10000
     },
     "inputWidgets": {},
     "nuid": "0b04dd95-1d6d-4eaa-a567-db7e07734808",
     "showTitle": false,
     "title": ""
    },
    "colab": {
     "base_uri": "https://localhost:8080/"
    },
    "id": "HTReFMB9sjtX",
    "outputId": "624c2bc1-00c9-474b-c4c0-43e6c1d9af81"
   },
   "outputs": [],
   "source": [
    "loans.display()"
   ]
  },
  {
   "cell_type": "code",
   "execution_count": 0,
   "metadata": {
    "application/vnd.databricks.v1+cell": {
     "cellMetadata": {
      "byteLimit": 2048000,
      "rowLimit": 10000
     },
     "inputWidgets": {},
     "nuid": "e18ca4b3-a906-4b0e-8c86-6cc354612cad",
     "showTitle": false,
     "title": ""
    },
    "colab": {
     "base_uri": "https://localhost:8080/"
    },
    "id": "UfXmw0p1smkg",
    "outputId": "c0927843-090e-436f-97f5-f68dcad6599b"
   },
   "outputs": [],
   "source": [
    "loans.printSchema()"
   ]
  },
  {
   "cell_type": "code",
   "execution_count": 0,
   "metadata": {
    "application/vnd.databricks.v1+cell": {
     "cellMetadata": {
      "byteLimit": 2048000,
      "rowLimit": 10000
     },
     "inputWidgets": {},
     "nuid": "d8db18ce-8a65-4a56-97b6-434a5f55f66c",
     "showTitle": false,
     "title": ""
    },
    "colab": {
     "base_uri": "https://localhost:8080/"
    },
    "id": "1KTJLpxYsqKY",
    "outputId": "958885f3-9e7f-4f61-ca0a-9006a455c510"
   },
   "outputs": [],
   "source": [
    "loan_by_ver.printSchema()"
   ]
  },
  {
   "cell_type": "code",
   "execution_count": 0,
   "metadata": {
    "application/vnd.databricks.v1+cell": {
     "cellMetadata": {
      "byteLimit": 2048000,
      "rowLimit": 10000
     },
     "inputWidgets": {},
     "nuid": "82b9c935-e206-4237-a351-5e7939de43d0",
     "showTitle": false,
     "title": ""
    },
    "colab": {
     "base_uri": "https://localhost:8080/",
     "height": 693
    },
    "id": "pPGZ1ppqssvn",
    "outputId": "fec52f11-dd2e-45a7-803e-df8df7e02eb6"
   },
   "outputs": [],
   "source": [
    "loans.write.format(\"delta\") \\\n",
    "           .mode(\"append\") \\\n",
    "           .save('/mnt/delta/loans')"
   ]
  },
  {
   "cell_type": "code",
   "execution_count": 0,
   "metadata": {
    "application/vnd.databricks.v1+cell": {
     "cellMetadata": {
      "byteLimit": 2048000,
      "rowLimit": 10000
     },
     "inputWidgets": {},
     "nuid": "b32517f7-ed0d-449c-943f-0c7d9c6d3e42",
     "showTitle": false,
     "title": ""
    },
    "id": "QfJIOUZOs-eQ"
   },
   "outputs": [],
   "source": [
    "# Add the mergeSchema option\n",
    "loans.write.format(\"delta\") \\\n",
    "           .option(\"mergeSchema\", \"true\") \\\n",
    "           .mode(\"append\") \\\n",
    "           .save('/mnt/delta/loans')"
   ]
  },
  {
   "cell_type": "code",
   "execution_count": 0,
   "metadata": {
    "application/vnd.databricks.v1+cell": {
     "cellMetadata": {
      "byteLimit": 2048000,
      "implicitDf": true,
      "rowLimit": 10000
     },
     "inputWidgets": {},
     "nuid": "3b9fbf20-cf87-44a8-ae8e-4c7e38d59427",
     "showTitle": false,
     "title": ""
    },
    "colab": {
     "base_uri": "https://localhost:8080/"
    },
    "id": "wHMp1dlPtEKe",
    "outputId": "7577f2cf-454e-456f-ca89-96b607c3b9ab"
   },
   "outputs": [],
   "source": [
    "%sql\n",
    "SELECT * FROM loan_by_ver_delta"
   ]
  },
  {
   "cell_type": "code",
   "execution_count": 0,
   "metadata": {
    "application/vnd.databricks.v1+cell": {
     "cellMetadata": {
      "byteLimit": 2048000,
      "implicitDf": true,
      "rowLimit": 10000
     },
     "inputWidgets": {},
     "nuid": "d86c3dd4-a4d2-4c1e-96b8-94751fe63139",
     "showTitle": false,
     "title": ""
    },
    "colab": {
     "base_uri": "https://localhost:8080/"
    },
    "id": "mqCku7OmtQZV",
    "outputId": "52649073-5018-47a7-f753-2584fea2c683"
   },
   "outputs": [],
   "source": [
    "%sql\n",
    "SELECT\n",
    "  verification_status,\n",
    "  sum(amount) AS amount_sum\n",
    "FROM\n",
    "  loan_by_ver_delta\n",
    "GROUP BY\n",
    "  verification_status\n",
    "ORDER BY\n",
    "  sum(amount)"
   ]
  },
  {
   "cell_type": "code",
   "execution_count": 0,
   "metadata": {
    "application/vnd.databricks.v1+cell": {
     "cellMetadata": {
      "byteLimit": 2048000,
      "rowLimit": 10000
     },
     "inputWidgets": {},
     "nuid": "b2a507ae-f7b4-4221-be90-f481dd8ddc4f",
     "showTitle": false,
     "title": ""
    },
    "colab": {
     "base_uri": "https://localhost:8080/"
    },
    "id": "_c-_qHoOtr3t",
    "outputId": "cf81f359-1604-453d-ac93-da07eadb4d2b"
   },
   "outputs": [],
   "source": [
    "from pyspark.sql.functions import *\n",
    "\n",
    "# Create loan by state\n",
    "loan_by_ver_amnt = loans_df.groupBy(\"verification_status\").agg(avg('loan_amnt').alias('avg_amnt'))\n",
    "loan_by_ver_amnt.display()"
   ]
  },
  {
   "cell_type": "code",
   "execution_count": 0,
   "metadata": {
    "application/vnd.databricks.v1+cell": {
     "cellMetadata": {
      "byteLimit": 2048000,
      "rowLimit": 10000
     },
     "inputWidgets": {},
     "nuid": "f49e8f7e-793a-4a0f-b5fc-7e051634ea75",
     "showTitle": false,
     "title": ""
    },
    "colab": {
     "base_uri": "https://localhost:8080/",
     "height": 693
    },
    "id": "GSUtXqmyuJJG",
    "outputId": "b65fdf85-2947-4c24-994f-4804911b6c5f"
   },
   "outputs": [],
   "source": [
    "loan_by_ver_amnt.write.format(\"delta\") \\\n",
    "           .mode(\"append\") \\\n",
    "           .save('/mnt/delta/loans')"
   ]
  },
  {
   "cell_type": "code",
   "execution_count": 0,
   "metadata": {
    "application/vnd.databricks.v1+cell": {
     "cellMetadata": {
      "byteLimit": 2048000,
      "rowLimit": 10000
     },
     "inputWidgets": {},
     "nuid": "889f9f2c-ed0b-461b-826e-e4d7e81e6a90",
     "showTitle": false,
     "title": ""
    },
    "id": "33DJnGAPuYje"
   },
   "outputs": [],
   "source": [
    "loan_by_ver_amnt.write.format(\"delta\") \\\n",
    "           .option(\"overwriteSchema\", \"true\") \\\n",
    "           .mode(\"overwrite\") \\\n",
    "           .save('/mnt/delta/loans')"
   ]
  },
  {
   "cell_type": "code",
   "execution_count": 0,
   "metadata": {
    "application/vnd.databricks.v1+cell": {
     "cellMetadata": {
      "byteLimit": 2048000,
      "implicitDf": true,
      "rowLimit": 10000
     },
     "inputWidgets": {},
     "nuid": "cd2a1f71-f85d-4e70-b4ab-f8abf60def7d",
     "showTitle": false,
     "title": ""
    },
    "colab": {
     "base_uri": "https://localhost:8080/"
    },
    "id": "kx2HyLRIucYl",
    "outputId": "3c652289-0e70-42c4-dadf-511a9cc97375"
   },
   "outputs": [],
   "source": [
    "%sql\n",
    "SELECT * FROM loan_by_ver_delta"
   ]
  },
  {
   "cell_type": "code",
   "execution_count": 0,
   "metadata": {
    "application/vnd.databricks.v1+cell": {
     "cellMetadata": {
      "byteLimit": 2048000,
      "implicitDf": true,
      "rowLimit": 10000
     },
     "inputWidgets": {},
     "nuid": "dde19460-deeb-4a1e-b8bf-1b381975ef44",
     "showTitle": false,
     "title": ""
    },
    "colab": {
     "base_uri": "https://localhost:8080/"
    },
    "id": "9FpGf-_-uioW",
    "outputId": "7203c860-b088-496d-b657-cd0c9fd3fdcc"
   },
   "outputs": [],
   "source": [
    "%sql\n",
    "DESCRIBE HISTORY loan_by_ver_delta"
   ]
  },
  {
   "cell_type": "code",
   "execution_count": 0,
   "metadata": {
    "application/vnd.databricks.v1+cell": {
     "cellMetadata": {
      "byteLimit": 2048000,
      "rowLimit": 10000
     },
     "inputWidgets": {},
     "nuid": "b17888a0-3088-4454-a2ce-0606670834a0",
     "showTitle": false,
     "title": ""
    },
    "colab": {
     "base_uri": "https://localhost:8080/"
    },
    "id": "mDuIch63vAYF",
    "outputId": "fef02f60-1ada-4af9-b91a-77d3d7369375"
   },
   "outputs": [],
   "source": [
    "spark.read \\\n",
    "  .format(\"delta\") \\\n",
    "  .option(\"versionAsOf\", 1) \\\n",
    "  .load('/mnt/delta/loans') \\\n",
    "  .display()"
   ]
  },
  {
   "cell_type": "markdown",
   "metadata": {
    "application/vnd.databricks.v1+cell": {
     "cellMetadata": {},
     "inputWidgets": {},
     "nuid": "a4cf7fbd-8781-4c15-8d8e-317cef853aa5",
     "showTitle": false,
     "title": ""
    },
    "id": "tfvfKN52HVzM"
   },
   "source": [
    "## Exercise 4\n",
    "---\n",
    "Do the following tasks over flight table built in Time Travel section:\n",
    "1. Get the average of distances for each origin airport. Store the result in a new delta table called `flight_grouped`\n",
    "2. Create new Delta Table/ Dataframe grouping flights data by origin with only the average of the delay\n",
    "3. Merge the information generated in point 1 and 2 in `flight_grouped` table. We want to get a table with the following information:\n",
    "  *   Origin Airport\n",
    "  *   Distance Average\n",
    "  *   Delay Average\n",
    "4. Restore `flight_grouped` table to the previous version"
   ]
  },
  {
   "cell_type": "code",
   "execution_count": 0,
   "metadata": {
    "application/vnd.databricks.v1+cell": {
     "cellMetadata": {
      "byteLimit": 2048000,
      "rowLimit": 10000
     },
     "inputWidgets": {},
     "nuid": "c0ce6d18-c470-4ed5-930a-063e04b02201",
     "showTitle": false,
     "title": ""
    }
   },
   "outputs": [],
   "source": [
    "dbutils.fs.rm(\"/user/hive/warehouse/flight_grouped\",recurse=True)"
   ]
  },
  {
   "cell_type": "code",
   "execution_count": 0,
   "metadata": {
    "application/vnd.databricks.v1+cell": {
     "cellMetadata": {
      "byteLimit": 2048000,
      "implicitDf": true,
      "rowLimit": 10000
     },
     "inputWidgets": {},
     "nuid": "a3288edb-47a9-4a76-8bfe-e3997cc826a2",
     "showTitle": false,
     "title": ""
    }
   },
   "outputs": [],
   "source": [
    "%sql\n",
    "drop table if exists flight_grouped"
   ]
  },
  {
   "cell_type": "code",
   "execution_count": 0,
   "metadata": {
    "application/vnd.databricks.v1+cell": {
     "cellMetadata": {
      "byteLimit": 2048000,
      "implicitDf": true,
      "rowLimit": 10000
     },
     "inputWidgets": {},
     "nuid": "6cd15bb6-3da9-4884-ae67-7ba6119f64df",
     "showTitle": false,
     "title": ""
    }
   },
   "outputs": [],
   "source": []
  },
  {
   "cell_type": "markdown",
   "metadata": {
    "application/vnd.databricks.v1+cell": {
     "cellMetadata": {},
     "inputWidgets": {},
     "nuid": "9eeb726d-5b67-4565-b4a6-6a685f05c7f4",
     "showTitle": false,
     "title": ""
    },
    "id": "w2NT0kMkS9wT"
   },
   "source": [
    "# Constraints"
   ]
  },
  {
   "cell_type": "markdown",
   "metadata": {
    "application/vnd.databricks.v1+cell": {
     "cellMetadata": {},
     "inputWidgets": {},
     "nuid": "6c9af214-640c-400d-999e-bf8db3df0917",
     "showTitle": false,
     "title": ""
    },
    "id": "wJkq1XlQSQmO"
   },
   "source": [
    "## Exercise 5\n",
    "---\n",
    "Using SQL:\n",
    "1. Create a delta table called `flights_constraint` with the same schema than `flights`(Used in exercise 2 and 3). `flights_constraint` table must have `destination`column as `NOT NULL`. \n",
    "2. Insert a test row with `destination` column with `NULL`.\n",
    "3. Remove \"NOT NULL\" constraint in \"destination\" column. Check again point 2\n",
    "4. Add constraint `(delay > -10000)`. Check it with an insert statement."
   ]
  },
  {
   "cell_type": "code",
   "execution_count": 0,
   "metadata": {
    "application/vnd.databricks.v1+cell": {
     "cellMetadata": {},
     "inputWidgets": {},
     "nuid": "834b9947-b05e-4168-9be9-a5bd43ffaed9",
     "showTitle": false,
     "title": ""
    },
    "colab": {
     "base_uri": "https://localhost:8080/"
    },
    "id": "vccpVgsEfuH0",
    "outputId": "31ff2850-359e-459b-8d2b-d39ec6a03c3a"
   },
   "outputs": [],
   "source": []
  },
  {
   "cell_type": "markdown",
   "metadata": {
    "application/vnd.databricks.v1+cell": {
     "cellMetadata": {},
     "inputWidgets": {},
     "nuid": "34c1739f-26aa-4e5f-b782-86953214adbd",
     "showTitle": false,
     "title": ""
    },
    "id": "jyYclTXwLLQE"
   },
   "source": [
    "# Upsert with Merge"
   ]
  },
  {
   "cell_type": "markdown",
   "metadata": {
    "application/vnd.databricks.v1+cell": {
     "cellMetadata": {},
     "inputWidgets": {},
     "nuid": "4edc03ed-2f48-4598-9e7c-7ce8aa3f9533",
     "showTitle": false,
     "title": ""
    },
    "id": "zzLFPha-LOdR"
   },
   "source": [
    "## Example 5"
   ]
  },
  {
   "cell_type": "code",
   "execution_count": 0,
   "metadata": {
    "application/vnd.databricks.v1+cell": {
     "cellMetadata": {
      "byteLimit": 2048000,
      "rowLimit": 10000
     },
     "inputWidgets": {},
     "nuid": "08ae5821-2d37-4358-a2aa-f1cd64d58b70",
     "showTitle": false,
     "title": ""
    },
    "id": "T0vF6oFqLMod"
   },
   "outputs": [],
   "source": [
    "miniDataInputPath = \"/dataset/OnlineRetail.csv\"\n",
    "basePath            = \"/mnt/delta/retail\"\n",
    "deltaMiniDataPath   = basePath + \"/customer-data-mini/\"\n",
    "\n",
    "inputSchema = \"InvoiceNo INT, StockCode STRING, Description STRING, Quantity INT, InvoiceDate STRING, UnitPrice DOUBLE, CustomerID INT, Country STRING\""
   ]
  },
  {
   "cell_type": "code",
   "execution_count": 0,
   "metadata": {
    "application/vnd.databricks.v1+cell": {
     "cellMetadata": {
      "byteLimit": 2048000,
      "rowLimit": 10000
     },
     "inputWidgets": {},
     "nuid": "782c4d62-990a-447d-a3d4-60ec8bc7ec7d",
     "showTitle": false,
     "title": ""
    },
    "id": "VjIZ9QRhMPI1"
   },
   "outputs": [],
   "source": [
    "miniDataDF = spark.read \\\n",
    "  .option(\"header\", \"true\") \\\n",
    "  .schema(inputSchema) \\\n",
    "  .csv(miniDataInputPath)\n",
    "\n",
    "miniDataDF \\\n",
    "  .write \\\n",
    "  .mode(\"overwrite\") \\\n",
    "  .format(\"delta\") \\\n",
    "  .save(deltaMiniDataPath)"
   ]
  },
  {
   "cell_type": "code",
   "execution_count": 0,
   "metadata": {
    "application/vnd.databricks.v1+cell": {
     "cellMetadata": {
      "byteLimit": 2048000,
      "rowLimit": 10000
     },
     "inputWidgets": {},
     "nuid": "6c7f6d9a-ca77-4852-bdf0-da09eee8bf3b",
     "showTitle": false,
     "title": ""
    }
   },
   "outputs": [],
   "source": [
    "miniDataDF.display()"
   ]
  },
  {
   "cell_type": "code",
   "execution_count": 0,
   "metadata": {
    "application/vnd.databricks.v1+cell": {
     "cellMetadata": {
      "byteLimit": 2048000,
      "implicitDf": true,
      "rowLimit": 10000
     },
     "inputWidgets": {},
     "nuid": "cc1494db-5f7b-4740-982f-bef783600515",
     "showTitle": false,
     "title": ""
    },
    "colab": {
     "base_uri": "https://localhost:8080/"
    },
    "id": "WYO7Fxe0MmNj",
    "outputId": "76b9e90f-845a-49ec-b8a2-967130c8809f"
   },
   "outputs": [],
   "source": [
    "%sql\n",
    "DROP TABLE IF EXISTS customer_data_delta_mini"
   ]
  },
  {
   "cell_type": "code",
   "execution_count": 0,
   "metadata": {
    "application/vnd.databricks.v1+cell": {
     "cellMetadata": {
      "byteLimit": 2048000,
      "rowLimit": 10000
     },
     "inputWidgets": {},
     "nuid": "3a1885c3-48b0-4237-8f72-0974f27dcdb9",
     "showTitle": false,
     "title": ""
    },
    "colab": {
     "base_uri": "https://localhost:8080/"
    },
    "id": "D8anJCvaMsS0",
    "outputId": "2c9612ef-5211-4643-b93e-7663781d879d"
   },
   "outputs": [],
   "source": [
    "spark.sql(\"\"\"\n",
    "    CREATE TABLE customer_data_delta_mini\n",
    "    USING DELTA \n",
    "    LOCATION '{}' \n",
    "  \"\"\".format(deltaMiniDataPath))"
   ]
  },
  {
   "cell_type": "code",
   "execution_count": 0,
   "metadata": {
    "application/vnd.databricks.v1+cell": {
     "cellMetadata": {
      "byteLimit": 2048000,
      "implicitDf": true,
      "rowLimit": 10000
     },
     "inputWidgets": {},
     "nuid": "9eb89a3a-e12f-4917-be32-42efedc9d36c",
     "showTitle": false,
     "title": ""
    },
    "colab": {
     "base_uri": "https://localhost:8080/"
    },
    "id": "Cdu1OhpIM10M",
    "outputId": "e61048bf-58b3-406f-aeb3-b5bde37b18ed"
   },
   "outputs": [],
   "source": [
    "%sql\n",
    "SELECT * FROM customer_data_delta_mini  LIMIT 10"
   ]
  },
  {
   "cell_type": "code",
   "execution_count": 0,
   "metadata": {
    "application/vnd.databricks.v1+cell": {
     "cellMetadata": {
      "byteLimit": 2048000,
      "implicitDf": true,
      "rowLimit": 10000
     },
     "inputWidgets": {},
     "nuid": "7b8fdf37-c133-458a-bc6d-f0b53308e509",
     "showTitle": false,
     "title": ""
    },
    "colab": {
     "base_uri": "https://localhost:8080/"
    },
    "id": "fhi80BLLM5nS",
    "outputId": "7061e193-315f-4d83-f7bf-e5775c8a3cb5"
   },
   "outputs": [],
   "source": [
    "%sql\n",
    "SELECT * FROM customer_data_delta_mini WHERE CustomerID=17925"
   ]
  },
  {
   "cell_type": "code",
   "execution_count": 0,
   "metadata": {
    "application/vnd.databricks.v1+cell": {
     "cellMetadata": {
      "byteLimit": 2048000,
      "rowLimit": 10000
     },
     "inputWidgets": {},
     "nuid": "a6edf2e5-b08c-4da1-894c-00106ae5f187",
     "showTitle": false,
     "title": ""
    }
   },
   "outputs": [],
   "source": [
    "dbutils.fs.rm(\"/user/hive/warehouse/customer_data_delta_to_upsert\",recurse=True)"
   ]
  },
  {
   "cell_type": "code",
   "execution_count": 0,
   "metadata": {
    "application/vnd.databricks.v1+cell": {
     "cellMetadata": {
      "byteLimit": 2048000,
      "rowLimit": 10000
     },
     "inputWidgets": {},
     "nuid": "ebdab130-3c0f-44ab-a605-6d097f918025",
     "showTitle": false,
     "title": ""
    },
    "id": "Qeeuo-wjNAs2"
   },
   "outputs": [],
   "source": [
    "from pyspark.sql.functions import lit, col\n",
    "\n",
    "customerSpecificDF = (miniDataDF\n",
    "  .filter(\"CustomerID=17925\")\n",
    "  .withColumn(\"StockCode\", lit(99999))\n",
    "  .withColumn(\"InvoiceNo\", col(\"InvoiceNo\").cast(\"String\")) \n",
    " )\n",
    "\n",
    "spark.sql(\"DROP TABLE IF EXISTS customer_data_delta_to_upsert\")\n",
    "customerSpecificDF.write.saveAsTable(\"customer_data_delta_to_upsert\")"
   ]
  },
  {
   "cell_type": "code",
   "execution_count": 0,
   "metadata": {
    "application/vnd.databricks.v1+cell": {
     "cellMetadata": {
      "byteLimit": 2048000,
      "implicitDf": true,
      "rowLimit": 10000
     },
     "inputWidgets": {},
     "nuid": "c7be0d3c-277c-4e05-a9b5-20e0dcc03f49",
     "showTitle": false,
     "title": ""
    }
   },
   "outputs": [],
   "source": [
    "%sql\n",
    "DESCRIBE HISTORY customer_data_delta_to_upsert"
   ]
  },
  {
   "cell_type": "code",
   "execution_count": 0,
   "metadata": {
    "application/vnd.databricks.v1+cell": {
     "cellMetadata": {
      "byteLimit": 2048000,
      "implicitDf": true,
      "rowLimit": 10000
     },
     "inputWidgets": {},
     "nuid": "170dfb93-2929-4d2b-9c01-a987a302dcde",
     "showTitle": false,
     "title": ""
    },
    "colab": {
     "base_uri": "https://localhost:8080/"
    },
    "id": "s9Gd4WyaNvyJ",
    "outputId": "5cfceefe-97df-43be-9aea-4d1c5769d164"
   },
   "outputs": [],
   "source": [
    "%sql\n",
    "SELECT * FROM customer_data_delta_to_upsert"
   ]
  },
  {
   "cell_type": "code",
   "execution_count": 0,
   "metadata": {
    "application/vnd.databricks.v1+cell": {
     "cellMetadata": {
      "byteLimit": 2048000,
      "implicitDf": true,
      "rowLimit": 10000
     },
     "inputWidgets": {},
     "nuid": "b8aae9f0-0604-45fd-b9eb-f59198691fec",
     "showTitle": false,
     "title": ""
    },
    "colab": {
     "base_uri": "https://localhost:8080/"
    },
    "id": "ciahJ289Nz54",
    "outputId": "37679c1d-baeb-4444-f632-4f45282d8968"
   },
   "outputs": [],
   "source": [
    "%sql\n",
    "SELECT * FROM customer_data_delta_mini WHERE CustomerID=17925"
   ]
  },
  {
   "cell_type": "code",
   "execution_count": 0,
   "metadata": {
    "application/vnd.databricks.v1+cell": {
     "cellMetadata": {
      "byteLimit": 2048000,
      "implicitDf": true,
      "rowLimit": 10000
     },
     "inputWidgets": {},
     "nuid": "29727df5-b3bd-4297-b331-df77d19cb085",
     "showTitle": false,
     "title": ""
    },
    "colab": {
     "base_uri": "https://localhost:8080/"
    },
    "id": "TAIZGq-POOUj",
    "outputId": "de37adc8-594d-4324-fa4d-4de3dd72a9b2"
   },
   "outputs": [],
   "source": [
    "%sql\n",
    "MERGE INTO customer_data_delta_mini\n",
    "USING customer_data_delta_to_upsert\n",
    "ON customer_data_delta_mini.CustomerID = customer_data_delta_to_upsert.CustomerID\n",
    "WHEN MATCHED THEN\n",
    "  UPDATE SET\n",
    "    customer_data_delta_mini.StockCode = customer_data_delta_to_upsert.StockCode\n",
    "WHEN NOT MATCHED\n",
    "  THEN INSERT (InvoiceNo, StockCode, Description, Quantity, InvoiceDate, UnitPrice, CustomerID, Country)\n",
    "  VALUES (\n",
    "    customer_data_delta_to_upsert.InvoiceNo,\n",
    "    customer_data_delta_to_upsert.StockCode, \n",
    "    customer_data_delta_to_upsert.Description, \n",
    "    customer_data_delta_to_upsert.Quantity, \n",
    "    customer_data_delta_to_upsert.InvoiceDate, \n",
    "    customer_data_delta_to_upsert.UnitPrice, \n",
    "    customer_data_delta_to_upsert.CustomerID, \n",
    "    customer_data_delta_to_upsert.Country)"
   ]
  },
  {
   "cell_type": "code",
   "execution_count": 0,
   "metadata": {
    "application/vnd.databricks.v1+cell": {
     "cellMetadata": {
      "byteLimit": 2048000,
      "implicitDf": true,
      "rowLimit": 10000
     },
     "inputWidgets": {},
     "nuid": "608b881d-5daa-4cb3-bd32-a50e987c333f",
     "showTitle": false,
     "title": ""
    },
    "colab": {
     "base_uri": "https://localhost:8080/"
    },
    "id": "GEmRg3rmOaTp",
    "outputId": "c00115f4-3499-43c1-a5af-ad5963bfe28e"
   },
   "outputs": [],
   "source": [
    "%sql\n",
    "SELECT * FROM customer_data_delta_mini WHERE CustomerID=17925"
   ]
  },
  {
   "cell_type": "code",
   "execution_count": 0,
   "metadata": {
    "application/vnd.databricks.v1+cell": {
     "cellMetadata": {
      "byteLimit": 2048000,
      "implicitDf": true,
      "rowLimit": 10000
     },
     "inputWidgets": {},
     "nuid": "b280c69e-4f44-4ddd-89bf-4f1a30410b5d",
     "showTitle": false,
     "title": ""
    }
   },
   "outputs": [],
   "source": [
    "%sql\n",
    "DESCRIBE HISTORY customer_data_delta_mini"
   ]
  },
  {
   "cell_type": "markdown",
   "metadata": {
    "application/vnd.databricks.v1+cell": {
     "cellMetadata": {},
     "inputWidgets": {},
     "nuid": "bfecf7dd-f02d-496d-b4b7-e48d7f50180c",
     "showTitle": false,
     "title": ""
    },
    "id": "4y8pgmbQPFol"
   },
   "source": [
    "## Exercise 6\n",
    "---\n",
    "\n",
    "Do the following tasks:\n",
    "1. Generate a delta table called `flights_grouped_by_origin` from DataFrame with the average of delay grouped by `origin`, built in exercise 2\n",
    "2. Generate a delta table called `flights_grouped` calculating the maximum delay for each origin airport\n",
    "3. Merge (using SQL) the table built in the point 1 and table restored in exercise 2\n",
    "\n",
    "*Hints: https://docs.delta.io/latest/delta-update.html#language-python </br>\n",
    "https://docs.microsoft.com/en-us/azure/databricks/spark/latest/spark-sql/language-manual/delta-merge-into * \n"
   ]
  },
  {
   "cell_type": "code",
   "execution_count": 0,
   "metadata": {
    "application/vnd.databricks.v1+cell": {
     "cellMetadata": {},
     "inputWidgets": {},
     "nuid": "db64062b-dc45-4eae-8c55-931db41b45ed",
     "showTitle": false,
     "title": ""
    },
    "colab": {
     "base_uri": "https://localhost:8080/"
    },
    "id": "aC-6xoogltaT",
    "outputId": "49e93e62-4d58-4eb0-f9a9-de73b09e0109"
   },
   "outputs": [],
   "source": [
    "%sql\n",
    "SET spark.databricks.delta.properties.defaults.enableChangeDataFeed = true"
   ]
  },
  {
   "cell_type": "code",
   "execution_count": 0,
   "metadata": {
    "application/vnd.databricks.v1+cell": {
     "cellMetadata": {},
     "inputWidgets": {},
     "nuid": "8afc34a4-c7ea-4310-b617-e206929f5d47",
     "showTitle": false,
     "title": ""
    },
    "colab": {
     "base_uri": "https://localhost:8080/"
    },
    "id": "rqfkMLKyRfUt",
    "outputId": "cfd7b254-ecf9-4c27-ca17-6c68c3cec02c"
   },
   "outputs": [],
   "source": [
    "%sql\n",
    "SET spark.databricks.delta.schema.autoMerge.enabled = true"
   ]
  },
  {
   "cell_type": "code",
   "execution_count": 0,
   "metadata": {
    "application/vnd.databricks.v1+cell": {
     "cellMetadata": {},
     "inputWidgets": {},
     "nuid": "72fea5fb-1163-4dbd-8635-172a2c1a9aab",
     "showTitle": false,
     "title": ""
    }
   },
   "outputs": [],
   "source": []
  },
  {
   "cell_type": "markdown",
   "metadata": {
    "application/vnd.databricks.v1+cell": {
     "cellMetadata": {},
     "inputWidgets": {},
     "nuid": "2ff613f6-391c-4de4-8321-38e664f8c227",
     "showTitle": false,
     "title": ""
    },
    "id": "yOjrsQnIX-r4"
   },
   "source": [
    "# Change Data Feed"
   ]
  },
  {
   "cell_type": "markdown",
   "metadata": {
    "application/vnd.databricks.v1+cell": {
     "cellMetadata": {},
     "inputWidgets": {},
     "nuid": "6d9d61d5-fa12-48e7-aeba-d8ca9033812b",
     "showTitle": false,
     "title": ""
    },
    "id": "qqGzx6E0YBDk"
   },
   "source": [
    "## Exercise 7\n",
    "---\n",
    "\n",
    "Do the following tasks:\n",
    "1. Capture all changes coming from `flights_grouped_by_origin` delta table\n",
    "2. Write these rows to `flights_delay` topic in Kafka\n",
    "3. Read data from previous topic, filter out by a random origin airport, and saving the result in another delta table."
   ]
  },
  {
   "cell_type": "code",
   "execution_count": 0,
   "metadata": {
    "application/vnd.databricks.v1+cell": {
     "cellMetadata": {
      "byteLimit": 2048000,
      "implicitDf": true,
      "rowLimit": 10000
     },
     "inputWidgets": {},
     "nuid": "253e50a8-c955-4aba-b5aa-1a196a708537",
     "showTitle": false,
     "title": ""
    }
   },
   "outputs": [],
   "source": [
    "%sql\n",
    "SET spark.databricks.delta.properties.defaults.enableChangeDataFeed = true"
   ]
  },
  {
   "cell_type": "code",
   "execution_count": 0,
   "metadata": {
    "application/vnd.databricks.v1+cell": {
     "cellMetadata": {
      "byteLimit": 2048000,
      "rowLimit": 10000
     },
     "inputWidgets": {},
     "nuid": "0da41f15-d945-48dc-ab6e-2750bfdc5068",
     "showTitle": false,
     "title": ""
    }
   },
   "outputs": [],
   "source": [
    "dbutils.fs.rm(\"/user/hive/warehouse/flights_grouped_by_origin\",recurse=True)"
   ]
  },
  {
   "cell_type": "code",
   "execution_count": 0,
   "metadata": {
    "application/vnd.databricks.v1+cell": {
     "cellMetadata": {
      "byteLimit": 2048000,
      "implicitDf": true,
      "rowLimit": 10000
     },
     "inputWidgets": {},
     "nuid": "3e8afbed-86ea-4b96-9c15-2be93f62357b",
     "showTitle": false,
     "title": ""
    }
   },
   "outputs": [],
   "source": [
    "%sql\n",
    "DROP TABLE IF EXISTS flights_grouped_by_origin"
   ]
  },
  {
   "cell_type": "code",
   "execution_count": 0,
   "metadata": {
    "application/vnd.databricks.v1+cell": {
     "cellMetadata": {},
     "inputWidgets": {},
     "nuid": "31998d59-9c80-4315-a4ba-fb632669ea34",
     "showTitle": false,
     "title": ""
    }
   },
   "outputs": [],
   "source": []
  }
 ],
 "metadata": {
  "application/vnd.databricks.v1+notebook": {
   "dashboards": [],
   "environmentMetadata": null,
   "language": "python",
   "notebookMetadata": {
    "mostRecentlyExecutedCommandWithImplicitDF": {
     "commandId": 685722013786419,
     "dataframes": [
      "_sqldf"
     ]
    },
    "pythonIndentUnit": 2
   },
   "notebookName": "4..Spark SQL Delta Lake",
   "widgets": {}
  },
  "colab": {
   "collapsed_sections": [
    "Jq9d0x1OTh2N"
   ],
   "provenance": [],
   "toc_visible": true
  },
  "kernelspec": {
   "display_name": "Python 3",
   "name": "python3"
  }
 },
 "nbformat": 4,
 "nbformat_minor": 0
}
