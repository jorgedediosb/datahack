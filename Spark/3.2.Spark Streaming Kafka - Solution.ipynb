{
 "cells": [
  {
   "cell_type": "markdown",
   "metadata": {
    "application/vnd.databricks.v1+cell": {
     "cellMetadata": {
      "byteLimit": 2048000,
      "rowLimit": 10000
     },
     "inputWidgets": {},
     "nuid": "b6ef4018-4842-40f0-860c-74a3cbdc3ddb",
     "showTitle": false,
     "title": ""
    },
    "id": "rPVTLyFgrCJZ"
   },
   "source": [
    "# Structured Streaming with Apache Kafka"
   ]
  },
  {
   "cell_type": "markdown",
   "metadata": {
    "application/vnd.databricks.v1+cell": {
     "cellMetadata": {
      "byteLimit": 2048000,
      "rowLimit": 10000
     },
     "inputWidgets": {},
     "nuid": "943ee4d5-0464-43e8-ad4f-2ed555521614",
     "showTitle": false,
     "title": ""
    },
    "id": "42PI1onm9kIh"
   },
   "source": [
    "## Example 1"
   ]
  },
  {
   "cell_type": "markdown",
   "metadata": {
    "application/vnd.databricks.v1+cell": {
     "cellMetadata": {
      "byteLimit": 2048000,
      "rowLimit": 10000
     },
     "inputWidgets": {},
     "nuid": "7aab45e2-350f-46cc-9544-a381ba62914c",
     "showTitle": false,
     "title": ""
    },
    "id": "nbf8iJP0AlkN"
   },
   "source": [
    "Reading a Kafka topic in AWS.\n",
    "Before executing this code, replace `kafka:9094` by the right bootstrap server"
   ]
  },
  {
   "cell_type": "code",
   "execution_count": 0,
   "metadata": {
    "application/vnd.databricks.v1+cell": {
     "cellMetadata": {
      "byteLimit": 2048000,
      "rowLimit": 10000
     },
     "inputWidgets": {},
     "nuid": "397f8f56-69a7-4283-82b2-aff575691525",
     "showTitle": false,
     "title": ""
    },
    "colab": {
     "base_uri": "https://localhost:8080/"
    },
    "id": "PUIqs27uAvM9",
    "outputId": "eb110574-cde1-4d33-f953-cbeb3c24e5dc"
   },
   "outputs": [
    {
     "output_type": "stream",
     "name": "stdout",
     "output_type": "stream",
     "text": [
      "root\n |-- key: binary (nullable = true)\n |-- value: binary (nullable = true)\n |-- topic: string (nullable = true)\n |-- partition: integer (nullable = true)\n |-- offset: long (nullable = true)\n |-- timestamp: timestamp (nullable = true)\n |-- timestampType: integer (nullable = true)\n\n"
     ]
    }
   ],
   "source": [
    "from pyspark.sql.functions import from_json, col\n",
    "from pyspark.sql.types import StructType, StructField, StringType\n",
    "\n",
    "df = spark \\\n",
    "  .readStream \\\n",
    "  .format(\"kafka\") \\\n",
    "  .option(\"kafka.bootstrap.servers\", \"34.139.223.68:9094\") \\\n",
    "  .option(\"subscribe\", \"toots\") \\\n",
    "  .load()\n",
    "  \n",
    "schema = StructType(\n",
    "    [\n",
    "        StructField('id', StringType(), True),\n",
    "        StructField('content', StringType(), True),\n",
    "        StructField('created_at', StringType(), True),\n",
    "        StructField('account', StringType(), True)\n",
    "    ]\n",
    ")\n",
    "df.printSchema()\n",
    "\n",
    "dataset = df.selectExpr(\"CAST(key AS STRING)\", \"CAST(value AS STRING)\", \"timestamp\") \\\n",
    "    .withColumn(\"value\", from_json(\"value\", schema)) \\\n",
    "    .select(col('key'), col(\"timestamp\"), col('value.*'))"
   ]
  },
  {
   "cell_type": "code",
   "execution_count": 0,
   "metadata": {
    "application/vnd.databricks.v1+cell": {
     "cellMetadata": {
      "byteLimit": 2048000,
      "rowLimit": 10000
     },
     "inputWidgets": {},
     "nuid": "9bd57d8f-594e-4274-8ab4-04ecef66e5f4",
     "showTitle": false,
     "title": ""
    },
    "colab": {
     "base_uri": "https://localhost:8080/"
    },
    "id": "FFE9-1mVb0oL",
    "outputId": "289e8c2a-40c5-43c9-974e-878ef6fd9a4a"
   },
   "outputs": [
    {
     "output_type": "stream",
     "name": "stdout",
     "output_type": "stream",
     "text": [
      "Out[2]: <pyspark.sql.streaming.query.StreamingQuery at 0x7f94b8ccc250>"
     ]
    }
   ],
   "source": [
    "dataset.writeStream \\\n",
    " .outputMode(\"append\") \\\n",
    " .format(\"memory\") \\\n",
    " .option(\"truncate\", \"false\") \\\n",
    " .queryName(\"toots_topic\") \\\n",
    " .start()"
   ]
  },
  {
   "cell_type": "code",
   "execution_count": 0,
   "metadata": {
    "application/vnd.databricks.v1+cell": {
     "cellMetadata": {
      "byteLimit": 2048000,
      "implicitDf": true,
      "rowLimit": 10000
     },
     "inputWidgets": {},
     "nuid": "4307908c-d816-40ce-a4af-ae8a9a6d6060",
     "showTitle": false,
     "title": ""
    },
    "colab": {
     "base_uri": "https://localhost:8080/"
    },
    "id": "FeYb_B40b4Yz",
    "outputId": "6d0a9dfe-2150-48dc-c859-fe8c0d10dbd7"
   },
   "outputs": [
    {
     "output_type": "display_data",
     "data": {
      "text/html": [
       "<style scoped>\n",
       "  .table-result-container {\n",
       "    max-height: 300px;\n",
       "    overflow: auto;\n",
       "  }\n",
       "  table, th, td {\n",
       "    border: 1px solid black;\n",
       "    border-collapse: collapse;\n",
       "  }\n",
       "  th, td {\n",
       "    padding: 5px;\n",
       "  }\n",
       "  th {\n",
       "    text-align: left;\n",
       "  }\n",
       "</style><div class='table-result-container'><table class='table-result'><thead style='background-color: white'><tr><th>key</th><th>timestamp</th><th>id</th><th>content</th><th>created_at</th><th>account</th></tr></thead><tbody><tr><td>null</td><td>2024-06-21T10:53:42.197+0000</td><td>112654235862211765</td><td><p>A veces me paro a pensar y es fascinante que nos guste tanto la genitalia de las plantas xD</p></td><td>2024-06-21 10:53:41+00:00</td><td>Ransil@todon.eu</td></tr><tr><td>null</td><td>2024-06-21T10:54:17.117+0000</td><td>112654238154815524</td><td></td><td>2024-06-21 10:54:15+00:00</td><td>elhackernet@infosec.exchange</td></tr><tr><td>null</td><td>2024-06-21T10:54:24.838+0000</td><td>112654238661764824</td><td></td><td>2024-06-21 10:54:20+00:00</td><td>elhackernet@infosec.exchange</td></tr></tbody></table></div>"
      ]
     },
     "metadata": {
      "application/vnd.databricks.v1+output": {
       "addedWidgets": {},
       "aggData": [],
       "aggError": "",
       "aggOverflow": false,
       "aggSchema": [],
       "aggSeriesLimitReached": false,
       "aggType": "",
       "arguments": {},
       "columnCustomDisplayInfos": {},
       "data": [
        [
         null,
         "2024-06-21T10:53:42.197+0000",
         "112654235862211765",
         "<p>A veces me paro a pensar y es fascinante que nos guste tanto la genitalia de las plantas xD</p>",
         "2024-06-21 10:53:41+00:00",
         "Ransil@todon.eu"
        ],
        [
         null,
         "2024-06-21T10:54:17.117+0000",
         "112654238154815524",
         "",
         "2024-06-21 10:54:15+00:00",
         "elhackernet@infosec.exchange"
        ],
        [
         null,
         "2024-06-21T10:54:24.838+0000",
         "112654238661764824",
         "",
         "2024-06-21 10:54:20+00:00",
         "elhackernet@infosec.exchange"
        ]
       ],
       "datasetInfos": [],
       "dbfsResultPath": null,
       "isJsonSchema": true,
       "metadata": {},
       "overflow": false,
       "plotOptions": {
        "customPlotOptions": {},
        "displayType": "table",
        "pivotAggregation": null,
        "pivotColumns": null,
        "xColumns": null,
        "yColumns": null
       },
       "removedWidgets": [],
       "schema": [
        {
         "metadata": "{}",
         "name": "key",
         "type": "\"string\""
        },
        {
         "metadata": "{}",
         "name": "timestamp",
         "type": "\"timestamp\""
        },
        {
         "metadata": "{}",
         "name": "id",
         "type": "\"string\""
        },
        {
         "metadata": "{}",
         "name": "content",
         "type": "\"string\""
        },
        {
         "metadata": "{}",
         "name": "created_at",
         "type": "\"string\""
        },
        {
         "metadata": "{}",
         "name": "account",
         "type": "\"string\""
        }
       ],
       "type": "table"
      }
     },
     "output_type": "display_data"
    }
   ],
   "source": [
    "%sql\n",
    "SELECT\n",
    "  *\n",
    "FROM\n",
    "  toots_topic"
   ]
  },
  {
   "cell_type": "markdown",
   "metadata": {
    "application/vnd.databricks.v1+cell": {
     "cellMetadata": {
      "byteLimit": 2048000,
      "rowLimit": 10000
     },
     "inputWidgets": {},
     "nuid": "e5e566c2-0d7f-4240-80d3-dfe7a2479735",
     "showTitle": false,
     "title": ""
    },
    "id": "jkR3V9kYE6IF"
   },
   "source": [
    "## Exercise 1"
   ]
  },
  {
   "cell_type": "markdown",
   "metadata": {
    "application/vnd.databricks.v1+cell": {
     "cellMetadata": {
      "byteLimit": 2048000,
      "rowLimit": 10000
     },
     "inputWidgets": {},
     "nuid": "42bca667-4e8e-4ba3-ac27-a05e270a1861",
     "showTitle": false,
     "title": ""
    },
    "id": "JmTOOQQUE8KV"
   },
   "source": [
    "Apply a sliding window each minute, 5 minutes of duration, grouping by `server`. A server in Mastodon is the domain in account column\n",
    "\n",
    "---\n",
    "\n"
   ]
  },
  {
   "cell_type": "code",
   "execution_count": 0,
   "metadata": {
    "application/vnd.databricks.v1+cell": {
     "cellMetadata": {
      "byteLimit": 2048000,
      "rowLimit": 10000
     },
     "inputWidgets": {},
     "nuid": "211de108-0686-41d1-b2d5-d32a7232e58b",
     "showTitle": false,
     "title": ""
    },
    "colab": {
     "base_uri": "https://localhost:8080/"
    },
    "id": "QnHdFUvEESoK",
    "outputId": "52ec66fd-b954-40fc-ec8e-9128631209b9"
   },
   "outputs": [
    {
     "output_type": "display_data",
     "data": {
      "text/html": [
       "<style scoped>\n",
       "  .table-result-container {\n",
       "    max-height: 300px;\n",
       "    overflow: auto;\n",
       "  }\n",
       "  table, th, td {\n",
       "    border: 1px solid black;\n",
       "    border-collapse: collapse;\n",
       "  }\n",
       "  th, td {\n",
       "    padding: 5px;\n",
       "  }\n",
       "  th {\n",
       "    text-align: left;\n",
       "  }\n",
       "</style><div class='table-result-container'><table class='table-result'><thead style='background-color: white'><tr><th>window</th><th>server</th><th>count</th></tr></thead><tbody><tr><td>List(2024-06-21T10:52:00.000+0000, 2024-06-21T10:57:00.000+0000)</td><td>infosec.exchange</td><td>2</td></tr><tr><td>List(2024-06-21T10:53:00.000+0000, 2024-06-21T10:58:00.000+0000)</td><td>mastodon.gamedev.place</td><td>1</td></tr><tr><td>List(2024-06-21T10:53:00.000+0000, 2024-06-21T10:58:00.000+0000)</td><td>social.lansky.name</td><td>1</td></tr><tr><td>List(2024-06-21T10:55:00.000+0000, 2024-06-21T11:00:00.000+0000)</td><td>mastodon.gamedev.place</td><td>1</td></tr><tr><td>List(2024-06-21T10:55:00.000+0000, 2024-06-21T11:00:00.000+0000)</td><td>plush.city</td><td>1</td></tr><tr><td>List(2024-06-21T10:54:00.000+0000, 2024-06-21T10:59:00.000+0000)</td><td>infosec.exchange</td><td>2</td></tr><tr><td>List(2024-06-21T10:56:00.000+0000, 2024-06-21T11:01:00.000+0000)</td><td>masto.pt</td><td>1</td></tr><tr><td>List(2024-06-21T10:55:00.000+0000, 2024-06-21T11:00:00.000+0000)</td><td>mastodon.art</td><td>1</td></tr><tr><td>List(2024-06-21T10:57:00.000+0000, 2024-06-21T11:02:00.000+0000)</td><td>mastodon.art</td><td>1</td></tr><tr><td>List(2024-06-21T10:53:00.000+0000, 2024-06-21T10:58:00.000+0000)</td><td>mastodon.art</td><td>1</td></tr><tr><td>List(2024-06-21T10:51:00.000+0000, 2024-06-21T10:56:00.000+0000)</td><td>mastodon.gamedev.place</td><td>1</td></tr><tr><td>List(2024-06-21T10:50:00.000+0000, 2024-06-21T10:55:00.000+0000)</td><td>infosec.exchange</td><td>1</td></tr><tr><td>List(2024-06-21T10:51:00.000+0000, 2024-06-21T10:56:00.000+0000)</td><td>social.lansky.name</td><td>1</td></tr><tr><td>List(2024-06-21T10:55:00.000+0000, 2024-06-21T11:00:00.000+0000)</td><td>masto.pt</td><td>1</td></tr><tr><td>List(2024-06-21T10:53:00.000+0000, 2024-06-21T10:58:00.000+0000)</td><td>masto.pt</td><td>1</td></tr><tr><td>List(2024-06-21T10:54:00.000+0000, 2024-06-21T10:59:00.000+0000)</td><td>plush.city</td><td>1</td></tr><tr><td>List(2024-06-21T10:52:00.000+0000, 2024-06-21T10:57:00.000+0000)</td><td>plush.city</td><td>1</td></tr><tr><td>List(2024-06-21T10:55:00.000+0000, 2024-06-21T11:00:00.000+0000)</td><td>infosec.exchange</td><td>1</td></tr><tr><td>List(2024-06-21T10:51:00.000+0000, 2024-06-21T10:56:00.000+0000)</td><td>plush.city</td><td>1</td></tr><tr><td>List(2024-06-21T10:52:00.000+0000, 2024-06-21T10:57:00.000+0000)</td><td>mastodon.gamedev.place</td><td>1</td></tr><tr><td>List(2024-06-21T10:54:00.000+0000, 2024-06-21T10:59:00.000+0000)</td><td>social.lansky.name</td><td>1</td></tr><tr><td>List(2024-06-21T10:57:00.000+0000, 2024-06-21T11:02:00.000+0000)</td><td>masto.pt</td><td>1</td></tr><tr><td>List(2024-06-21T10:56:00.000+0000, 2024-06-21T11:01:00.000+0000)</td><td>mastodon.art</td><td>1</td></tr><tr><td>List(2024-06-21T10:52:00.000+0000, 2024-06-21T10:57:00.000+0000)</td><td>social.lansky.name</td><td>1</td></tr><tr><td>List(2024-06-21T10:51:00.000+0000, 2024-06-21T10:56:00.000+0000)</td><td>infosec.exchange</td><td>2</td></tr><tr><td>List(2024-06-21T10:54:00.000+0000, 2024-06-21T10:59:00.000+0000)</td><td>masto.pt</td><td>1</td></tr><tr><td>List(2024-06-21T10:53:00.000+0000, 2024-06-21T10:58:00.000+0000)</td><td>plush.city</td><td>1</td></tr><tr><td>List(2024-06-21T10:55:00.000+0000, 2024-06-21T11:00:00.000+0000)</td><td>social.lansky.name</td><td>1</td></tr><tr><td>List(2024-06-21T10:53:00.000+0000, 2024-06-21T10:58:00.000+0000)</td><td>infosec.exchange</td><td>2</td></tr><tr><td>List(2024-06-21T10:54:00.000+0000, 2024-06-21T10:59:00.000+0000)</td><td>mastodon.gamedev.place</td><td>1</td></tr><tr><td>List(2024-06-21T10:54:00.000+0000, 2024-06-21T10:59:00.000+0000)</td><td>mastodon.art</td><td>1</td></tr></tbody></table></div>"
      ]
     },
     "metadata": {
      "application/vnd.databricks.v1+output": {
       "addedWidgets": {},
       "aggData": [],
       "aggError": "",
       "aggOverflow": false,
       "aggSchema": [],
       "aggSeriesLimitReached": false,
       "aggType": "",
       "arguments": {},
       "columnCustomDisplayInfos": {},
       "data": [
        [
         [
          "2024-06-21T10:52:00.000+0000",
          "2024-06-21T10:57:00.000+0000"
         ],
         "infosec.exchange",
         2
        ],
        [
         [
          "2024-06-21T10:53:00.000+0000",
          "2024-06-21T10:58:00.000+0000"
         ],
         "mastodon.gamedev.place",
         1
        ],
        [
         [
          "2024-06-21T10:53:00.000+0000",
          "2024-06-21T10:58:00.000+0000"
         ],
         "social.lansky.name",
         1
        ],
        [
         [
          "2024-06-21T10:55:00.000+0000",
          "2024-06-21T11:00:00.000+0000"
         ],
         "mastodon.gamedev.place",
         1
        ],
        [
         [
          "2024-06-21T10:55:00.000+0000",
          "2024-06-21T11:00:00.000+0000"
         ],
         "plush.city",
         1
        ],
        [
         [
          "2024-06-21T10:54:00.000+0000",
          "2024-06-21T10:59:00.000+0000"
         ],
         "infosec.exchange",
         2
        ],
        [
         [
          "2024-06-21T10:56:00.000+0000",
          "2024-06-21T11:01:00.000+0000"
         ],
         "masto.pt",
         1
        ],
        [
         [
          "2024-06-21T10:55:00.000+0000",
          "2024-06-21T11:00:00.000+0000"
         ],
         "mastodon.art",
         1
        ],
        [
         [
          "2024-06-21T10:57:00.000+0000",
          "2024-06-21T11:02:00.000+0000"
         ],
         "mastodon.art",
         1
        ],
        [
         [
          "2024-06-21T10:53:00.000+0000",
          "2024-06-21T10:58:00.000+0000"
         ],
         "mastodon.art",
         1
        ],
        [
         [
          "2024-06-21T10:51:00.000+0000",
          "2024-06-21T10:56:00.000+0000"
         ],
         "mastodon.gamedev.place",
         1
        ],
        [
         [
          "2024-06-21T10:50:00.000+0000",
          "2024-06-21T10:55:00.000+0000"
         ],
         "infosec.exchange",
         1
        ],
        [
         [
          "2024-06-21T10:51:00.000+0000",
          "2024-06-21T10:56:00.000+0000"
         ],
         "social.lansky.name",
         1
        ],
        [
         [
          "2024-06-21T10:55:00.000+0000",
          "2024-06-21T11:00:00.000+0000"
         ],
         "masto.pt",
         1
        ],
        [
         [
          "2024-06-21T10:53:00.000+0000",
          "2024-06-21T10:58:00.000+0000"
         ],
         "masto.pt",
         1
        ],
        [
         [
          "2024-06-21T10:54:00.000+0000",
          "2024-06-21T10:59:00.000+0000"
         ],
         "plush.city",
         1
        ],
        [
         [
          "2024-06-21T10:52:00.000+0000",
          "2024-06-21T10:57:00.000+0000"
         ],
         "plush.city",
         1
        ],
        [
         [
          "2024-06-21T10:55:00.000+0000",
          "2024-06-21T11:00:00.000+0000"
         ],
         "infosec.exchange",
         1
        ],
        [
         [
          "2024-06-21T10:51:00.000+0000",
          "2024-06-21T10:56:00.000+0000"
         ],
         "plush.city",
         1
        ],
        [
         [
          "2024-06-21T10:52:00.000+0000",
          "2024-06-21T10:57:00.000+0000"
         ],
         "mastodon.gamedev.place",
         1
        ],
        [
         [
          "2024-06-21T10:54:00.000+0000",
          "2024-06-21T10:59:00.000+0000"
         ],
         "social.lansky.name",
         1
        ],
        [
         [
          "2024-06-21T10:57:00.000+0000",
          "2024-06-21T11:02:00.000+0000"
         ],
         "masto.pt",
         1
        ],
        [
         [
          "2024-06-21T10:56:00.000+0000",
          "2024-06-21T11:01:00.000+0000"
         ],
         "mastodon.art",
         1
        ],
        [
         [
          "2024-06-21T10:52:00.000+0000",
          "2024-06-21T10:57:00.000+0000"
         ],
         "social.lansky.name",
         1
        ],
        [
         [
          "2024-06-21T10:51:00.000+0000",
          "2024-06-21T10:56:00.000+0000"
         ],
         "infosec.exchange",
         2
        ],
        [
         [
          "2024-06-21T10:54:00.000+0000",
          "2024-06-21T10:59:00.000+0000"
         ],
         "masto.pt",
         1
        ],
        [
         [
          "2024-06-21T10:53:00.000+0000",
          "2024-06-21T10:58:00.000+0000"
         ],
         "plush.city",
         1
        ],
        [
         [
          "2024-06-21T10:55:00.000+0000",
          "2024-06-21T11:00:00.000+0000"
         ],
         "social.lansky.name",
         1
        ],
        [
         [
          "2024-06-21T10:53:00.000+0000",
          "2024-06-21T10:58:00.000+0000"
         ],
         "infosec.exchange",
         2
        ],
        [
         [
          "2024-06-21T10:54:00.000+0000",
          "2024-06-21T10:59:00.000+0000"
         ],
         "mastodon.gamedev.place",
         1
        ],
        [
         [
          "2024-06-21T10:54:00.000+0000",
          "2024-06-21T10:59:00.000+0000"
         ],
         "mastodon.art",
         1
        ]
       ],
       "datasetInfos": [],
       "dbfsResultPath": null,
       "isJsonSchema": true,
       "metadata": {
        "isDbfsCommandResult": false
       },
       "overflow": false,
       "plotOptions": {
        "customPlotOptions": {},
        "displayType": "table",
        "pivotAggregation": null,
        "pivotColumns": null,
        "xColumns": null,
        "yColumns": null
       },
       "removedWidgets": [],
       "schema": [
        {
         "metadata": "{\"spark.timeWindow\":true}",
         "name": "window",
         "type": "{\"type\":\"struct\",\"fields\":[{\"name\":\"start\",\"type\":\"timestamp\",\"nullable\":true,\"metadata\":{}},{\"name\":\"end\",\"type\":\"timestamp\",\"nullable\":true,\"metadata\":{}}]}"
        },
        {
         "metadata": "{}",
         "name": "server",
         "type": "\"string\""
        },
        {
         "metadata": "{}",
         "name": "count",
         "type": "\"long\""
        }
       ],
       "type": "table"
      }
     },
     "output_type": "display_data"
    }
   ],
   "source": [
    "from pyspark.sql.functions import col, window, split, when\n",
    "(\n",
    "dataset\n",
    "  .withColumn(\"server\", when(col(\"account\").contains(\"@\"), split(col(\"account\"), \"@\").getItem(1))\n",
    "                   .otherwise(None))\n",
    "  .groupBy(window(col(\"timestamp\"), \"5 minutes\", \"1 minutes\"), col(\"server\"))\n",
    "  .count()\n",
    "  .display()\n",
    ")"
   ]
  },
  {
   "cell_type": "code",
   "execution_count": 0,
   "metadata": {
    "application/vnd.databricks.v1+cell": {
     "cellMetadata": {
      "byteLimit": 2048000,
      "rowLimit": 10000
     },
     "inputWidgets": {},
     "nuid": "4fbca664-e483-4d14-81f0-2c89e8d38299",
     "showTitle": false,
     "title": ""
    }
   },
   "outputs": [
    {
     "output_type": "execute_result",
     "data": {
      "text/plain": [
       "<pyspark.sql.streaming.query.StreamingQuery at 0x7feedc4d5db0>"
      ]
     },
     "execution_count": 22,
     "metadata": {},
     "output_type": "execute_result"
    }
   ],
   "source": [
    "from pyspark.sql.functions import col, window, split, when\n",
    "(\n",
    "dataset\n",
    "  .withColumn(\"server\", when(col(\"account\").contains(\"@\"), split(col(\"account\"), \"@\").getItem(1))\n",
    "                   .otherwise(None))\n",
    "  .groupBy(window(col(\"timestamp\"), \"5 minutes\", \"1 minutes\"), col(\"server\"))\n",
    "  .count()\n",
    "  .writeStream \\\n",
    "  .outputMode(\"update\") \\\n",
    "  .format(\"memory\") \\\n",
    "  .option(\"truncate\", \"false\") \\\n",
    "  .queryName(\"toots_update_topic\") \\\n",
    "  .start()\n",
    ")"
   ]
  },
  {
   "cell_type": "code",
   "execution_count": 0,
   "metadata": {
    "application/vnd.databricks.v1+cell": {
     "cellMetadata": {
      "byteLimit": 2048000,
      "implicitDf": true,
      "rowLimit": 10000
     },
     "inputWidgets": {},
     "nuid": "2109698b-beaa-4037-befb-479faed9d80b",
     "showTitle": false,
     "title": ""
    }
   },
   "outputs": [
    {
     "output_type": "display_data",
     "data": {
      "text/html": [
       "<style scoped>\n",
       "  .table-result-container {\n",
       "    max-height: 300px;\n",
       "    overflow: auto;\n",
       "  }\n",
       "  table, th, td {\n",
       "    border: 1px solid black;\n",
       "    border-collapse: collapse;\n",
       "  }\n",
       "  th, td {\n",
       "    padding: 5px;\n",
       "  }\n",
       "  th {\n",
       "    text-align: left;\n",
       "  }\n",
       "</style><div class='table-result-container'><table class='table-result'><thead style='background-color: white'><tr><th>window</th><th>server</th><th>count</th></tr></thead><tbody><tr><td>List(2024-03-10T11:27:00Z, 2024-03-10T11:32:00Z)</td><td>chaosfem.tw</td><td>1</td></tr><tr><td>List(2024-03-10T11:23:00Z, 2024-03-10T11:28:00Z)</td><td>chaosfem.tw</td><td>1</td></tr><tr><td>List(2024-03-10T11:26:00Z, 2024-03-10T11:31:00Z)</td><td>chaosfem.tw</td><td>1</td></tr><tr><td>List(2024-03-10T11:25:00Z, 2024-03-10T11:30:00Z)</td><td>chaosfem.tw</td><td>1</td></tr><tr><td>List(2024-03-10T11:24:00Z, 2024-03-10T11:29:00Z)</td><td>chaosfem.tw</td><td>1</td></tr><tr><td>List(2024-03-10T11:25:00Z, 2024-03-10T11:30:00Z)</td><td>mstdn.jp</td><td>1</td></tr><tr><td>List(2024-03-10T11:28:00Z, 2024-03-10T11:33:00Z)</td><td>mstdn.jp</td><td>1</td></tr><tr><td>List(2024-03-10T11:25:00Z, 2024-03-10T11:30:00Z)</td><td>41020.social</td><td>1</td></tr><tr><td>List(2024-03-10T11:27:00Z, 2024-03-10T11:32:00Z)</td><td>41020.social</td><td>1</td></tr><tr><td>List(2024-03-10T11:28:00Z, 2024-03-10T11:33:00Z)</td><td>41020.social</td><td>1</td></tr><tr><td>List(2024-03-10T11:27:00Z, 2024-03-10T11:32:00Z)</td><td>mastodon.social</td><td>1</td></tr><tr><td>List(2024-03-10T11:25:00Z, 2024-03-10T11:30:00Z)</td><td>mastodon.social</td><td>1</td></tr><tr><td>List(2024-03-10T11:24:00Z, 2024-03-10T11:29:00Z)</td><td>mastodon.social</td><td>1</td></tr><tr><td>List(2024-03-10T11:26:00Z, 2024-03-10T11:31:00Z)</td><td>mastodon.social</td><td>1</td></tr><tr><td>List(2024-03-10T11:24:00Z, 2024-03-10T11:29:00Z)</td><td>mstdn.jp</td><td>1</td></tr><tr><td>List(2024-03-10T11:24:00Z, 2024-03-10T11:29:00Z)</td><td>41020.social</td><td>1</td></tr><tr><td>List(2024-03-10T11:26:00Z, 2024-03-10T11:31:00Z)</td><td>41020.social</td><td>1</td></tr><tr><td>List(2024-03-10T11:23:00Z, 2024-03-10T11:28:00Z)</td><td>mastodon.social</td><td>1</td></tr><tr><td>List(2024-03-10T11:27:00Z, 2024-03-10T11:32:00Z)</td><td>mstdn.jp</td><td>1</td></tr><tr><td>List(2024-03-10T11:26:00Z, 2024-03-10T11:31:00Z)</td><td>mstdn.jp</td><td>1</td></tr><tr><td>List(2024-03-10T11:26:00Z, 2024-03-10T11:31:00Z)</td><td>treehouse.systems</td><td>1</td></tr><tr><td>List(2024-03-10T11:26:00Z, 2024-03-10T11:31:00Z)</td><td>todon.eu</td><td>1</td></tr><tr><td>List(2024-03-10T11:28:00Z, 2024-03-10T11:33:00Z)</td><td>hostux.social</td><td>1</td></tr><tr><td>List(2024-03-10T11:25:00Z, 2024-03-10T11:30:00Z)</td><td>todon.eu</td><td>1</td></tr><tr><td>List(2024-03-10T11:26:00Z, 2024-03-10T11:31:00Z)</td><td>hostux.social</td><td>1</td></tr><tr><td>List(2024-03-10T11:27:00Z, 2024-03-10T11:32:00Z)</td><td>todon.eu</td><td>1</td></tr><tr><td>List(2024-03-10T11:24:00Z, 2024-03-10T11:29:00Z)</td><td>treehouse.systems</td><td>1</td></tr><tr><td>List(2024-03-10T11:24:00Z, 2024-03-10T11:29:00Z)</td><td>todon.eu</td><td>1</td></tr><tr><td>List(2024-03-10T11:25:00Z, 2024-03-10T11:30:00Z)</td><td>hostux.social</td><td>1</td></tr><tr><td>List(2024-03-10T11:24:00Z, 2024-03-10T11:29:00Z)</td><td>hostux.social</td><td>1</td></tr><tr><td>List(2024-03-10T11:25:00Z, 2024-03-10T11:30:00Z)</td><td>treehouse.systems</td><td>1</td></tr><tr><td>List(2024-03-10T11:28:00Z, 2024-03-10T11:33:00Z)</td><td>todon.eu</td><td>1</td></tr><tr><td>List(2024-03-10T11:28:00Z, 2024-03-10T11:33:00Z)</td><td>treehouse.systems</td><td>1</td></tr><tr><td>List(2024-03-10T11:27:00Z, 2024-03-10T11:32:00Z)</td><td>hostux.social</td><td>1</td></tr><tr><td>List(2024-03-10T11:27:00Z, 2024-03-10T11:32:00Z)</td><td>treehouse.systems</td><td>1</td></tr><tr><td>List(2024-03-10T11:28:00Z, 2024-03-10T11:33:00Z)</td><td>akko.wtf</td><td>2</td></tr><tr><td>List(2024-03-10T11:29:00Z, 2024-03-10T11:34:00Z)</td><td>akko.wtf</td><td>2</td></tr><tr><td>List(2024-03-10T11:27:00Z, 2024-03-10T11:32:00Z)</td><td>akko.wtf</td><td>2</td></tr><tr><td>List(2024-03-10T11:26:00Z, 2024-03-10T11:31:00Z)</td><td>akko.wtf</td><td>2</td></tr><tr><td>List(2024-03-10T11:25:00Z, 2024-03-10T11:30:00Z)</td><td>akko.wtf</td><td>2</td></tr><tr><td>List(2024-03-10T11:26:00Z, 2024-03-10T11:31:00Z)</td><td>meow.social</td><td>1</td></tr><tr><td>List(2024-03-10T11:28:00Z, 2024-03-10T11:33:00Z)</td><td>meow.social</td><td>1</td></tr><tr><td>List(2024-03-10T11:26:00Z, 2024-03-10T11:31:00Z)</td><td>mastodont.cat</td><td>1</td></tr><tr><td>List(2024-03-10T11:28:00Z, 2024-03-10T11:33:00Z)</td><td>mastodont.cat</td><td>1</td></tr><tr><td>List(2024-03-10T11:27:00Z, 2024-03-10T11:32:00Z)</td><td>meow.social</td><td>1</td></tr><tr><td>List(2024-03-10T11:29:00Z, 2024-03-10T11:34:00Z)</td><td>mastodont.cat</td><td>1</td></tr><tr><td>List(2024-03-10T11:30:00Z, 2024-03-10T11:35:00Z)</td><td>meow.social</td><td>1</td></tr><tr><td>List(2024-03-10T11:29:00Z, 2024-03-10T11:34:00Z)</td><td>meow.social</td><td>1</td></tr><tr><td>List(2024-03-10T11:27:00Z, 2024-03-10T11:32:00Z)</td><td>mastodont.cat</td><td>1</td></tr><tr><td>List(2024-03-10T11:30:00Z, 2024-03-10T11:35:00Z)</td><td>mastodont.cat</td><td>1</td></tr><tr><td>List(2024-03-10T11:30:00Z, 2024-03-10T11:35:00Z)</td><td>gnusocial.net</td><td>1</td></tr><tr><td>List(2024-03-10T11:28:00Z, 2024-03-10T11:33:00Z)</td><td>gnusocial.net</td><td>1</td></tr><tr><td>List(2024-03-10T11:29:00Z, 2024-03-10T11:34:00Z)</td><td>gnusocial.net</td><td>1</td></tr><tr><td>List(2024-03-10T11:26:00Z, 2024-03-10T11:31:00Z)</td><td>gnusocial.net</td><td>1</td></tr><tr><td>List(2024-03-10T11:27:00Z, 2024-03-10T11:32:00Z)</td><td>gnusocial.net</td><td>1</td></tr><tr><td>List(2024-03-10T11:29:00Z, 2024-03-10T11:34:00Z)</td><td>social.fairphone.community</td><td>1</td></tr><tr><td>List(2024-03-10T11:31:00Z, 2024-03-10T11:36:00Z)</td><td>social.fairphone.community</td><td>1</td></tr><tr><td>List(2024-03-10T11:28:00Z, 2024-03-10T11:33:00Z)</td><td>social.fairphone.community</td><td>1</td></tr><tr><td>List(2024-03-10T11:30:00Z, 2024-03-10T11:35:00Z)</td><td>social.fairphone.community</td><td>1</td></tr><tr><td>List(2024-03-10T11:27:00Z, 2024-03-10T11:32:00Z)</td><td>social.fairphone.community</td><td>1</td></tr><tr><td>List(2024-03-10T11:28:00Z, 2024-03-10T11:33:00Z)</td><td>mstdn.jp</td><td>2</td></tr><tr><td>List(2024-03-10T11:30:00Z, 2024-03-10T11:35:00Z)</td><td>mstdn.jp</td><td>1</td></tr><tr><td>List(2024-03-10T11:31:00Z, 2024-03-10T11:36:00Z)</td><td>social.mikutter.hachune.net</td><td>1</td></tr><tr><td>List(2024-03-10T11:29:00Z, 2024-03-10T11:34:00Z)</td><td>mstdn.jp</td><td>1</td></tr><tr><td>List(2024-03-10T11:28:00Z, 2024-03-10T11:33:00Z)</td><td>social.mikutter.hachune.net</td><td>1</td></tr><tr><td>List(2024-03-10T11:27:00Z, 2024-03-10T11:32:00Z)</td><td>social.mikutter.hachune.net</td><td>1</td></tr><tr><td>List(2024-03-10T11:29:00Z, 2024-03-10T11:34:00Z)</td><td>social.mikutter.hachune.net</td><td>1</td></tr><tr><td>List(2024-03-10T11:30:00Z, 2024-03-10T11:35:00Z)</td><td>social.mikutter.hachune.net</td><td>1</td></tr><tr><td>List(2024-03-10T11:31:00Z, 2024-03-10T11:36:00Z)</td><td>mstdn.jp</td><td>1</td></tr><tr><td>List(2024-03-10T11:27:00Z, 2024-03-10T11:32:00Z)</td><td>mstdn.jp</td><td>2</td></tr><tr><td>List(2024-03-10T11:28:00Z, 2024-03-10T11:33:00Z)</td><td>mastodon.uno</td><td>1</td></tr><tr><td>List(2024-03-10T11:28:00Z, 2024-03-10T11:33:00Z)</td><td>meow.social</td><td>2</td></tr><tr><td>List(2024-03-10T11:31:00Z, 2024-03-10T11:36:00Z)</td><td>mastodon.uno</td><td>1</td></tr><tr><td>List(2024-03-10T11:27:00Z, 2024-03-10T11:32:00Z)</td><td>meow.social</td><td>2</td></tr><tr><td>List(2024-03-10T11:29:00Z, 2024-03-10T11:34:00Z)</td><td>mastodon.uno</td><td>1</td></tr><tr><td>List(2024-03-10T11:30:00Z, 2024-03-10T11:35:00Z)</td><td>mastodon.uno</td><td>1</td></tr><tr><td>List(2024-03-10T11:31:00Z, 2024-03-10T11:36:00Z)</td><td>meow.social</td><td>1</td></tr><tr><td>List(2024-03-10T11:30:00Z, 2024-03-10T11:35:00Z)</td><td>meow.social</td><td>2</td></tr><tr><td>List(2024-03-10T11:32:00Z, 2024-03-10T11:37:00Z)</td><td>mastodon.uno</td><td>1</td></tr><tr><td>List(2024-03-10T11:29:00Z, 2024-03-10T11:34:00Z)</td><td>meow.social</td><td>2</td></tr><tr><td>List(2024-03-10T11:32:00Z, 2024-03-10T11:37:00Z)</td><td>social.mikutter.hachune.net</td><td>1</td></tr><tr><td>List(2024-03-10T11:31:00Z, 2024-03-10T11:36:00Z)</td><td>social.mikutter.hachune.net</td><td>2</td></tr><tr><td>List(2024-03-10T11:28:00Z, 2024-03-10T11:33:00Z)</td><td>social.mikutter.hachune.net</td><td>2</td></tr><tr><td>List(2024-03-10T11:29:00Z, 2024-03-10T11:34:00Z)</td><td>social.mikutter.hachune.net</td><td>2</td></tr><tr><td>List(2024-03-10T11:30:00Z, 2024-03-10T11:35:00Z)</td><td>social.mikutter.hachune.net</td><td>2</td></tr><tr><td>List(2024-03-10T11:33:00Z, 2024-03-10T11:38:00Z)</td><td>mastodon.social</td><td>1</td></tr><tr><td>List(2024-03-10T11:30:00Z, 2024-03-10T11:35:00Z)</td><td>mastodon.social</td><td>1</td></tr><tr><td>List(2024-03-10T11:31:00Z, 2024-03-10T11:36:00Z)</td><td>mastodon.social</td><td>1</td></tr><tr><td>List(2024-03-10T11:32:00Z, 2024-03-10T11:37:00Z)</td><td>mastodon.social</td><td>1</td></tr><tr><td>List(2024-03-10T11:29:00Z, 2024-03-10T11:34:00Z)</td><td>mastodon.social</td><td>1</td></tr><tr><td>List(2024-03-10T11:32:00Z, 2024-03-10T11:37:00Z)</td><td>is-a.wyvern.rip</td><td>1</td></tr><tr><td>List(2024-03-10T11:33:00Z, 2024-03-10T11:38:00Z)</td><td>mastodon.social</td><td>2</td></tr><tr><td>List(2024-03-10T11:30:00Z, 2024-03-10T11:35:00Z)</td><td>is-a.wyvern.rip</td><td>1</td></tr><tr><td>List(2024-03-10T11:31:00Z, 2024-03-10T11:36:00Z)</td><td>is-a.wyvern.rip</td><td>1</td></tr><tr><td>List(2024-03-10T11:30:00Z, 2024-03-10T11:35:00Z)</td><td>mastodon.social</td><td>2</td></tr><tr><td>List(2024-03-10T11:34:00Z, 2024-03-10T11:39:00Z)</td><td>is-a.wyvern.rip</td><td>1</td></tr><tr><td>List(2024-03-10T11:31:00Z, 2024-03-10T11:36:00Z)</td><td>mastodon.social</td><td>2</td></tr><tr><td>List(2024-03-10T11:32:00Z, 2024-03-10T11:37:00Z)</td><td>mastodon.social</td><td>2</td></tr><tr><td>List(2024-03-10T11:29:00Z, 2024-03-10T11:34:00Z)</td><td>mastodon.social</td><td>2</td></tr><tr><td>List(2024-03-10T11:33:00Z, 2024-03-10T11:38:00Z)</td><td>is-a.wyvern.rip</td><td>1</td></tr></tbody></table></div>"
      ]
     },
     "metadata": {
      "application/vnd.databricks.v1+output": {
       "addedWidgets": {},
       "aggData": [],
       "aggError": "",
       "aggOverflow": false,
       "aggSchema": [],
       "aggSeriesLimitReached": false,
       "aggType": "",
       "arguments": {},
       "columnCustomDisplayInfos": {},
       "data": [
        [
         [
          "2024-03-10T11:27:00Z",
          "2024-03-10T11:32:00Z"
         ],
         "chaosfem.tw",
         1
        ],
        [
         [
          "2024-03-10T11:23:00Z",
          "2024-03-10T11:28:00Z"
         ],
         "chaosfem.tw",
         1
        ],
        [
         [
          "2024-03-10T11:26:00Z",
          "2024-03-10T11:31:00Z"
         ],
         "chaosfem.tw",
         1
        ],
        [
         [
          "2024-03-10T11:25:00Z",
          "2024-03-10T11:30:00Z"
         ],
         "chaosfem.tw",
         1
        ],
        [
         [
          "2024-03-10T11:24:00Z",
          "2024-03-10T11:29:00Z"
         ],
         "chaosfem.tw",
         1
        ],
        [
         [
          "2024-03-10T11:25:00Z",
          "2024-03-10T11:30:00Z"
         ],
         "mstdn.jp",
         1
        ],
        [
         [
          "2024-03-10T11:28:00Z",
          "2024-03-10T11:33:00Z"
         ],
         "mstdn.jp",
         1
        ],
        [
         [
          "2024-03-10T11:25:00Z",
          "2024-03-10T11:30:00Z"
         ],
         "41020.social",
         1
        ],
        [
         [
          "2024-03-10T11:27:00Z",
          "2024-03-10T11:32:00Z"
         ],
         "41020.social",
         1
        ],
        [
         [
          "2024-03-10T11:28:00Z",
          "2024-03-10T11:33:00Z"
         ],
         "41020.social",
         1
        ],
        [
         [
          "2024-03-10T11:27:00Z",
          "2024-03-10T11:32:00Z"
         ],
         "mastodon.social",
         1
        ],
        [
         [
          "2024-03-10T11:25:00Z",
          "2024-03-10T11:30:00Z"
         ],
         "mastodon.social",
         1
        ],
        [
         [
          "2024-03-10T11:24:00Z",
          "2024-03-10T11:29:00Z"
         ],
         "mastodon.social",
         1
        ],
        [
         [
          "2024-03-10T11:26:00Z",
          "2024-03-10T11:31:00Z"
         ],
         "mastodon.social",
         1
        ],
        [
         [
          "2024-03-10T11:24:00Z",
          "2024-03-10T11:29:00Z"
         ],
         "mstdn.jp",
         1
        ],
        [
         [
          "2024-03-10T11:24:00Z",
          "2024-03-10T11:29:00Z"
         ],
         "41020.social",
         1
        ],
        [
         [
          "2024-03-10T11:26:00Z",
          "2024-03-10T11:31:00Z"
         ],
         "41020.social",
         1
        ],
        [
         [
          "2024-03-10T11:23:00Z",
          "2024-03-10T11:28:00Z"
         ],
         "mastodon.social",
         1
        ],
        [
         [
          "2024-03-10T11:27:00Z",
          "2024-03-10T11:32:00Z"
         ],
         "mstdn.jp",
         1
        ],
        [
         [
          "2024-03-10T11:26:00Z",
          "2024-03-10T11:31:00Z"
         ],
         "mstdn.jp",
         1
        ],
        [
         [
          "2024-03-10T11:26:00Z",
          "2024-03-10T11:31:00Z"
         ],
         "treehouse.systems",
         1
        ],
        [
         [
          "2024-03-10T11:26:00Z",
          "2024-03-10T11:31:00Z"
         ],
         "todon.eu",
         1
        ],
        [
         [
          "2024-03-10T11:28:00Z",
          "2024-03-10T11:33:00Z"
         ],
         "hostux.social",
         1
        ],
        [
         [
          "2024-03-10T11:25:00Z",
          "2024-03-10T11:30:00Z"
         ],
         "todon.eu",
         1
        ],
        [
         [
          "2024-03-10T11:26:00Z",
          "2024-03-10T11:31:00Z"
         ],
         "hostux.social",
         1
        ],
        [
         [
          "2024-03-10T11:27:00Z",
          "2024-03-10T11:32:00Z"
         ],
         "todon.eu",
         1
        ],
        [
         [
          "2024-03-10T11:24:00Z",
          "2024-03-10T11:29:00Z"
         ],
         "treehouse.systems",
         1
        ],
        [
         [
          "2024-03-10T11:24:00Z",
          "2024-03-10T11:29:00Z"
         ],
         "todon.eu",
         1
        ],
        [
         [
          "2024-03-10T11:25:00Z",
          "2024-03-10T11:30:00Z"
         ],
         "hostux.social",
         1
        ],
        [
         [
          "2024-03-10T11:24:00Z",
          "2024-03-10T11:29:00Z"
         ],
         "hostux.social",
         1
        ],
        [
         [
          "2024-03-10T11:25:00Z",
          "2024-03-10T11:30:00Z"
         ],
         "treehouse.systems",
         1
        ],
        [
         [
          "2024-03-10T11:28:00Z",
          "2024-03-10T11:33:00Z"
         ],
         "todon.eu",
         1
        ],
        [
         [
          "2024-03-10T11:28:00Z",
          "2024-03-10T11:33:00Z"
         ],
         "treehouse.systems",
         1
        ],
        [
         [
          "2024-03-10T11:27:00Z",
          "2024-03-10T11:32:00Z"
         ],
         "hostux.social",
         1
        ],
        [
         [
          "2024-03-10T11:27:00Z",
          "2024-03-10T11:32:00Z"
         ],
         "treehouse.systems",
         1
        ],
        [
         [
          "2024-03-10T11:28:00Z",
          "2024-03-10T11:33:00Z"
         ],
         "akko.wtf",
         2
        ],
        [
         [
          "2024-03-10T11:29:00Z",
          "2024-03-10T11:34:00Z"
         ],
         "akko.wtf",
         2
        ],
        [
         [
          "2024-03-10T11:27:00Z",
          "2024-03-10T11:32:00Z"
         ],
         "akko.wtf",
         2
        ],
        [
         [
          "2024-03-10T11:26:00Z",
          "2024-03-10T11:31:00Z"
         ],
         "akko.wtf",
         2
        ],
        [
         [
          "2024-03-10T11:25:00Z",
          "2024-03-10T11:30:00Z"
         ],
         "akko.wtf",
         2
        ],
        [
         [
          "2024-03-10T11:26:00Z",
          "2024-03-10T11:31:00Z"
         ],
         "meow.social",
         1
        ],
        [
         [
          "2024-03-10T11:28:00Z",
          "2024-03-10T11:33:00Z"
         ],
         "meow.social",
         1
        ],
        [
         [
          "2024-03-10T11:26:00Z",
          "2024-03-10T11:31:00Z"
         ],
         "mastodont.cat",
         1
        ],
        [
         [
          "2024-03-10T11:28:00Z",
          "2024-03-10T11:33:00Z"
         ],
         "mastodont.cat",
         1
        ],
        [
         [
          "2024-03-10T11:27:00Z",
          "2024-03-10T11:32:00Z"
         ],
         "meow.social",
         1
        ],
        [
         [
          "2024-03-10T11:29:00Z",
          "2024-03-10T11:34:00Z"
         ],
         "mastodont.cat",
         1
        ],
        [
         [
          "2024-03-10T11:30:00Z",
          "2024-03-10T11:35:00Z"
         ],
         "meow.social",
         1
        ],
        [
         [
          "2024-03-10T11:29:00Z",
          "2024-03-10T11:34:00Z"
         ],
         "meow.social",
         1
        ],
        [
         [
          "2024-03-10T11:27:00Z",
          "2024-03-10T11:32:00Z"
         ],
         "mastodont.cat",
         1
        ],
        [
         [
          "2024-03-10T11:30:00Z",
          "2024-03-10T11:35:00Z"
         ],
         "mastodont.cat",
         1
        ],
        [
         [
          "2024-03-10T11:30:00Z",
          "2024-03-10T11:35:00Z"
         ],
         "gnusocial.net",
         1
        ],
        [
         [
          "2024-03-10T11:28:00Z",
          "2024-03-10T11:33:00Z"
         ],
         "gnusocial.net",
         1
        ],
        [
         [
          "2024-03-10T11:29:00Z",
          "2024-03-10T11:34:00Z"
         ],
         "gnusocial.net",
         1
        ],
        [
         [
          "2024-03-10T11:26:00Z",
          "2024-03-10T11:31:00Z"
         ],
         "gnusocial.net",
         1
        ],
        [
         [
          "2024-03-10T11:27:00Z",
          "2024-03-10T11:32:00Z"
         ],
         "gnusocial.net",
         1
        ],
        [
         [
          "2024-03-10T11:29:00Z",
          "2024-03-10T11:34:00Z"
         ],
         "social.fairphone.community",
         1
        ],
        [
         [
          "2024-03-10T11:31:00Z",
          "2024-03-10T11:36:00Z"
         ],
         "social.fairphone.community",
         1
        ],
        [
         [
          "2024-03-10T11:28:00Z",
          "2024-03-10T11:33:00Z"
         ],
         "social.fairphone.community",
         1
        ],
        [
         [
          "2024-03-10T11:30:00Z",
          "2024-03-10T11:35:00Z"
         ],
         "social.fairphone.community",
         1
        ],
        [
         [
          "2024-03-10T11:27:00Z",
          "2024-03-10T11:32:00Z"
         ],
         "social.fairphone.community",
         1
        ],
        [
         [
          "2024-03-10T11:28:00Z",
          "2024-03-10T11:33:00Z"
         ],
         "mstdn.jp",
         2
        ],
        [
         [
          "2024-03-10T11:30:00Z",
          "2024-03-10T11:35:00Z"
         ],
         "mstdn.jp",
         1
        ],
        [
         [
          "2024-03-10T11:31:00Z",
          "2024-03-10T11:36:00Z"
         ],
         "social.mikutter.hachune.net",
         1
        ],
        [
         [
          "2024-03-10T11:29:00Z",
          "2024-03-10T11:34:00Z"
         ],
         "mstdn.jp",
         1
        ],
        [
         [
          "2024-03-10T11:28:00Z",
          "2024-03-10T11:33:00Z"
         ],
         "social.mikutter.hachune.net",
         1
        ],
        [
         [
          "2024-03-10T11:27:00Z",
          "2024-03-10T11:32:00Z"
         ],
         "social.mikutter.hachune.net",
         1
        ],
        [
         [
          "2024-03-10T11:29:00Z",
          "2024-03-10T11:34:00Z"
         ],
         "social.mikutter.hachune.net",
         1
        ],
        [
         [
          "2024-03-10T11:30:00Z",
          "2024-03-10T11:35:00Z"
         ],
         "social.mikutter.hachune.net",
         1
        ],
        [
         [
          "2024-03-10T11:31:00Z",
          "2024-03-10T11:36:00Z"
         ],
         "mstdn.jp",
         1
        ],
        [
         [
          "2024-03-10T11:27:00Z",
          "2024-03-10T11:32:00Z"
         ],
         "mstdn.jp",
         2
        ],
        [
         [
          "2024-03-10T11:28:00Z",
          "2024-03-10T11:33:00Z"
         ],
         "mastodon.uno",
         1
        ],
        [
         [
          "2024-03-10T11:28:00Z",
          "2024-03-10T11:33:00Z"
         ],
         "meow.social",
         2
        ],
        [
         [
          "2024-03-10T11:31:00Z",
          "2024-03-10T11:36:00Z"
         ],
         "mastodon.uno",
         1
        ],
        [
         [
          "2024-03-10T11:27:00Z",
          "2024-03-10T11:32:00Z"
         ],
         "meow.social",
         2
        ],
        [
         [
          "2024-03-10T11:29:00Z",
          "2024-03-10T11:34:00Z"
         ],
         "mastodon.uno",
         1
        ],
        [
         [
          "2024-03-10T11:30:00Z",
          "2024-03-10T11:35:00Z"
         ],
         "mastodon.uno",
         1
        ],
        [
         [
          "2024-03-10T11:31:00Z",
          "2024-03-10T11:36:00Z"
         ],
         "meow.social",
         1
        ],
        [
         [
          "2024-03-10T11:30:00Z",
          "2024-03-10T11:35:00Z"
         ],
         "meow.social",
         2
        ],
        [
         [
          "2024-03-10T11:32:00Z",
          "2024-03-10T11:37:00Z"
         ],
         "mastodon.uno",
         1
        ],
        [
         [
          "2024-03-10T11:29:00Z",
          "2024-03-10T11:34:00Z"
         ],
         "meow.social",
         2
        ],
        [
         [
          "2024-03-10T11:32:00Z",
          "2024-03-10T11:37:00Z"
         ],
         "social.mikutter.hachune.net",
         1
        ],
        [
         [
          "2024-03-10T11:31:00Z",
          "2024-03-10T11:36:00Z"
         ],
         "social.mikutter.hachune.net",
         2
        ],
        [
         [
          "2024-03-10T11:28:00Z",
          "2024-03-10T11:33:00Z"
         ],
         "social.mikutter.hachune.net",
         2
        ],
        [
         [
          "2024-03-10T11:29:00Z",
          "2024-03-10T11:34:00Z"
         ],
         "social.mikutter.hachune.net",
         2
        ],
        [
         [
          "2024-03-10T11:30:00Z",
          "2024-03-10T11:35:00Z"
         ],
         "social.mikutter.hachune.net",
         2
        ],
        [
         [
          "2024-03-10T11:33:00Z",
          "2024-03-10T11:38:00Z"
         ],
         "mastodon.social",
         1
        ],
        [
         [
          "2024-03-10T11:30:00Z",
          "2024-03-10T11:35:00Z"
         ],
         "mastodon.social",
         1
        ],
        [
         [
          "2024-03-10T11:31:00Z",
          "2024-03-10T11:36:00Z"
         ],
         "mastodon.social",
         1
        ],
        [
         [
          "2024-03-10T11:32:00Z",
          "2024-03-10T11:37:00Z"
         ],
         "mastodon.social",
         1
        ],
        [
         [
          "2024-03-10T11:29:00Z",
          "2024-03-10T11:34:00Z"
         ],
         "mastodon.social",
         1
        ],
        [
         [
          "2024-03-10T11:32:00Z",
          "2024-03-10T11:37:00Z"
         ],
         "is-a.wyvern.rip",
         1
        ],
        [
         [
          "2024-03-10T11:33:00Z",
          "2024-03-10T11:38:00Z"
         ],
         "mastodon.social",
         2
        ],
        [
         [
          "2024-03-10T11:30:00Z",
          "2024-03-10T11:35:00Z"
         ],
         "is-a.wyvern.rip",
         1
        ],
        [
         [
          "2024-03-10T11:31:00Z",
          "2024-03-10T11:36:00Z"
         ],
         "is-a.wyvern.rip",
         1
        ],
        [
         [
          "2024-03-10T11:30:00Z",
          "2024-03-10T11:35:00Z"
         ],
         "mastodon.social",
         2
        ],
        [
         [
          "2024-03-10T11:34:00Z",
          "2024-03-10T11:39:00Z"
         ],
         "is-a.wyvern.rip",
         1
        ],
        [
         [
          "2024-03-10T11:31:00Z",
          "2024-03-10T11:36:00Z"
         ],
         "mastodon.social",
         2
        ],
        [
         [
          "2024-03-10T11:32:00Z",
          "2024-03-10T11:37:00Z"
         ],
         "mastodon.social",
         2
        ],
        [
         [
          "2024-03-10T11:29:00Z",
          "2024-03-10T11:34:00Z"
         ],
         "mastodon.social",
         2
        ],
        [
         [
          "2024-03-10T11:33:00Z",
          "2024-03-10T11:38:00Z"
         ],
         "is-a.wyvern.rip",
         1
        ]
       ],
       "datasetInfos": [],
       "dbfsResultPath": null,
       "isJsonSchema": true,
       "metadata": {
        "dataframeName": "_sqldf",
        "executionCount": 26
       },
       "overflow": false,
       "plotOptions": {
        "customPlotOptions": {},
        "displayType": "table",
        "pivotAggregation": null,
        "pivotColumns": null,
        "xColumns": null,
        "yColumns": null
       },
       "removedWidgets": [],
       "schema": [
        {
         "metadata": "{\"spark.timeWindow\":true}",
         "name": "window",
         "type": "{\"type\":\"struct\",\"fields\":[{\"name\":\"start\",\"type\":\"timestamp\",\"nullable\":true,\"metadata\":{}},{\"name\":\"end\",\"type\":\"timestamp\",\"nullable\":true,\"metadata\":{}}]}"
        },
        {
         "metadata": "{}",
         "name": "server",
         "type": "\"string\""
        },
        {
         "metadata": "{}",
         "name": "count",
         "type": "\"long\""
        }
       ],
       "type": "table"
      }
     },
     "output_type": "display_data"
    }
   ],
   "source": [
    "%sql\n",
    "select * from toots_update_topic"
   ]
  },
  {
   "cell_type": "markdown",
   "metadata": {
    "application/vnd.databricks.v1+cell": {
     "cellMetadata": {
      "byteLimit": 2048000,
      "rowLimit": 10000
     },
     "inputWidgets": {},
     "nuid": "83f10342-c437-40e2-9e95-638bb40fd9dd",
     "showTitle": false,
     "title": ""
    },
    "id": "2W5pcAqFdk0h"
   },
   "source": [
    "## Exercise 2"
   ]
  },
  {
   "cell_type": "markdown",
   "metadata": {
    "application/vnd.databricks.v1+cell": {
     "cellMetadata": {
      "byteLimit": 2048000,
      "rowLimit": 10000
     },
     "inputWidgets": {},
     "nuid": "880a447c-b4ff-44b2-84a7-5b0a49aff56c",
     "showTitle": false,
     "title": ""
    },
    "id": "hDW6jxpsdoGI"
   },
   "source": [
    "Each minute, get the number of toots received in last 5 minutes\n",
    "\n",
    "---\n",
    "\n"
   ]
  },
  {
   "cell_type": "code",
   "execution_count": 0,
   "metadata": {
    "application/vnd.databricks.v1+cell": {
     "cellMetadata": {
      "byteLimit": 2048000,
      "rowLimit": 10000
     },
     "inputWidgets": {},
     "nuid": "207d1de2-70d0-4b93-8f91-1f2d96a9f8c6",
     "showTitle": false,
     "title": ""
    }
   },
   "outputs": [
    {
     "output_type": "display_data",
     "data": {
      "text/html": [
       "<style scoped>\n",
       "  .ansiout {\n",
       "    display: block;\n",
       "    unicode-bidi: embed;\n",
       "    white-space: pre-wrap;\n",
       "    word-wrap: break-word;\n",
       "    word-break: break-all;\n",
       "    font-family: \"Menlo\", \"Monaco\", \"Consolas\", \"Ubuntu Mono\", \"Source Code Pro\", monospace;\n",
       "    font-size: 13px;\n",
       "    color: #555;\n",
       "    margin-left: 4px;\n",
       "    line-height: 19px;\n",
       "  }\n",
       "</style>"
      ]
     },
     "metadata": {
      "application/vnd.databricks.v1+output": {
       "arguments": {},
       "data": "",
       "errorSummary": "Command skipped",
       "errorTraceType": "html",
       "metadata": {},
       "type": "ipynbError"
      }
     },
     "output_type": "display_data"
    }
   ],
   "source": [
    "dataset.groupBy(window(col(\"timestamp\"), \"5 minutes\", \"1 minutes\")) \\\n",
    "    .count() \\\n",
    "    .writeStream \\\n",
    "    .outputMode(\"update\") \\\n",
    "    .format(\"memory\") \\\n",
    "    .queryName(\"toots_windowed_2\") \\\n",
    "    .start()"
   ]
  },
  {
   "cell_type": "code",
   "execution_count": 0,
   "metadata": {
    "application/vnd.databricks.v1+cell": {
     "cellMetadata": {
      "byteLimit": 2048000,
      "implicitDf": true,
      "rowLimit": 10000
     },
     "inputWidgets": {},
     "nuid": "4adeb964-7c68-4cef-bf41-c0c0a714065a",
     "showTitle": false,
     "title": ""
    }
   },
   "outputs": [
    {
     "output_type": "display_data",
     "data": {
      "text/html": [
       "<style scoped>\n",
       "  .ansiout {\n",
       "    display: block;\n",
       "    unicode-bidi: embed;\n",
       "    white-space: pre-wrap;\n",
       "    word-wrap: break-word;\n",
       "    word-break: break-all;\n",
       "    font-family: \"Menlo\", \"Monaco\", \"Consolas\", \"Ubuntu Mono\", \"Source Code Pro\", monospace;\n",
       "    font-size: 13px;\n",
       "    color: #555;\n",
       "    margin-left: 4px;\n",
       "    line-height: 19px;\n",
       "  }\n",
       "</style>"
      ]
     },
     "metadata": {
      "application/vnd.databricks.v1+output": {
       "arguments": {},
       "data": "",
       "errorSummary": "Command skipped",
       "errorTraceType": "html",
       "metadata": {},
       "type": "ipynbError"
      }
     },
     "output_type": "display_data"
    }
   ],
   "source": [
    "%sql\n",
    "SELECT\n",
    "  *\n",
    "FROM\n",
    "  toots_windowed_2\n",
    "ORDER BY\n",
    "  count DESC"
   ]
  },
  {
   "cell_type": "markdown",
   "metadata": {
    "application/vnd.databricks.v1+cell": {
     "cellMetadata": {
      "byteLimit": 2048000,
      "rowLimit": 10000
     },
     "inputWidgets": {},
     "nuid": "fa94a729-6891-485a-8ecf-56d2a2b12247",
     "showTitle": false,
     "title": ""
    },
    "id": "pxJyQip9exxX"
   },
   "source": [
    "## Exercise 3"
   ]
  },
  {
   "cell_type": "markdown",
   "metadata": {
    "application/vnd.databricks.v1+cell": {
     "cellMetadata": {
      "byteLimit": 2048000,
      "rowLimit": 10000
     },
     "inputWidgets": {},
     "nuid": "4b5d3bb8-a955-4f24-bc2d-384e4923be96",
     "showTitle": false,
     "title": ""
    },
    "id": "5wbL-LCuezVu"
   },
   "source": [
    "Get top words with more than 3 letters in 1 minute slots\n",
    "\n",
    "---\n",
    "\n"
   ]
  },
  {
   "cell_type": "code",
   "execution_count": 0,
   "metadata": {
    "application/vnd.databricks.v1+cell": {
     "cellMetadata": {
      "byteLimit": 2048000,
      "rowLimit": 10000
     },
     "inputWidgets": {},
     "nuid": "ed29cef7-184c-4bfe-bb8c-7c758eae7c5b",
     "showTitle": false,
     "title": ""
    },
    "colab": {
     "base_uri": "https://localhost:8080/"
    },
    "id": "VQbOueaAeDX0",
    "outputId": "cf9b4a2a-2873-4ff9-fcd9-a68be926747b"
   },
   "outputs": [
    {
     "output_type": "display_data",
     "data": {
      "text/html": [
       "<style scoped>\n",
       "  .table-result-container {\n",
       "    max-height: 300px;\n",
       "    overflow: auto;\n",
       "  }\n",
       "  table, th, td {\n",
       "    border: 1px solid black;\n",
       "    border-collapse: collapse;\n",
       "  }\n",
       "  th, td {\n",
       "    padding: 5px;\n",
       "  }\n",
       "  th {\n",
       "    text-align: left;\n",
       "  }\n",
       "</style><div class='table-result-container'><table class='table-result'><thead style='background-color: white'><tr><th>window</th><th>word</th><th>count</th></tr></thead><tbody><tr><td>List(2024-03-10T11:46:00Z, 2024-03-10T11:47:00Z)</td><td>cabeza</td><td>1</td></tr><tr><td>List(2024-03-10T11:44:00Z, 2024-03-10T11:45:00Z)</td><td>rel=\"nofollow</td><td>5</td></tr><tr><td>List(2024-03-10T11:46:00Z, 2024-03-10T11:47:00Z)</td><td>rel=\"nofollow</td><td>1</td></tr><tr><td>List(2024-03-10T11:44:00Z, 2024-03-10T11:45:00Z)</td><td>realiza</td><td>1</td></tr><tr><td>List(2024-03-10T11:47:00Z, 2024-03-10T11:48:00Z)</td><td>mention\"</td><td>1</td></tr><tr><td>List(2024-03-10T11:45:00Z, 2024-03-10T11:46:00Z)</td><td>class=\"invisible\">k</span></a></p></td><td>1</td></tr><tr><td>List(2024-03-10T11:46:00Z, 2024-03-10T11:47:00Z)</td><td>quería</td><td>1</td></tr><tr><td>List(2024-03-10T11:46:00Z, 2024-03-10T11:47:00Z)</td><td>como</td><td>1</td></tr><tr><td>List(2024-03-10T11:46:00Z, 2024-03-10T11:47:00Z)</td><td>noreferrer\"</td><td>1</td></tr><tr><td>List(2024-03-10T11:46:00Z, 2024-03-10T11:47:00Z)</td><td>🤡</p></td><td>1</td></tr><tr><td>List(2024-03-10T11:45:00Z, 2024-03-10T11:46:00Z)</td><td>href=\"https://botsin.space/tags/wallpaper\"</td><td>1</td></tr><tr><td>List(2024-03-10T11:47:00Z, 2024-03-10T11:48:00Z)</td><td>noreferrer\"</td><td>1</td></tr><tr><td>List(2024-03-10T11:45:00Z, 2024-03-10T11:46:00Z)</td><td>VOSE</td><td>1</td></tr><tr><td>List(2024-03-10T11:45:00Z, 2024-03-10T11:46:00Z)</td><td>McRae</td><td>1</td></tr><tr><td>List(2024-03-10T11:44:00Z, 2024-03-10T11:45:00Z)</td><td>href=\"https://floss.social/tags/debian\"</td><td>1</td></tr><tr><td>List(2024-03-10T11:45:00Z, 2024-03-10T11:46:00Z)</td><td>hashtag\"</td><td>5</td></tr><tr><td>List(2024-03-10T11:44:00Z, 2024-03-10T11:45:00Z)</td><td>href=\"https://floss.social/tags/linux\"</td><td>1</td></tr><tr><td>List(2024-03-10T11:44:00Z, 2024-03-10T11:45:00Z)</td><td>Distro</td><td>1</td></tr><tr><td>List(2024-03-10T11:46:00Z, 2024-03-10T11:47:00Z)</td><td><p>Ecce</td><td>1</td></tr><tr><td>List(2024-03-10T11:44:00Z, 2024-03-10T11:45:00Z)</td><td>class=\"\">debugpoint.com/lingmo-os-beta/</span><span</td><td>1</td></tr><tr><td>List(2024-03-10T11:44:00Z, 2024-03-10T11:45:00Z)</td><td>target=\"_blank\">#<span>debian</span></a></p></td><td>1</td></tr><tr><td>List(2024-03-10T11:45:00Z, 2024-03-10T11:46:00Z)</td><td>target=\"_blank\"><span</td><td>3</td></tr><tr><td>List(2024-03-10T11:45:00Z, 2024-03-10T11:46:00Z)</td><td>class=\"ellipsis\">youtube.com/watch?v=To4SWGZkEP</span><span</td><td>1</td></tr><tr><td>List(2024-03-10T11:45:00Z, 2024-03-10T11:46:00Z)</td><td>class=\"mention</td><td>5</td></tr><tr><td>List(2024-03-10T11:44:00Z, 2024-03-10T11:45:00Z)</td><td>hace</td><td>1</td></tr><tr><td>List(2024-03-10T11:45:00Z, 2024-03-10T11:46:00Z)</td><td>target=\"_blank\">#<span>Stripey</span></a></p></td><td>1</td></tr><tr><td>List(2024-03-10T11:45:00Z, 2024-03-10T11:46:00Z)</td><td>Jackson,</td><td>1</td></tr><tr><td>List(2024-03-10T11:47:00Z, 2024-03-10T11:48:00Z)</td><td>target=\"_blank\">@<span>toshi_a</span></a></span></td><td>1</td></tr><tr><td>List(2024-03-10T11:45:00Z, 2024-03-10T11:46:00Z)</td><td>10/03/24</td><td>1</td></tr><tr><td>List(2024-03-10T11:45:00Z, 2024-03-10T11:46:00Z)</td><td>YouTube<br><a</td><td>1</td></tr><tr><td>List(2024-03-10T11:45:00Z, 2024-03-10T11:46:00Z)</td><td>target=\"_blank\">#<span>stripes</span></a></td><td>1</td></tr><tr><td>List(2024-03-10T11:46:00Z, 2024-03-10T11:47:00Z)</td><td>tardeen</td><td>1</td></tr><tr><td>List(2024-03-10T11:45:00Z, 2024-03-10T11:46:00Z)</td><td>dues</td><td>1</td></tr><tr><td>List(2024-03-10T11:44:00Z, 2024-03-10T11:45:00Z)</td><td>Alexander</td><td>1</td></tr><tr><td>List(2024-03-10T11:44:00Z, 2024-03-10T11:45:00Z)</td><td>Base<br><a</td><td>1</td></tr><tr><td>List(2024-03-10T11:47:00Z, 2024-03-10T11:48:00Z)</td><td>rel=\"nofollow</td><td>1</td></tr><tr><td>List(2024-03-10T11:44:00Z, 2024-03-10T11:45:00Z)</td><td>noreferrer\"</td><td>5</td></tr><tr><td>List(2024-03-10T11:44:00Z, 2024-03-10T11:45:00Z)</td><td>primera</td><td>1</td></tr><tr><td>List(2024-03-10T11:46:00Z, 2024-03-10T11:47:00Z)</td><td>class=\"invisible\">https://www.</span><span</td><td>1</td></tr><tr><td>List(2024-03-10T11:45:00Z, 2024-03-10T11:46:00Z)</td><td>class=\"invisible\"></span></a></p><p><a</td><td>1</td></tr><tr><td>List(2024-03-10T11:45:00Z, 2024-03-10T11:46:00Z)</td><td>noopener</td><td>8</td></tr><tr><td>List(2024-03-10T11:44:00Z, 2024-03-10T11:45:00Z)</td><td>with</td><td>1</td></tr><tr><td>List(2024-03-10T11:44:00Z, 2024-03-10T11:45:00Z)</td><td>Bell</td><td>1</td></tr><tr><td>List(2024-03-10T11:46:00Z, 2024-03-10T11:47:00Z)</td><td>VEZ,</td><td>1</td></tr><tr><td>List(2024-03-10T11:46:00Z, 2024-03-10T11:47:00Z)</td><td>cosas</td><td>1</td></tr><tr><td>List(2024-03-10T11:47:00Z, 2024-03-10T11:48:00Z)</td><td>href=\"https://social.mikutter.hachune.net/@toshi_a\"</td><td>1</td></tr><tr><td>List(2024-03-10T11:46:00Z, 2024-03-10T11:47:00Z)</td><td>translate=\"no\"</td><td>1</td></tr><tr><td>List(2024-03-10T11:45:00Z, 2024-03-10T11:46:00Z)</td><td>rel=\"nofollow</td><td>8</td></tr><tr><td>List(2024-03-10T11:47:00Z, 2024-03-10T11:48:00Z)</td><td>class=\"h-card\"</td><td>1</td></tr><tr><td>List(2024-03-10T11:44:00Z, 2024-03-10T11:45:00Z)</td><td>href=\"https://floss.social/tags/opensource\"</td><td>1</td></tr><tr><td>List(2024-03-10T11:46:00Z, 2024-03-10T11:47:00Z)</td><td><p>Ugh,</td><td>1</td></tr><tr><td>List(2024-03-10T11:45:00Z, 2024-03-10T11:46:00Z)</td><td>class=\"invisible\">3-24-projeccio-de-les-dues-torres-dir-peter-jackson-vose-2002/</span></a></p></td><td>1</td></tr><tr><td>List(2024-03-10T11:45:00Z, 2024-03-10T11:46:00Z)</td><td>target=\"_blank\">#<span>bot</span></a></td><td>1</td></tr><tr><td>List(2024-03-10T11:46:00Z, 2024-03-10T11:47:00Z)</td><td>Hispania</td><td>1</td></tr><tr><td>List(2024-03-10T11:44:00Z, 2024-03-10T11:45:00Z)</td><td>macOS</td><td>1</td></tr><tr><td>List(2024-03-10T11:46:00Z, 2024-03-10T11:47:00Z)</td><td>12:45</td><td>1</td></tr><tr><td>List(2024-03-10T11:44:00Z, 2024-03-10T11:45:00Z)</td><td>target=\"_blank\"><span</td><td>1</td></tr><tr><td>List(2024-03-10T11:45:00Z, 2024-03-10T11:46:00Z)</td><td>href=\"https://i.imgur.com/yHjoltG.png\"</td><td>1</td></tr><tr><td>List(2024-03-10T11:44:00Z, 2024-03-10T11:45:00Z)</td><td>hashtag\"</td><td>4</td></tr><tr><td>List(2024-03-10T11:46:00Z, 2024-03-10T11:47:00Z)</td><td>hacer</td><td>1</td></tr><tr><td>List(2024-03-10T11:44:00Z, 2024-03-10T11:45:00Z)</td><td>class=\"invisible\"></span></a></p><p><a</td><td>1</td></tr><tr><td>List(2024-03-10T11:44:00Z, 2024-03-10T11:45:00Z)</td><td>Debian</td><td>1</td></tr><tr><td>List(2024-03-10T11:46:00Z, 2024-03-10T11:47:00Z)</td><td>AVISAD</td><td>1</td></tr><tr><td>List(2024-03-10T11:46:00Z, 2024-03-10T11:47:00Z)</td><td>middle</td><td>1</td></tr><tr><td>List(2024-03-10T11:45:00Z, 2024-03-10T11:46:00Z)</td><td>(Official</td><td>1</td></tr><tr><td>List(2024-03-10T11:44:00Z, 2024-03-10T11:45:00Z)</td><td><p>Meet</td><td>1</td></tr><tr><td>List(2024-03-10T11:45:00Z, 2024-03-10T11:46:00Z)</td><td>size:</td><td>1</td></tr><tr><td>List(2024-03-10T11:46:00Z, 2024-03-10T11:47:00Z)</td><td>estfaba</p><p>O,</td><td>1</td></tr><tr><td>List(2024-03-10T11:45:00Z, 2024-03-10T11:46:00Z)</td><td>href=\"https://www.anarquia.cat/aixo-es-avui-10-03-24-projeccio-de-les-dues-torres-dir-peter-jackson-vose-2002/\"</td><td>1</td></tr><tr><td>List(2024-03-10T11:46:00Z, 2024-03-10T11:47:00Z)</td><td>class=\"ellipsis\">youtube.com/watch?v=WmtIrkR6O7</span><span</td><td>1</td></tr><tr><td>List(2024-03-10T11:45:00Z, 2024-03-10T11:46:00Z)</td><td>avui:</td><td>1</td></tr><tr><td>List(2024-03-10T11:44:00Z, 2024-03-10T11:45:00Z)</td><td>Looking</td><td>1</td></tr><tr><td>List(2024-03-10T11:46:00Z, 2024-03-10T11:47:00Z)</td><td>Right</td><td>1</td></tr><tr><td>List(2024-03-10T11:45:00Z, 2024-03-10T11:46:00Z)</td><td>noreferrer\"</td><td>8</td></tr><tr><td>List(2024-03-10T11:46:00Z, 2024-03-10T11:47:00Z)</td><td>sigo</td><td>1</td></tr><tr><td>List(2024-03-10T11:46:00Z, 2024-03-10T11:47:00Z)</td><td>back.</td><td>1</td></tr><tr><td>List(2024-03-10T11:47:00Z, 2024-03-10T11:48:00Z)</td><td>noopener</td><td>1</td></tr><tr><td>List(2024-03-10T11:44:00Z, 2024-03-10T11:45:00Z)</td><td><p>Hoy</td><td>1</td></tr><tr><td>List(2024-03-10T11:46:00Z, 2024-03-10T11:47:00Z)</td><td>href=\"https://www.youtube.com/watch?v=WmtIrkR6O7I\"</td><td>1</td></tr><tr><td>List(2024-03-10T11:45:00Z, 2024-03-10T11:46:00Z)</td><td>translate=\"no\"</td><td>2</td></tr><tr><td>List(2024-03-10T11:45:00Z, 2024-03-10T11:46:00Z)</td><td>class=\"\">i.imgur.com/yHjoltG.png</span><span</td><td>1</td></tr><tr><td>List(2024-03-10T11:46:00Z, 2024-03-10T11:47:00Z)</td><td>too</p></td><td>1</td></tr><tr><td>List(2024-03-10T11:44:00Z, 2024-03-10T11:45:00Z)</td><td>class=\"mention</td><td>4</td></tr><tr><td>List(2024-03-10T11:45:00Z, 2024-03-10T11:46:00Z)</td><td>href=\"https://botsin.space/tags/bot\"</td><td>1</td></tr><tr><td>List(2024-03-10T11:45:00Z, 2024-03-10T11:46:00Z)</td><td>href=\"https://www.youtube.com/watch?v=To4SWGZkEPk\"</td><td>1</td></tr><tr><td>List(2024-03-10T11:44:00Z, 2024-03-10T11:45:00Z)</td><td>Graham</td><td>1</td></tr><tr><td>List(2024-03-10T11:46:00Z, 2024-03-10T11:47:00Z)</td><td>homo</td><td>1</td></tr><tr><td>List(2024-03-10T11:45:00Z, 2024-03-10T11:46:00Z)</td><td>href=\"https://botsin.space/tags/stripe\"</td><td>1</td></tr><tr><td>List(2024-03-10T11:45:00Z, 2024-03-10T11:46:00Z)</td><td>torres,</td><td>1</td></tr><tr><td>List(2024-03-10T11:45:00Z, 2024-03-10T11:46:00Z)</td><td>class=\"invisible\">https://www.</span><span</td><td>2</td></tr><tr><td>List(2024-03-10T11:45:00Z, 2024-03-10T11:46:00Z)</td><td>Peter</td><td>1</td></tr><tr><td>List(2024-03-10T11:45:00Z, 2024-03-10T11:46:00Z)</td><td>greedy</td><td>1</td></tr><tr><td>List(2024-03-10T11:44:00Z, 2024-03-10T11:45:00Z)</td><td>exitosa</td><td>1</td></tr><tr><td>List(2024-03-10T11:44:00Z, 2024-03-10T11:45:00Z)</td><td>target=\"_blank\">#<span>linux</span></a></td><td>1</td></tr><tr><td>List(2024-03-10T11:44:00Z, 2024-03-10T11:45:00Z)</td><td>target=\"_blank\">#<span>opensource</span></a></td><td>1</td></tr><tr><td>List(2024-03-10T11:45:00Z, 2024-03-10T11:46:00Z)</td><td>Dir.</td><td>1</td></tr><tr><td>List(2024-03-10T11:47:00Z, 2024-03-10T11:48:00Z)</td><td>class=\"u-url</td><td>1</td></tr><tr><td>List(2024-03-10T11:45:00Z, 2024-03-10T11:46:00Z)</td><td><p>Tate</td><td>1</td></tr><tr><td>List(2024-03-10T11:46:00Z, 2024-03-10T11:47:00Z)</td><td><p>Yo</td><td>1</td></tr><tr><td>List(2024-03-10T11:46:00Z, 2024-03-10T11:47:00Z)</td><td>Citerior..<br>¡OH</td><td>1</td></tr><tr><td>List(2024-03-10T11:44:00Z, 2024-03-10T11:45:00Z)</td><td>Lingmo</td><td>1</td></tr><tr><td>List(2024-03-10T11:44:00Z, 2024-03-10T11:45:00Z)</td><td>href=\"https://mastodon.social/tags/TalD%C3%ADaComoHoy\"</td><td>1</td></tr><tr><td>List(2024-03-10T11:45:00Z, 2024-03-10T11:46:00Z)</td><td>target=\"_blank\">#<span>stripe</span></a></td><td>1</td></tr><tr><td>List(2024-03-10T11:46:00Z, 2024-03-10T11:47:00Z)</td><td>POLICIA!</p><p><a</td><td>1</td></tr><tr><td>List(2024-03-10T11:44:00Z, 2024-03-10T11:45:00Z)</td><td>translate=\"no\"</td><td>1</td></tr><tr><td>List(2024-03-10T11:46:00Z, 2024-03-10T11:47:00Z)</td><td>target=\"_blank\"><span</td><td>1</td></tr><tr><td>List(2024-03-10T11:47:00Z, 2024-03-10T11:48:00Z)</td><td>様式美みたいなので</p></td><td>1</td></tr><tr><td>List(2024-03-10T11:46:00Z, 2024-03-10T11:47:00Z)</td><td>beatmap</td><td>1</td></tr><tr><td>List(2024-03-10T11:44:00Z, 2024-03-10T11:45:00Z)</td><td>años:</td><td>1</td></tr><tr><td>List(2024-03-10T11:45:00Z, 2024-03-10T11:46:00Z)</td><td>target=\"_blank\">#<span>wallpaper</span></a></td><td>1</td></tr><tr><td>List(2024-03-10T11:46:00Z, 2024-03-10T11:47:00Z)</td><td><p><span>{細長い,太い,大きい,小さい}リボンかわいい。</span></p></td><td>1</td></tr><tr><td>List(2024-03-10T11:46:00Z, 2024-03-10T11:47:00Z)</td><td>OTRA</td><td>1</td></tr><tr><td>List(2024-03-10T11:44:00Z, 2024-03-10T11:45:00Z)</td><td>prueba</td><td>1</td></tr><tr><td>List(2024-03-10T11:47:00Z, 2024-03-10T11:48:00Z)</td><td><p><span</td><td>1</td></tr><tr><td>List(2024-03-10T11:46:00Z, 2024-03-10T11:47:00Z)</td><td>noopener</td><td>1</td></tr><tr><td>List(2024-03-10T11:46:00Z, 2024-03-10T11:47:00Z)</td><td>slowdowns</td><td>1</td></tr><tr><td>List(2024-03-10T11:45:00Z, 2024-03-10T11:46:00Z)</td><td>href=\"https://botsin.space/tags/stripes\"</td><td>1</td></tr><tr><td>List(2024-03-10T11:44:00Z, 2024-03-10T11:45:00Z)</td><td>1876,</td><td>1</td></tr><tr><td>List(2024-03-10T11:45:00Z, 2024-03-10T11:46:00Z)</td><td>Projecció</td><td>1</td></tr><tr><td>List(2024-03-10T11:46:00Z, 2024-03-10T11:47:00Z)</td><td>pero</td><td>1</td></tr><tr><td>List(2024-03-10T11:44:00Z, 2024-03-10T11:45:00Z)</td><td>class=\"invisible\">https://www.</span><span</td><td>1</td></tr><tr><td>List(2024-03-10T11:44:00Z, 2024-03-10T11:45:00Z)</td><td>target=\"_blank\">#<span>TalDíaComoHoy</span></a></p></td><td>1</td></tr><tr><td>List(2024-03-10T11:46:00Z, 2024-03-10T11:47:00Z)</td><td>diria</td><td>1</td></tr><tr><td>List(2024-03-10T11:45:00Z, 2024-03-10T11:46:00Z)</td><td><p>Full</td><td>1</td></tr><tr><td>List(2024-03-10T11:45:00Z, 2024-03-10T11:46:00Z)</td><td>Video)</td><td>1</td></tr><tr><td>List(2024-03-10T11:44:00Z, 2024-03-10T11:45:00Z)</td><td>noopener</td><td>5</td></tr><tr><td>List(2024-03-10T11:47:00Z, 2024-03-10T11:48:00Z)</td><td>translate=\"no\"><a</td><td>1</td></tr><tr><td>List(2024-03-10T11:46:00Z, 2024-03-10T11:47:00Z)</td><td>class=\"invisible\">I</span></a></p></td><td>1</td></tr><tr><td>List(2024-03-10T11:44:00Z, 2024-03-10T11:45:00Z)</td><td>href=\"https://www.debugpoint.com/lingmo-os-beta/\"</td><td>1</td></tr><tr><td>List(2024-03-10T11:45:00Z, 2024-03-10T11:46:00Z)</td><td><p>Això</td><td>1</td></tr><tr><td>List(2024-03-10T11:45:00Z, 2024-03-10T11:46:00Z)</td><td>href=\"https://botsin.space/tags/Stripey\"</td><td>1</td></tr><tr><td>List(2024-03-10T11:46:00Z, 2024-03-10T11:47:00Z)</td><td>dolor</td><td>1</td></tr><tr><td>List(2024-03-10T11:45:00Z, 2024-03-10T11:46:00Z)</td><td>class=\"invisible\">https://</span><span</td><td>1</td></tr><tr><td>List(2024-03-10T11:46:00Z, 2024-03-10T11:47:00Z)</td><td>muchas</td><td>1</td></tr><tr><td>List(2024-03-10T11:44:00Z, 2024-03-10T11:45:00Z)</td><td>teléfono.</p><p><a</td><td>1</td></tr><tr><td>List(2024-03-10T11:45:00Z, 2024-03-10T11:46:00Z)</td><td>class=\"ellipsis\">anarquia.cat/aixo-es-avui-10-0</span><span</td><td>1</td></tr><tr><td>List(2024-03-10T11:45:00Z, 2024-03-10T11:46:00Z)</td><td>(2002)</td><td>1</td></tr></tbody></table></div>"
      ]
     },
     "metadata": {
      "application/vnd.databricks.v1+output": {
       "addedWidgets": {},
       "aggData": [],
       "aggError": "",
       "aggOverflow": false,
       "aggSchema": [],
       "aggSeriesLimitReached": false,
       "aggType": "",
       "arguments": {},
       "columnCustomDisplayInfos": {},
       "data": [
        [
         [
          "2024-03-10T11:46:00Z",
          "2024-03-10T11:47:00Z"
         ],
         "cabeza",
         1
        ],
        [
         [
          "2024-03-10T11:44:00Z",
          "2024-03-10T11:45:00Z"
         ],
         "rel=\"nofollow",
         5
        ],
        [
         [
          "2024-03-10T11:46:00Z",
          "2024-03-10T11:47:00Z"
         ],
         "rel=\"nofollow",
         1
        ],
        [
         [
          "2024-03-10T11:44:00Z",
          "2024-03-10T11:45:00Z"
         ],
         "realiza",
         1
        ],
        [
         [
          "2024-03-10T11:47:00Z",
          "2024-03-10T11:48:00Z"
         ],
         "mention\"",
         1
        ],
        [
         [
          "2024-03-10T11:45:00Z",
          "2024-03-10T11:46:00Z"
         ],
         "class=\"invisible\">k</span></a></p>",
         1
        ],
        [
         [
          "2024-03-10T11:46:00Z",
          "2024-03-10T11:47:00Z"
         ],
         "quería",
         1
        ],
        [
         [
          "2024-03-10T11:46:00Z",
          "2024-03-10T11:47:00Z"
         ],
         "como",
         1
        ],
        [
         [
          "2024-03-10T11:46:00Z",
          "2024-03-10T11:47:00Z"
         ],
         "noreferrer\"",
         1
        ],
        [
         [
          "2024-03-10T11:46:00Z",
          "2024-03-10T11:47:00Z"
         ],
         "🤡</p>",
         1
        ],
        [
         [
          "2024-03-10T11:45:00Z",
          "2024-03-10T11:46:00Z"
         ],
         "href=\"https://botsin.space/tags/wallpaper\"",
         1
        ],
        [
         [
          "2024-03-10T11:47:00Z",
          "2024-03-10T11:48:00Z"
         ],
         "noreferrer\"",
         1
        ],
        [
         [
          "2024-03-10T11:45:00Z",
          "2024-03-10T11:46:00Z"
         ],
         "VOSE",
         1
        ],
        [
         [
          "2024-03-10T11:45:00Z",
          "2024-03-10T11:46:00Z"
         ],
         "McRae",
         1
        ],
        [
         [
          "2024-03-10T11:44:00Z",
          "2024-03-10T11:45:00Z"
         ],
         "href=\"https://floss.social/tags/debian\"",
         1
        ],
        [
         [
          "2024-03-10T11:45:00Z",
          "2024-03-10T11:46:00Z"
         ],
         "hashtag\"",
         5
        ],
        [
         [
          "2024-03-10T11:44:00Z",
          "2024-03-10T11:45:00Z"
         ],
         "href=\"https://floss.social/tags/linux\"",
         1
        ],
        [
         [
          "2024-03-10T11:44:00Z",
          "2024-03-10T11:45:00Z"
         ],
         "Distro",
         1
        ],
        [
         [
          "2024-03-10T11:46:00Z",
          "2024-03-10T11:47:00Z"
         ],
         "<p>Ecce",
         1
        ],
        [
         [
          "2024-03-10T11:44:00Z",
          "2024-03-10T11:45:00Z"
         ],
         "class=\"\">debugpoint.com/lingmo-os-beta/</span><span",
         1
        ],
        [
         [
          "2024-03-10T11:44:00Z",
          "2024-03-10T11:45:00Z"
         ],
         "target=\"_blank\">#<span>debian</span></a></p>",
         1
        ],
        [
         [
          "2024-03-10T11:45:00Z",
          "2024-03-10T11:46:00Z"
         ],
         "target=\"_blank\"><span",
         3
        ],
        [
         [
          "2024-03-10T11:45:00Z",
          "2024-03-10T11:46:00Z"
         ],
         "class=\"ellipsis\">youtube.com/watch?v=To4SWGZkEP</span><span",
         1
        ],
        [
         [
          "2024-03-10T11:45:00Z",
          "2024-03-10T11:46:00Z"
         ],
         "class=\"mention",
         5
        ],
        [
         [
          "2024-03-10T11:44:00Z",
          "2024-03-10T11:45:00Z"
         ],
         "hace",
         1
        ],
        [
         [
          "2024-03-10T11:45:00Z",
          "2024-03-10T11:46:00Z"
         ],
         "target=\"_blank\">#<span>Stripey</span></a></p>",
         1
        ],
        [
         [
          "2024-03-10T11:45:00Z",
          "2024-03-10T11:46:00Z"
         ],
         "Jackson,",
         1
        ],
        [
         [
          "2024-03-10T11:47:00Z",
          "2024-03-10T11:48:00Z"
         ],
         "target=\"_blank\">@<span>toshi_a</span></a></span>",
         1
        ],
        [
         [
          "2024-03-10T11:45:00Z",
          "2024-03-10T11:46:00Z"
         ],
         "10/03/24",
         1
        ],
        [
         [
          "2024-03-10T11:45:00Z",
          "2024-03-10T11:46:00Z"
         ],
         "YouTube<br><a",
         1
        ],
        [
         [
          "2024-03-10T11:45:00Z",
          "2024-03-10T11:46:00Z"
         ],
         "target=\"_blank\">#<span>stripes</span></a>",
         1
        ],
        [
         [
          "2024-03-10T11:46:00Z",
          "2024-03-10T11:47:00Z"
         ],
         "tardeen",
         1
        ],
        [
         [
          "2024-03-10T11:45:00Z",
          "2024-03-10T11:46:00Z"
         ],
         "dues",
         1
        ],
        [
         [
          "2024-03-10T11:44:00Z",
          "2024-03-10T11:45:00Z"
         ],
         "Alexander",
         1
        ],
        [
         [
          "2024-03-10T11:44:00Z",
          "2024-03-10T11:45:00Z"
         ],
         "Base<br><a",
         1
        ],
        [
         [
          "2024-03-10T11:47:00Z",
          "2024-03-10T11:48:00Z"
         ],
         "rel=\"nofollow",
         1
        ],
        [
         [
          "2024-03-10T11:44:00Z",
          "2024-03-10T11:45:00Z"
         ],
         "noreferrer\"",
         5
        ],
        [
         [
          "2024-03-10T11:44:00Z",
          "2024-03-10T11:45:00Z"
         ],
         "primera",
         1
        ],
        [
         [
          "2024-03-10T11:46:00Z",
          "2024-03-10T11:47:00Z"
         ],
         "class=\"invisible\">https://www.</span><span",
         1
        ],
        [
         [
          "2024-03-10T11:45:00Z",
          "2024-03-10T11:46:00Z"
         ],
         "class=\"invisible\"></span></a></p><p><a",
         1
        ],
        [
         [
          "2024-03-10T11:45:00Z",
          "2024-03-10T11:46:00Z"
         ],
         "noopener",
         8
        ],
        [
         [
          "2024-03-10T11:44:00Z",
          "2024-03-10T11:45:00Z"
         ],
         "with",
         1
        ],
        [
         [
          "2024-03-10T11:44:00Z",
          "2024-03-10T11:45:00Z"
         ],
         "Bell",
         1
        ],
        [
         [
          "2024-03-10T11:46:00Z",
          "2024-03-10T11:47:00Z"
         ],
         "VEZ,",
         1
        ],
        [
         [
          "2024-03-10T11:46:00Z",
          "2024-03-10T11:47:00Z"
         ],
         "cosas",
         1
        ],
        [
         [
          "2024-03-10T11:47:00Z",
          "2024-03-10T11:48:00Z"
         ],
         "href=\"https://social.mikutter.hachune.net/@toshi_a\"",
         1
        ],
        [
         [
          "2024-03-10T11:46:00Z",
          "2024-03-10T11:47:00Z"
         ],
         "translate=\"no\"",
         1
        ],
        [
         [
          "2024-03-10T11:45:00Z",
          "2024-03-10T11:46:00Z"
         ],
         "rel=\"nofollow",
         8
        ],
        [
         [
          "2024-03-10T11:47:00Z",
          "2024-03-10T11:48:00Z"
         ],
         "class=\"h-card\"",
         1
        ],
        [
         [
          "2024-03-10T11:44:00Z",
          "2024-03-10T11:45:00Z"
         ],
         "href=\"https://floss.social/tags/opensource\"",
         1
        ],
        [
         [
          "2024-03-10T11:46:00Z",
          "2024-03-10T11:47:00Z"
         ],
         "<p>Ugh,",
         1
        ],
        [
         [
          "2024-03-10T11:45:00Z",
          "2024-03-10T11:46:00Z"
         ],
         "class=\"invisible\">3-24-projeccio-de-les-dues-torres-dir-peter-jackson-vose-2002/</span></a></p>",
         1
        ],
        [
         [
          "2024-03-10T11:45:00Z",
          "2024-03-10T11:46:00Z"
         ],
         "target=\"_blank\">#<span>bot</span></a>",
         1
        ],
        [
         [
          "2024-03-10T11:46:00Z",
          "2024-03-10T11:47:00Z"
         ],
         "Hispania",
         1
        ],
        [
         [
          "2024-03-10T11:44:00Z",
          "2024-03-10T11:45:00Z"
         ],
         "macOS",
         1
        ],
        [
         [
          "2024-03-10T11:46:00Z",
          "2024-03-10T11:47:00Z"
         ],
         "12:45",
         1
        ],
        [
         [
          "2024-03-10T11:44:00Z",
          "2024-03-10T11:45:00Z"
         ],
         "target=\"_blank\"><span",
         1
        ],
        [
         [
          "2024-03-10T11:45:00Z",
          "2024-03-10T11:46:00Z"
         ],
         "href=\"https://i.imgur.com/yHjoltG.png\"",
         1
        ],
        [
         [
          "2024-03-10T11:44:00Z",
          "2024-03-10T11:45:00Z"
         ],
         "hashtag\"",
         4
        ],
        [
         [
          "2024-03-10T11:46:00Z",
          "2024-03-10T11:47:00Z"
         ],
         "hacer",
         1
        ],
        [
         [
          "2024-03-10T11:44:00Z",
          "2024-03-10T11:45:00Z"
         ],
         "class=\"invisible\"></span></a></p><p><a",
         1
        ],
        [
         [
          "2024-03-10T11:44:00Z",
          "2024-03-10T11:45:00Z"
         ],
         "Debian",
         1
        ],
        [
         [
          "2024-03-10T11:46:00Z",
          "2024-03-10T11:47:00Z"
         ],
         "AVISAD",
         1
        ],
        [
         [
          "2024-03-10T11:46:00Z",
          "2024-03-10T11:47:00Z"
         ],
         "middle",
         1
        ],
        [
         [
          "2024-03-10T11:45:00Z",
          "2024-03-10T11:46:00Z"
         ],
         "(Official",
         1
        ],
        [
         [
          "2024-03-10T11:44:00Z",
          "2024-03-10T11:45:00Z"
         ],
         "<p>Meet",
         1
        ],
        [
         [
          "2024-03-10T11:45:00Z",
          "2024-03-10T11:46:00Z"
         ],
         "size:",
         1
        ],
        [
         [
          "2024-03-10T11:46:00Z",
          "2024-03-10T11:47:00Z"
         ],
         "estfaba</p><p>O,",
         1
        ],
        [
         [
          "2024-03-10T11:45:00Z",
          "2024-03-10T11:46:00Z"
         ],
         "href=\"https://www.anarquia.cat/aixo-es-avui-10-03-24-projeccio-de-les-dues-torres-dir-peter-jackson-vose-2002/\"",
         1
        ],
        [
         [
          "2024-03-10T11:46:00Z",
          "2024-03-10T11:47:00Z"
         ],
         "class=\"ellipsis\">youtube.com/watch?v=WmtIrkR6O7</span><span",
         1
        ],
        [
         [
          "2024-03-10T11:45:00Z",
          "2024-03-10T11:46:00Z"
         ],
         "avui:",
         1
        ],
        [
         [
          "2024-03-10T11:44:00Z",
          "2024-03-10T11:45:00Z"
         ],
         "Looking",
         1
        ],
        [
         [
          "2024-03-10T11:46:00Z",
          "2024-03-10T11:47:00Z"
         ],
         "Right",
         1
        ],
        [
         [
          "2024-03-10T11:45:00Z",
          "2024-03-10T11:46:00Z"
         ],
         "noreferrer\"",
         8
        ],
        [
         [
          "2024-03-10T11:46:00Z",
          "2024-03-10T11:47:00Z"
         ],
         "sigo",
         1
        ],
        [
         [
          "2024-03-10T11:46:00Z",
          "2024-03-10T11:47:00Z"
         ],
         "back.",
         1
        ],
        [
         [
          "2024-03-10T11:47:00Z",
          "2024-03-10T11:48:00Z"
         ],
         "noopener",
         1
        ],
        [
         [
          "2024-03-10T11:44:00Z",
          "2024-03-10T11:45:00Z"
         ],
         "<p>Hoy",
         1
        ],
        [
         [
          "2024-03-10T11:46:00Z",
          "2024-03-10T11:47:00Z"
         ],
         "href=\"https://www.youtube.com/watch?v=WmtIrkR6O7I\"",
         1
        ],
        [
         [
          "2024-03-10T11:45:00Z",
          "2024-03-10T11:46:00Z"
         ],
         "translate=\"no\"",
         2
        ],
        [
         [
          "2024-03-10T11:45:00Z",
          "2024-03-10T11:46:00Z"
         ],
         "class=\"\">i.imgur.com/yHjoltG.png</span><span",
         1
        ],
        [
         [
          "2024-03-10T11:46:00Z",
          "2024-03-10T11:47:00Z"
         ],
         "too</p>",
         1
        ],
        [
         [
          "2024-03-10T11:44:00Z",
          "2024-03-10T11:45:00Z"
         ],
         "class=\"mention",
         4
        ],
        [
         [
          "2024-03-10T11:45:00Z",
          "2024-03-10T11:46:00Z"
         ],
         "href=\"https://botsin.space/tags/bot\"",
         1
        ],
        [
         [
          "2024-03-10T11:45:00Z",
          "2024-03-10T11:46:00Z"
         ],
         "href=\"https://www.youtube.com/watch?v=To4SWGZkEPk\"",
         1
        ],
        [
         [
          "2024-03-10T11:44:00Z",
          "2024-03-10T11:45:00Z"
         ],
         "Graham",
         1
        ],
        [
         [
          "2024-03-10T11:46:00Z",
          "2024-03-10T11:47:00Z"
         ],
         "homo",
         1
        ],
        [
         [
          "2024-03-10T11:45:00Z",
          "2024-03-10T11:46:00Z"
         ],
         "href=\"https://botsin.space/tags/stripe\"",
         1
        ],
        [
         [
          "2024-03-10T11:45:00Z",
          "2024-03-10T11:46:00Z"
         ],
         "torres,",
         1
        ],
        [
         [
          "2024-03-10T11:45:00Z",
          "2024-03-10T11:46:00Z"
         ],
         "class=\"invisible\">https://www.</span><span",
         2
        ],
        [
         [
          "2024-03-10T11:45:00Z",
          "2024-03-10T11:46:00Z"
         ],
         "Peter",
         1
        ],
        [
         [
          "2024-03-10T11:45:00Z",
          "2024-03-10T11:46:00Z"
         ],
         "greedy",
         1
        ],
        [
         [
          "2024-03-10T11:44:00Z",
          "2024-03-10T11:45:00Z"
         ],
         "exitosa",
         1
        ],
        [
         [
          "2024-03-10T11:44:00Z",
          "2024-03-10T11:45:00Z"
         ],
         "target=\"_blank\">#<span>linux</span></a>",
         1
        ],
        [
         [
          "2024-03-10T11:44:00Z",
          "2024-03-10T11:45:00Z"
         ],
         "target=\"_blank\">#<span>opensource</span></a>",
         1
        ],
        [
         [
          "2024-03-10T11:45:00Z",
          "2024-03-10T11:46:00Z"
         ],
         "Dir.",
         1
        ],
        [
         [
          "2024-03-10T11:47:00Z",
          "2024-03-10T11:48:00Z"
         ],
         "class=\"u-url",
         1
        ],
        [
         [
          "2024-03-10T11:45:00Z",
          "2024-03-10T11:46:00Z"
         ],
         "<p>Tate",
         1
        ],
        [
         [
          "2024-03-10T11:46:00Z",
          "2024-03-10T11:47:00Z"
         ],
         "<p>Yo",
         1
        ],
        [
         [
          "2024-03-10T11:46:00Z",
          "2024-03-10T11:47:00Z"
         ],
         "Citerior..<br>¡OH",
         1
        ],
        [
         [
          "2024-03-10T11:44:00Z",
          "2024-03-10T11:45:00Z"
         ],
         "Lingmo",
         1
        ],
        [
         [
          "2024-03-10T11:44:00Z",
          "2024-03-10T11:45:00Z"
         ],
         "href=\"https://mastodon.social/tags/TalD%C3%ADaComoHoy\"",
         1
        ],
        [
         [
          "2024-03-10T11:45:00Z",
          "2024-03-10T11:46:00Z"
         ],
         "target=\"_blank\">#<span>stripe</span></a>",
         1
        ],
        [
         [
          "2024-03-10T11:46:00Z",
          "2024-03-10T11:47:00Z"
         ],
         "POLICIA!</p><p><a",
         1
        ],
        [
         [
          "2024-03-10T11:44:00Z",
          "2024-03-10T11:45:00Z"
         ],
         "translate=\"no\"",
         1
        ],
        [
         [
          "2024-03-10T11:46:00Z",
          "2024-03-10T11:47:00Z"
         ],
         "target=\"_blank\"><span",
         1
        ],
        [
         [
          "2024-03-10T11:47:00Z",
          "2024-03-10T11:48:00Z"
         ],
         "様式美みたいなので</p>",
         1
        ],
        [
         [
          "2024-03-10T11:46:00Z",
          "2024-03-10T11:47:00Z"
         ],
         "beatmap",
         1
        ],
        [
         [
          "2024-03-10T11:44:00Z",
          "2024-03-10T11:45:00Z"
         ],
         "años:",
         1
        ],
        [
         [
          "2024-03-10T11:45:00Z",
          "2024-03-10T11:46:00Z"
         ],
         "target=\"_blank\">#<span>wallpaper</span></a>",
         1
        ],
        [
         [
          "2024-03-10T11:46:00Z",
          "2024-03-10T11:47:00Z"
         ],
         "<p><span>{細長い,太い,大きい,小さい}リボンかわいい。</span></p>",
         1
        ],
        [
         [
          "2024-03-10T11:46:00Z",
          "2024-03-10T11:47:00Z"
         ],
         "OTRA",
         1
        ],
        [
         [
          "2024-03-10T11:44:00Z",
          "2024-03-10T11:45:00Z"
         ],
         "prueba",
         1
        ],
        [
         [
          "2024-03-10T11:47:00Z",
          "2024-03-10T11:48:00Z"
         ],
         "<p><span",
         1
        ],
        [
         [
          "2024-03-10T11:46:00Z",
          "2024-03-10T11:47:00Z"
         ],
         "noopener",
         1
        ],
        [
         [
          "2024-03-10T11:46:00Z",
          "2024-03-10T11:47:00Z"
         ],
         "slowdowns",
         1
        ],
        [
         [
          "2024-03-10T11:45:00Z",
          "2024-03-10T11:46:00Z"
         ],
         "href=\"https://botsin.space/tags/stripes\"",
         1
        ],
        [
         [
          "2024-03-10T11:44:00Z",
          "2024-03-10T11:45:00Z"
         ],
         "1876,",
         1
        ],
        [
         [
          "2024-03-10T11:45:00Z",
          "2024-03-10T11:46:00Z"
         ],
         "Projecció",
         1
        ],
        [
         [
          "2024-03-10T11:46:00Z",
          "2024-03-10T11:47:00Z"
         ],
         "pero",
         1
        ],
        [
         [
          "2024-03-10T11:44:00Z",
          "2024-03-10T11:45:00Z"
         ],
         "class=\"invisible\">https://www.</span><span",
         1
        ],
        [
         [
          "2024-03-10T11:44:00Z",
          "2024-03-10T11:45:00Z"
         ],
         "target=\"_blank\">#<span>TalDíaComoHoy</span></a></p>",
         1
        ],
        [
         [
          "2024-03-10T11:46:00Z",
          "2024-03-10T11:47:00Z"
         ],
         "diria",
         1
        ],
        [
         [
          "2024-03-10T11:45:00Z",
          "2024-03-10T11:46:00Z"
         ],
         "<p>Full",
         1
        ],
        [
         [
          "2024-03-10T11:45:00Z",
          "2024-03-10T11:46:00Z"
         ],
         "Video)",
         1
        ],
        [
         [
          "2024-03-10T11:44:00Z",
          "2024-03-10T11:45:00Z"
         ],
         "noopener",
         5
        ],
        [
         [
          "2024-03-10T11:47:00Z",
          "2024-03-10T11:48:00Z"
         ],
         "translate=\"no\"><a",
         1
        ],
        [
         [
          "2024-03-10T11:46:00Z",
          "2024-03-10T11:47:00Z"
         ],
         "class=\"invisible\">I</span></a></p>",
         1
        ],
        [
         [
          "2024-03-10T11:44:00Z",
          "2024-03-10T11:45:00Z"
         ],
         "href=\"https://www.debugpoint.com/lingmo-os-beta/\"",
         1
        ],
        [
         [
          "2024-03-10T11:45:00Z",
          "2024-03-10T11:46:00Z"
         ],
         "<p>Això",
         1
        ],
        [
         [
          "2024-03-10T11:45:00Z",
          "2024-03-10T11:46:00Z"
         ],
         "href=\"https://botsin.space/tags/Stripey\"",
         1
        ],
        [
         [
          "2024-03-10T11:46:00Z",
          "2024-03-10T11:47:00Z"
         ],
         "dolor",
         1
        ],
        [
         [
          "2024-03-10T11:45:00Z",
          "2024-03-10T11:46:00Z"
         ],
         "class=\"invisible\">https://</span><span",
         1
        ],
        [
         [
          "2024-03-10T11:46:00Z",
          "2024-03-10T11:47:00Z"
         ],
         "muchas",
         1
        ],
        [
         [
          "2024-03-10T11:44:00Z",
          "2024-03-10T11:45:00Z"
         ],
         "teléfono.</p><p><a",
         1
        ],
        [
         [
          "2024-03-10T11:45:00Z",
          "2024-03-10T11:46:00Z"
         ],
         "class=\"ellipsis\">anarquia.cat/aixo-es-avui-10-0</span><span",
         1
        ],
        [
         [
          "2024-03-10T11:45:00Z",
          "2024-03-10T11:46:00Z"
         ],
         "(2002)",
         1
        ]
       ],
       "datasetInfos": [],
       "dbfsResultPath": null,
       "isJsonSchema": true,
       "metadata": {},
       "overflow": false,
       "plotOptions": {
        "customPlotOptions": {},
        "displayType": "table",
        "pivotAggregation": null,
        "pivotColumns": null,
        "xColumns": null,
        "yColumns": null
       },
       "removedWidgets": [],
       "schema": [
        {
         "metadata": "{\"spark.timeWindow\":true}",
         "name": "window",
         "type": "{\"type\":\"struct\",\"fields\":[{\"name\":\"start\",\"type\":\"timestamp\",\"nullable\":true,\"metadata\":{}},{\"name\":\"end\",\"type\":\"timestamp\",\"nullable\":true,\"metadata\":{}}]}"
        },
        {
         "metadata": "{}",
         "name": "word",
         "type": "\"string\""
        },
        {
         "metadata": "{}",
         "name": "count",
         "type": "\"long\""
        }
       ],
       "type": "table"
      }
     },
     "output_type": "display_data"
    }
   ],
   "source": [
    "from pyspark.sql.functions import lower, explode, length\n",
    "\n",
    "dataset = df.selectExpr(\"CAST(key AS STRING)\", \"CAST(value AS STRING)\", \"timestamp\") \\\n",
    "    .withColumn(\"value\", from_json(\"value\", schema)) \\\n",
    "    .select(col('key'), col(\"timestamp\"), col('value.*')) \\\n",
    "    .select(explode(split(col(\"content\"), \" \")).alias(\"word\"), \"timestamp\") \\\n",
    "    .filter(length(col(\"word\")) > 3)\n",
    "\n",
    "dataset.groupBy(window(col(\"timestamp\"), \"1 minutes\"), col(\"word\")) \\\n",
    "    .count() \\\n",
    "    .display()"
   ]
  },
  {
   "cell_type": "markdown",
   "metadata": {
    "application/vnd.databricks.v1+cell": {
     "cellMetadata": {
      "byteLimit": 2048000,
      "rowLimit": 10000
     },
     "inputWidgets": {},
     "nuid": "079ea0e1-410c-4aab-8ac6-75784186f51a",
     "showTitle": false,
     "title": ""
    }
   },
   "source": [
    "## Clean up DBFS"
   ]
  },
  {
   "cell_type": "code",
   "execution_count": 0,
   "metadata": {
    "application/vnd.databricks.v1+cell": {
     "cellMetadata": {
      "byteLimit": 2048000,
      "rowLimit": 10000
     },
     "inputWidgets": {},
     "nuid": "ec352ab9-9a46-4649-b81c-6ffad69908c5",
     "showTitle": false,
     "title": ""
    }
   },
   "outputs": [
    {
     "output_type": "display_data",
     "data": {
      "text/html": [
       "<style scoped>\n",
       "  .ansiout {\n",
       "    display: block;\n",
       "    unicode-bidi: embed;\n",
       "    white-space: pre-wrap;\n",
       "    word-wrap: break-word;\n",
       "    word-break: break-all;\n",
       "    font-family: \"Menlo\", \"Monaco\", \"Consolas\", \"Ubuntu Mono\", \"Source Code Pro\", monospace;\n",
       "    font-size: 13px;\n",
       "    color: #555;\n",
       "    margin-left: 4px;\n",
       "    line-height: 19px;\n",
       "  }\n",
       "</style>"
      ]
     },
     "metadata": {
      "application/vnd.databricks.v1+output": {
       "arguments": {},
       "data": "",
       "errorSummary": "Command skipped",
       "errorTraceType": "html",
       "metadata": {},
       "type": "ipynbError"
      }
     },
     "output_type": "display_data"
    }
   ],
   "source": [
    "%scala\n",
    "// Clean up\n",
    "val PATH = \"dbfs:/tmp/\"\n",
    "dbutils.fs.ls(PATH)\n",
    "            .map(_.name)\n",
    "            .foreach((file: String) => dbutils.fs.rm(PATH + file, true))"
   ]
  },
  {
   "cell_type": "code",
   "execution_count": 0,
   "metadata": {
    "application/vnd.databricks.v1+cell": {
     "cellMetadata": {
      "byteLimit": 2048000,
      "rowLimit": 10000
     },
     "inputWidgets": {},
     "nuid": "15e39dad-93c8-436e-99fe-995c22c2f9b9",
     "showTitle": false,
     "title": ""
    }
   },
   "outputs": [],
   "source": []
  }
 ],
 "metadata": {
  "application/vnd.databricks.v1+notebook": {
   "dashboards": [],
   "environmentMetadata": null,
   "language": "python",
   "notebookMetadata": {
    "mostRecentlyExecutedCommandWithImplicitDF": {
     "commandId": 3838321522709465,
     "dataframes": [
      "_sqldf"
     ]
    },
    "pythonIndentUnit": 2
   },
   "notebookName": "3.2.Spark Streaming Kafka - Solution",
   "widgets": {}
  },
  "colab": {
   "collapsed_sections": [],
   "provenance": [],
   "toc_visible": true
  },
  "kernelspec": {
   "display_name": "Python 3",
   "name": "python3"
  }
 },
 "nbformat": 4,
 "nbformat_minor": 0
}
