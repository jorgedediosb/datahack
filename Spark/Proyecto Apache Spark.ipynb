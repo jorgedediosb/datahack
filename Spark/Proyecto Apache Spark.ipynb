{
 "cells": [
  {
   "cell_type": "markdown",
   "metadata": {
    "application/vnd.databricks.v1+cell": {
     "cellMetadata": {},
     "inputWidgets": {},
     "nuid": "fb187e7c-16bf-4efd-bdf3-7bf2ce4d53c5",
     "showTitle": false,
     "title": ""
    },
    "id": "Uk5ghOBCxPlT"
   },
   "source": [
    "# Descripción"
   ]
  },
  {
   "cell_type": "markdown",
   "metadata": {
    "application/vnd.databricks.v1+cell": {
     "cellMetadata": {},
     "inputWidgets": {},
     "nuid": "73afcd50-40e2-4e13-808c-35039a0c9e6c",
     "showTitle": false,
     "title": ""
    },
    "id": "61qYFUD1ysQX"
   },
   "source": [
    "Contamos con unos datasets que corresponden a un **listado de inspecciones de sanidad en locales** (Restaurantes, supermercados, etc), junto con su respectivo riesgo para la salud. Contamos con otro dataset que nos muestra una **descripción de dicho riesgo**.\n",
    "\n",
    "**El objetivo es cargar esos datasets bajo unas especificaciones concretas y manipularlos acorde a las instrucciones de cada ejercicio.**\n",
    "\n",
    "Todas las operaciones necesarias están descritas en los ejercicios, aunque se valorará tareas extras por propia iniciativa del alumno. También se valorará el uso del API de DataFrame\n",
    "\n",
    "**La entrega será este fichero \"ipynb\" (el nombre del fichero será vuestro nombre), junto con la imagen del plan de ejecución del ejercicio 4**, comprimido en un fichero zip con el nombre y apellidos del alumno"
   ]
  },
  {
   "cell_type": "markdown",
   "metadata": {
    "application/vnd.databricks.v1+cell": {
     "cellMetadata": {},
     "inputWidgets": {},
     "nuid": "3a11d615-dcf1-4074-97a0-c07ea36e0d5d",
     "showTitle": false,
     "title": ""
    },
    "id": "8Z0h3dF9Vg4X"
   },
   "source": [
    "# Descargar Datasets"
   ]
  },
  {
   "cell_type": "code",
   "execution_count": null,
   "metadata": {
    "application/vnd.databricks.v1+cell": {
     "cellMetadata": {},
     "inputWidgets": {},
     "nuid": "b13db421-61d6-43df-9aba-16a9d29d9997",
     "showTitle": false,
     "title": ""
    }
   },
   "outputs": [],
   "source": [
    "%sh \n",
    "curl -O 'https://raw.githubusercontent.com/masfworld/datahack_docker/master/zeppelin/data/food_inspections_lite.csv'\n",
    "curl -O 'https://raw.githubusercontent.com/masfworld/datahack_docker/master/zeppelin/data/risk_description.csv'"
   ]
  },
  {
   "cell_type": "markdown",
   "metadata": {},
   "source": []
  },
  {
   "cell_type": "code",
   "execution_count": null,
   "metadata": {
    "application/vnd.databricks.v1+cell": {
     "cellMetadata": {},
     "inputWidgets": {},
     "nuid": "f9992d60-96b6-43cd-8e2d-9c52dd718662",
     "showTitle": false,
     "title": ""
    }
   },
   "outputs": [],
   "source": [
    "dbutils.fs.cp('file:/databricks/driver/food_inspections_lite.csv','dbfs:/dataset/food_inspections_lite.csv')\n",
    "dbutils.fs.cp('file:/databricks/driver/risk_description.csv','dbfs:/dataset/risk_description.csv')"
   ]
  },
  {
   "cell_type": "code",
   "execution_count": null,
   "metadata": {
    "application/vnd.databricks.v1+cell": {
     "cellMetadata": {},
     "inputWidgets": {},
     "nuid": "a29800e4-d003-4d6e-966d-0e98d8fff444",
     "showTitle": false,
     "title": ""
    }
   },
   "outputs": [],
   "source": [
    "dbutils.fs.ls('/dataset/')"
   ]
  },
  {
   "cell_type": "markdown",
   "metadata": {
    "application/vnd.databricks.v1+cell": {
     "cellMetadata": {},
     "inputWidgets": {},
     "nuid": "c57ec8fd-5255-4a35-b3a0-a1cfd42dae9b",
     "showTitle": false,
     "title": ""
    },
    "id": "prvVhMD4a5o7"
   },
   "source": [
    "# Ejercicio 1\n",
    "---\n",
    "\n",
    "1. **Crea dos dataframes, uno a partir del fichero `food_inspections_lite.csv` y otro a partir de `risk_description.csv`**\n",
    "2. **Convierte esos dos dataframes a tablas delta**\n"
   ]
  },
  {
   "cell_type": "code",
   "execution_count": null,
   "metadata": {
    "application/vnd.databricks.v1+cell": {
     "cellMetadata": {},
     "inputWidgets": {},
     "nuid": "daff7c65-9f34-4e27-a1df-a6f8d86d80cd",
     "showTitle": false,
     "title": ""
    }
   },
   "outputs": [],
   "source": []
  },
  {
   "cell_type": "markdown",
   "metadata": {
    "application/vnd.databricks.v1+cell": {
     "cellMetadata": {},
     "inputWidgets": {},
     "nuid": "94d26822-a808-45a1-9f43-67a659891203",
     "showTitle": false,
     "title": ""
    },
    "id": "4-HOEezxVnCe"
   },
   "source": [
    "# Ejercicio 2\n",
    "**Obtén el número de inspecciones distintas con Riesgo alto `Risk 1 (High)`**\n",
    "\n",
    "---\n",
    "\n"
   ]
  },
  {
   "cell_type": "code",
   "execution_count": null,
   "metadata": {
    "application/vnd.databricks.v1+cell": {
     "cellMetadata": {},
     "inputWidgets": {},
     "nuid": "0e919fcf-dcf8-4c39-95af-bd677ea39f24",
     "showTitle": false,
     "title": ""
    },
    "colab": {
     "base_uri": "https://localhost:8080/"
    },
    "id": "PJ88z1pQV9WF",
    "outputId": "a99b4b66-0c0e-4476-d44e-3f8b3dc5f307"
   },
   "outputs": [],
   "source": []
  },
  {
   "cell_type": "markdown",
   "metadata": {
    "application/vnd.databricks.v1+cell": {
     "cellMetadata": {},
     "inputWidgets": {},
     "nuid": "ea37802e-9b95-49d0-a584-f24b7fda1b9b",
     "showTitle": false,
     "title": ""
    },
    "id": "3R1kpKmIXi-h"
   },
   "source": [
    "\n",
    "# Ejercicio 3\n",
    "**A partir de los dataframes cargados anteriormente, obtén una tabla con las siguientes columnas:<br>**\n",
    "1. `DBA Name`\n",
    "2. `Facility Type`\n",
    "3. `Risk`\n",
    "4. `Risk description`\n",
    "\n",
    "---"
   ]
  },
  {
   "cell_type": "code",
   "execution_count": null,
   "metadata": {
    "application/vnd.databricks.v1+cell": {
     "cellMetadata": {},
     "inputWidgets": {},
     "nuid": "57d382c2-4408-485f-81f7-dac4b6aa1466",
     "showTitle": false,
     "title": ""
    },
    "colab": {
     "base_uri": "https://localhost:8080/"
    },
    "id": "crVCDIcYaFlu",
    "outputId": "b16795c6-4f5b-497f-a7ae-4cf565ac979a"
   },
   "outputs": [],
   "source": []
  },
  {
   "cell_type": "markdown",
   "metadata": {
    "application/vnd.databricks.v1+cell": {
     "cellMetadata": {},
     "inputWidgets": {},
     "nuid": "b089ed46-7d87-4edd-89f3-ad411ef5191c",
     "showTitle": false,
     "title": ""
    },
    "id": "ZX1ahdYyb2L9"
   },
   "source": [
    "# Ejercicio 4\n",
    "**Accede a la Spark UI para ver el plan de ejecución del ejercicio anterior (ejercicio 3). Describe cada una de las piezas/cajas que componen el plan de ejecución (Una descripción breve de una línea por caja será suficiente).**<br><br>**Recordad hacer un pantallazo del plan de ejecución analizado y enviadlo junto con este notebook**\n",
    "\n",
    "---\n",
    "\n"
   ]
  },
  {
   "cell_type": "code",
   "execution_count": null,
   "metadata": {
    "application/vnd.databricks.v1+cell": {
     "cellMetadata": {},
     "inputWidgets": {},
     "nuid": "cc7b0625-bb9c-4772-ae68-1ffd1763f351",
     "showTitle": false,
     "title": ""
    }
   },
   "outputs": [],
   "source": []
  },
  {
   "cell_type": "markdown",
   "metadata": {
    "application/vnd.databricks.v1+cell": {
     "cellMetadata": {},
     "inputWidgets": {},
     "nuid": "fff4369c-a922-4910-a85d-d4e0b7b28803",
     "showTitle": false,
     "title": ""
    },
    "id": "2sQNdQ2Gbz4p"
   },
   "source": [
    "# Ejercicio 5\n",
    "**1. Para cada local (columna `DBA Name`) y su resultado (columna `Results`), obtén el número de inspecciones que ha tenido**<br><br>\n",
    "**2. Obtén los dos locales (`DBA Name`) que más inspecciones han tenido por cada uno de los resultados**<br><br>\n",
    "**3. Guarda los resultados del punto 2 en una nueva tabla Delta llamada `inspections_results`**\n",
    "\n",
    "---"
   ]
  },
  {
   "cell_type": "code",
   "execution_count": null,
   "metadata": {
    "application/vnd.databricks.v1+cell": {
     "cellMetadata": {
      "implicitDf": true
     },
     "inputWidgets": {},
     "nuid": "2dc5acf0-bda0-4605-9ead-f628ac9908f0",
     "showTitle": false,
     "title": ""
    },
    "colab": {
     "base_uri": "https://localhost:8080/"
    },
    "id": "TLFgHfWp0pbL",
    "outputId": "0c1d2ade-e00c-4ffa-f1fd-ac650f7d4ad6"
   },
   "outputs": [],
   "source": []
  },
  {
   "cell_type": "markdown",
   "metadata": {
    "application/vnd.databricks.v1+cell": {
     "cellMetadata": {},
     "inputWidgets": {},
     "nuid": "42d86456-6a93-4b5d-aed1-dd2105921c8d",
     "showTitle": false,
     "title": ""
    },
    "id": "04y2Ys6L0wTU"
   },
   "source": [
    "# Ejercicio 6\n",
    "1. **Actualiza la tabla delta del ejercicio anterior `inspections_results`, especificando `DBA_Name = error`**<br>\n",
    "2. **Restaura la tabla a su estado original**\n",
    "\n",
    "---\n",
    "\n"
   ]
  },
  {
   "cell_type": "code",
   "execution_count": null,
   "metadata": {
    "application/vnd.databricks.v1+cell": {
     "cellMetadata": {},
     "inputWidgets": {},
     "nuid": "e8987f1d-b2cc-4ce8-b6b6-3fdfb430ae8e",
     "showTitle": false,
     "title": ""
    },
    "colab": {
     "base_uri": "https://localhost:8080/"
    },
    "id": "U1Pp9VwU1DnK",
    "outputId": "b56672fa-5a19-4f6a-81de-522b931e433f"
   },
   "outputs": [],
   "source": []
  },
  {
   "cell_type": "markdown",
   "metadata": {
    "application/vnd.databricks.v1+cell": {
     "cellMetadata": {},
     "inputWidgets": {},
     "nuid": "a86c2cf1-c6e3-47fa-8677-f2bc8699b5e7",
     "showTitle": false,
     "title": ""
    },
    "id": "77M6b7WwsTA1"
   },
   "source": [
    "# Ejercicio 7\n",
    "\n",
    "**Crea una aplicación son Structured Streaming que lea los datos del topic de Kafka `inspections`. La url del servidor Kafka es `35.237.99.179:9094`:**\n",
    "\n",
    "**Los datos procedentes de este topic son exactamente los mismos que estamos analizando durante todo este notebook, `Food Inspections`, así que el esquema es el mismo**"
   ]
  },
  {
   "cell_type": "code",
   "execution_count": null,
   "metadata": {
    "application/vnd.databricks.v1+cell": {
     "cellMetadata": {},
     "inputWidgets": {},
     "nuid": "58890d9d-8318-4263-ad99-7f46cd28c324",
     "showTitle": false,
     "title": ""
    },
    "colab": {
     "base_uri": "https://localhost:8080/"
    },
    "id": "T2313e8Du6RX",
    "outputId": "ed179851-dc6a-4ca8-ace7-144a407a3044"
   },
   "outputs": [],
   "source": []
  },
  {
   "cell_type": "markdown",
   "metadata": {
    "application/vnd.databricks.v1+cell": {
     "cellMetadata": {},
     "inputWidgets": {},
     "nuid": "090c9d0b-305b-432c-a686-e87b3fca83be",
     "showTitle": false,
     "title": ""
    },
    "id": "JbyutPORhr0b"
   },
   "source": [
    "# Ejercicio 8\n",
    "**En base a la fuente de datos del ejercicio anterior, obtén cada 5 segundos el número de inspecciones por `Facility Type`**"
   ]
  },
  {
   "cell_type": "code",
   "execution_count": null,
   "metadata": {
    "application/vnd.databricks.v1+cell": {
     "cellMetadata": {},
     "inputWidgets": {},
     "nuid": "0b404cb3-4e6d-4baf-830c-286b98dc8346",
     "showTitle": false,
     "title": ""
    },
    "colab": {
     "base_uri": "https://localhost:8080/"
    },
    "id": "jx_xjxBthxyO",
    "outputId": "28de96fc-241f-4ba1-bcdb-d80a27601f24"
   },
   "outputs": [],
   "source": []
  },
  {
   "cell_type": "markdown",
   "metadata": {
    "application/vnd.databricks.v1+cell": {
     "cellMetadata": {},
     "inputWidgets": {},
     "nuid": "86fcae80-04aa-4d20-892b-b813877a2b60",
     "showTitle": false,
     "title": ""
    },
    "id": "sr3vImmwxQiN"
   },
   "source": [
    "# Ejercicio 9\n",
    "**En base a la fuente de datos del ejercicio 7, obtén cada 5 segundos el número de inspecciones por `Results` de los últimos 30 segundos**"
   ]
  },
  {
   "cell_type": "code",
   "execution_count": null,
   "metadata": {
    "application/vnd.databricks.v1+cell": {
     "cellMetadata": {},
     "inputWidgets": {},
     "nuid": "743f2cd8-6e91-40f3-8c2a-d5986174459f",
     "showTitle": false,
     "title": ""
    },
    "colab": {
     "base_uri": "https://localhost:8080/"
    },
    "id": "cwoGr9xWw5a4",
    "outputId": "1304eee1-10b0-438b-d90b-aa5e6570a596"
   },
   "outputs": [],
   "source": []
  },
  {
   "cell_type": "markdown",
   "metadata": {
    "application/vnd.databricks.v1+cell": {
     "cellMetadata": {},
     "inputWidgets": {},
     "nuid": "14d4e4b5-b08f-41f9-a34b-7cf40f62b7c4",
     "showTitle": false,
     "title": ""
    },
    "id": "BNea5uVAx1DG"
   },
   "source": [
    "# Ejercicio 10\n",
    "1. **Actualiza la columna `Results` de la tabla delta de food inspections creada en el ejercicio 1 al valor `No result`**\n",
    "2. **Actualiza los datos de la tabla modificada en el punto 1 conforme vayan llegando elementos en Kafka**\n",
    "\n",
    "---"
   ]
  },
  {
   "cell_type": "markdown",
   "metadata": {
    "application/vnd.databricks.v1+cell": {
     "cellMetadata": {},
     "inputWidgets": {},
     "nuid": "5996777d-c73c-4532-a477-e42d22ec4f04",
     "showTitle": false,
     "title": ""
    },
    "id": "fbT-_TJv0YMj"
   },
   "source": [
    "Se aconseja parar todos los streams anteriores ya que el de este ejercicio suele hacer un uso intensivo de los recursos"
   ]
  },
  {
   "cell_type": "code",
   "execution_count": null,
   "metadata": {
    "application/vnd.databricks.v1+cell": {
     "cellMetadata": {},
     "inputWidgets": {},
     "nuid": "659b713d-9f62-4cf6-9276-d85a8db7329e",
     "showTitle": false,
     "title": ""
    }
   },
   "outputs": [],
   "source": []
  },
  {
   "cell_type": "markdown",
   "metadata": {
    "application/vnd.databricks.v1+cell": {
     "cellMetadata": {},
     "inputWidgets": {},
     "nuid": "54e4c169-732d-4163-8e17-d18ef12cc95d",
     "showTitle": false,
     "title": ""
    }
   },
   "source": [
    "# Ejercicio 11: Diseño de Arquitectura de Datos\n",
    "\n",
    "**Objetivo:** Diseñar una arquitectura de datos para manejar el sistema de inspecciones de sanidad descrito en los datasets utilizados en este proyecto.\n",
    "\n",
    "**Descripción:**\n",
    "Queremos que diseñen una arquitectura de datos eficiente y escalable para el sistema de inspecciones de sanidad. Los elementos a tener en cuenta:\n",
    "* Para obtener los datos (CSVs incluidos en este proyecto) será necesario contectarse a un API REST\n",
    "* Necesitamos limpiar los datos ya que en muchas veces vienen incompletos o con campos que no corresponden con la realidad\n",
    "* Tenemos que cotejar las empresas con las empresas dadas de alta en el sistema, las cuales están almacenadas en un directorio en dbfs, en formato delta lake.\n",
    "* En paralelo debemos diseñar un sistema de registro para los inspectores, donde podrán administrar y ver las inspecciones realizadas\n",
    "* Que calcular algunas métricas a nivel de inspección tales como: Empresa con más inspecciones fallidas, o porcentaje de empresas con un mínimo de inspecciones. Estas métricas deberán actualizarse con un máximo de latencia de 30 minutos\n",
    "* También definiremos métricas a nivel de inspectores, como inspectores con más inspecciones, ... Estás métricas sólo serán visibles a ciertos usuarios de la administración.\n",
    "* Algunas de las métricas de inspecciones serán expuestas en un dashboard accesible por ciertos cargos del gobierno.\n",
    "* Además debemos exponer los datos de inspecciones (con ciertas restricciones de visibilidad) a todos los ciudadanos a través de un API.\n",
    "\n",
    "Este diseño debe abordar los siguientes puntos:\n",
    "\n",
    "1. **Dominio de Datos:** Identifica y define dominios de datos relevantes para el sistema de inspecciones de sanidad.\n",
    "2. **Propietarios del Dominio:** Asigna roles y responsabilidades para cada dominio de datos. ¿Quiénes serán los propietarios de estos datos?\n",
    "4. **Infraestructura Autónoma:** Proporciona una visión general de cómo cada dominio manejará su infraestructura para la ingestión, almacenamiento, procesamiento y exposición de datos.\n",
    "5. **Interoperabilidad:** Define cómo los distintos dominios se comunicarán y compartirán datos entre sí. ¿Qué estándares y protocolos se utilizarán?\n",
    "6. **Gobernanza:** Establece principios de gobernanza de datos que aseguren la calidad, seguridad y cumplimiento de los datos en todos los dominios.\n",
    "7. **Tecnologías Utilizadas:** Identifica las tecnologías y herramientas que emplearás para implementar tu diseño de arquitectura de datos (por ejemplo, Apache Spark, Kafka, Delta Lake, etc.).\n",
    "8. **Evolución y Escalabilidad:** Proporciona una estrategia para evolucionar y escalar la arquitectura de datos conforme crezca la organización y la cantidad de datos.\n",
    "\n",
    "**Entregable:**\n",
    "Un documento en formato PDF que incluya un diagrama arquitectónico (usa la aplicación que consideres, por ejemplo, https://excalidraw.com/ ) y la descripción detallada de los puntos mencionados anteriormente. Además, justifica por qué elegiste este diseño y cómo crees que cumplirá con los requisitos del sistema de inspecciones de sanidad.\n"
   ]
  },
  {
   "cell_type": "code",
   "execution_count": null,
   "metadata": {
    "application/vnd.databricks.v1+cell": {
     "cellMetadata": {},
     "inputWidgets": {},
     "nuid": "408b72e8-634e-456f-8719-7b8ba2656a24",
     "showTitle": false,
     "title": ""
    }
   },
   "outputs": [],
   "source": []
  }
 ],
 "metadata": {
  "application/vnd.databricks.v1+notebook": {
   "dashboards": [],
   "environmentMetadata": null,
   "language": "python",
   "notebookMetadata": {
    "mostRecentlyExecutedCommandWithImplicitDF": {
     "commandId": 3190176927072050,
     "dataframes": [
      "_sqldf"
     ]
    },
    "pythonIndentUnit": 2
   },
   "notebookName": "Proyecto Apache Spark",
   "widgets": {}
  },
  "colab": {
   "collapsed_sections": [
    "Jq9d0x1OTh2N",
    "8Z0h3dF9Vg4X"
   ],
   "name": "Evaluacion_Apache_Spark_Solutions.ipynb",
   "provenance": [],
   "toc_visible": true
  },
  "kernelspec": {
   "display_name": "Python 3",
   "name": "python3"
  },
  "language_info": {
   "name": "python",
   "version": "3.12.2"
  }
 },
 "nbformat": 4,
 "nbformat_minor": 0
}
