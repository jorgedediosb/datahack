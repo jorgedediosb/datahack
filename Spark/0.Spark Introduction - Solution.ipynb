{
 "cells": [
  {
   "cell_type": "markdown",
   "metadata": {
    "application/vnd.databricks.v1+cell": {
     "cellMetadata": {
      "byteLimit": 2048000,
      "rowLimit": 10000
     },
     "inputWidgets": {},
     "nuid": "4d98bb0e-3a74-4a00-9c98-e79e76c0c21d",
     "showTitle": false,
     "title": ""
    },
    "id": "8Z0h3dF9Vg4X"
   },
   "source": [
    "# Download Datasets"
   ]
  },
  {
   "cell_type": "code",
   "execution_count": 0,
   "metadata": {
    "application/vnd.databricks.v1+cell": {
     "cellMetadata": {
      "byteLimit": 2048000,
      "rowLimit": 10000
     },
     "inputWidgets": {},
     "nuid": "621a3631-07bb-4ab2-9751-4e26ea3ae04d",
     "showTitle": false,
     "title": ""
    },
    "colab": {
     "base_uri": "https://localhost:8080/"
    },
    "id": "KBDin-0sXgyI",
    "outputId": "775fe7fd-05f3-42e2-f533-657265d94bb9"
   },
   "outputs": [],
   "source": [
    "%sh \n",
    "curl -O 'https://raw.githubusercontent.com/masfworld/datahack_docker/master/zeppelin/data/frankenstein.txt'\n",
    "curl -O 'https://raw.githubusercontent.com/masfworld/datahack_docker/master/zeppelin/data/el_quijote.txt'\n",
    "curl -O 'https://raw.githubusercontent.com/masfworld/datahack_docker/master/zeppelin/data/characters.csv'\n",
    "curl -O 'https://raw.githubusercontent.com/masfworld/datahack_docker/master/zeppelin/data/planets.csv'"
   ]
  },
  {
   "cell_type": "code",
   "execution_count": 0,
   "metadata": {
    "application/vnd.databricks.v1+cell": {
     "cellMetadata": {
      "byteLimit": 2048000,
      "rowLimit": 10000
     },
     "inputWidgets": {},
     "nuid": "83369930-8275-4908-8361-322fcc2d3893",
     "showTitle": false,
     "title": ""
    }
   },
   "outputs": [],
   "source": [
    "%sh\n",
    "ls /databricks/driver/"
   ]
  },
  {
   "cell_type": "markdown",
   "metadata": {
    "application/vnd.databricks.v1+cell": {
     "cellMetadata": {
      "byteLimit": 2048000,
      "rowLimit": 10000
     },
     "inputWidgets": {},
     "nuid": "868765d7-8519-4ec8-b3d2-75a23b9271af",
     "showTitle": false,
     "title": ""
    },
    "id": "02Zwm3NRXS_I"
   },
   "source": [
    "# RDD\n",
    "\n",
    "---\n",
    "\n"
   ]
  },
  {
   "cell_type": "markdown",
   "metadata": {
    "application/vnd.databricks.v1+cell": {
     "cellMetadata": {
      "byteLimit": 2048000,
      "rowLimit": 10000
     },
     "inputWidgets": {},
     "nuid": "99ee8402-97f5-4601-9418-7a33f025079b",
     "showTitle": false,
     "title": ""
    },
    "id": "h1o6f6QOjTcZ"
   },
   "source": [
    "## Example 1"
   ]
  },
  {
   "cell_type": "code",
   "execution_count": 0,
   "metadata": {
    "application/vnd.databricks.v1+cell": {
     "cellMetadata": {
      "byteLimit": 2048000,
      "rowLimit": 10000
     },
     "inputWidgets": {},
     "nuid": "ddebe479-9469-4fec-8d02-d2c8171ca574",
     "showTitle": false,
     "title": ""
    },
    "colab": {
     "base_uri": "https://localhost:8080/",
     "height": 35
    },
    "id": "HnbafeFCVk8d",
    "outputId": "ad6de7c8-a32f-496f-a4a7-11c7944d5b79"
   },
   "outputs": [],
   "source": [
    "textFile = spark.sparkContext.textFile('file:/databricks/driver/frankenstein.txt')\n",
    "display(textFile.first())"
   ]
  },
  {
   "cell_type": "markdown",
   "metadata": {
    "application/vnd.databricks.v1+cell": {
     "cellMetadata": {
      "byteLimit": 2048000,
      "rowLimit": 10000
     },
     "inputWidgets": {},
     "nuid": "1c153a94-caf2-4b28-b35f-0dd30c2d5229",
     "showTitle": false,
     "title": ""
    },
    "id": "9a00GmwOZmM2"
   },
   "source": [
    "\n",
    "## Creation of paralelized collection de colecciones paralelizadas\n",
    "This is a fast way to create a RDD:"
   ]
  },
  {
   "cell_type": "markdown",
   "metadata": {
    "application/vnd.databricks.v1+cell": {
     "cellMetadata": {
      "byteLimit": 2048000,
      "rowLimit": 10000
     },
     "inputWidgets": {},
     "nuid": "866f2d35-264e-4b0e-85ef-c8b5d36270a9",
     "showTitle": false,
     "title": ""
    },
    "id": "yzU_4EjAjZgh"
   },
   "source": [
    "## Example 2"
   ]
  },
  {
   "cell_type": "code",
   "execution_count": 0,
   "metadata": {
    "application/vnd.databricks.v1+cell": {
     "cellMetadata": {
      "byteLimit": 2048000,
      "rowLimit": 10000
     },
     "inputWidgets": {},
     "nuid": "269b892b-661a-4183-b029-aac02f027a5b",
     "showTitle": false,
     "title": ""
    },
    "colab": {
     "base_uri": "https://localhost:8080/"
    },
    "id": "SgireGq6YWEj",
    "outputId": "663050af-0a22-4ddf-8047-49bf9fcd552a"
   },
   "outputs": [],
   "source": [
    "distData = spark.sparkContext.parallelize([25, 20, 15, 10, 5])\n",
    "display(distData.reduce(lambda x ,y: x + y))"
   ]
  },
  {
   "cell_type": "markdown",
   "metadata": {
    "application/vnd.databricks.v1+cell": {
     "cellMetadata": {
      "byteLimit": 2048000,
      "rowLimit": 10000
     },
     "inputWidgets": {},
     "nuid": "8561ba27-4763-4516-a25a-85d9c5204291",
     "showTitle": false,
     "title": ""
    },
    "id": "bX0FXU7JawRm"
   },
   "source": [
    "## Exercise 1\n",
    "Count the number of lines for `el_quijote.txt` file\n",
    "\n",
    "---\n",
    "\n"
   ]
  },
  {
   "cell_type": "code",
   "execution_count": 0,
   "metadata": {
    "application/vnd.databricks.v1+cell": {
     "cellMetadata": {
      "byteLimit": 2048000,
      "rowLimit": 10000
     },
     "inputWidgets": {},
     "nuid": "7d2fdaa8-4dc4-490b-a3cb-9e087ae8f61b",
     "showTitle": false,
     "title": ""
    },
    "colab": {
     "base_uri": "https://localhost:8080/"
    },
    "id": "mCDo_-PiaEVl",
    "outputId": "7b4c1fd0-524b-4158-a184-71fd10df1049"
   },
   "outputs": [],
   "source": [
    "textfile_quijote = spark.sparkContext.textFile(\"file:/databricks/driver/el_quijote.txt\")\n",
    "print(\"Number of lines: \" + str(textfile_quijote.count()))"
   ]
  },
  {
   "cell_type": "markdown",
   "metadata": {
    "application/vnd.databricks.v1+cell": {
     "cellMetadata": {
      "byteLimit": 2048000,
      "rowLimit": 10000
     },
     "inputWidgets": {},
     "nuid": "7c11ff6a-d8d8-44f5-8bc6-82e220a60129",
     "showTitle": false,
     "title": ""
    },
    "id": "prvVhMD4a5o7"
   },
   "source": [
    "## Exercise 2\n",
    "Print the first line of the file `el_quijote.txt`\n",
    "\n",
    "---\n",
    "\n"
   ]
  },
  {
   "cell_type": "code",
   "execution_count": 0,
   "metadata": {
    "application/vnd.databricks.v1+cell": {
     "cellMetadata": {
      "byteLimit": 2048000,
      "rowLimit": 10000
     },
     "inputWidgets": {},
     "nuid": "ea658870-ab08-484b-812f-086b5ed7efb4",
     "showTitle": false,
     "title": ""
    },
    "colab": {
     "base_uri": "https://localhost:8080/",
     "height": 35
    },
    "id": "1vgL2Upsa-Qg",
    "outputId": "cf77fc55-5cc8-4883-c3c3-00846c918389"
   },
   "outputs": [],
   "source": [
    "display(textfile_quijote.first())"
   ]
  },
  {
   "cell_type": "markdown",
   "metadata": {
    "application/vnd.databricks.v1+cell": {
     "cellMetadata": {
      "byteLimit": 2048000,
      "rowLimit": 10000
     },
     "inputWidgets": {},
     "nuid": "237513b1-ff1e-49f5-b6e6-1e1f96a15dac",
     "showTitle": false,
     "title": ""
    },
    "id": "wAxxBSrBb92y"
   },
   "source": [
    "## Transformations and Actions in RDDs "
   ]
  },
  {
   "cell_type": "markdown",
   "metadata": {
    "application/vnd.databricks.v1+cell": {
     "cellMetadata": {
      "byteLimit": 2048000,
      "rowLimit": 10000
     },
     "inputWidgets": {},
     "nuid": "d2a838bb-b9db-42d0-b51b-2aad461d144f",
     "showTitle": false,
     "title": ""
    },
    "id": "D-jBGb_acVuZ"
   },
   "source": [
    "### Actions"
   ]
  },
  {
   "cell_type": "markdown",
   "metadata": {
    "application/vnd.databricks.v1+cell": {
     "cellMetadata": {
      "byteLimit": 2048000,
      "rowLimit": 10000
     },
     "inputWidgets": {},
     "nuid": "aa45b677-e9ae-4112-bbb4-a6a151c51559",
     "showTitle": false,
     "title": ""
    },
    "id": "4fc-rQBNjnNi"
   },
   "source": [
    "### Example 3"
   ]
  },
  {
   "cell_type": "code",
   "execution_count": 0,
   "metadata": {
    "application/vnd.databricks.v1+cell": {
     "cellMetadata": {
      "byteLimit": 2048000,
      "rowLimit": 10000
     },
     "inputWidgets": {},
     "nuid": "62a053de-ab28-4a15-8885-9c1f2974ee55",
     "showTitle": false,
     "title": ""
    },
    "colab": {
     "base_uri": "https://localhost:8080/"
    },
    "id": "qvxep4yubxtC",
    "outputId": "b1ac7e5b-03b0-43b0-d8d0-99997f50fb1a"
   },
   "outputs": [],
   "source": [
    "print(textFile.count()) # Número de elementos en el RDD\n",
    "print(textFile.first()) # Primer elemento del RDD"
   ]
  },
  {
   "cell_type": "markdown",
   "metadata": {
    "application/vnd.databricks.v1+cell": {
     "cellMetadata": {
      "byteLimit": 2048000,
      "rowLimit": 10000
     },
     "inputWidgets": {},
     "nuid": "0d3492a3-2c30-401f-9187-8863715579a0",
     "showTitle": false,
     "title": ""
    },
    "id": "FYhM504ycl9K"
   },
   "source": [
    "### Transformations"
   ]
  },
  {
   "cell_type": "markdown",
   "metadata": {
    "application/vnd.databricks.v1+cell": {
     "cellMetadata": {
      "byteLimit": 2048000,
      "rowLimit": 10000
     },
     "inputWidgets": {},
     "nuid": "781e8375-4b0e-4d50-bd3c-ac4018589bd0",
     "showTitle": false,
     "title": ""
    },
    "id": "irxzzmfwjyYi"
   },
   "source": [
    "### Example 4"
   ]
  },
  {
   "cell_type": "code",
   "execution_count": 0,
   "metadata": {
    "application/vnd.databricks.v1+cell": {
     "cellMetadata": {
      "byteLimit": 2048000,
      "rowLimit": 10000
     },
     "inputWidgets": {},
     "nuid": "827affde-8a0d-410a-9eaa-beae34df18e7",
     "showTitle": false,
     "title": ""
    },
    "colab": {
     "base_uri": "https://localhost:8080/"
    },
    "id": "MpkUk7t9cfoL",
    "outputId": "47818e05-5383-457b-bef8-5f8ce91f026f"
   },
   "outputs": [],
   "source": [
    "# ReduceByKey\n",
    "lines = spark.sparkContext.textFile(\"file:/databricks/driver/frankenstein.txt\")\n",
    "pairs = lines.map(lambda s: (s, 1))\n",
    "counts = pairs.reduceByKey(lambda a, b: a + b).cache()\n",
    "counts.count()\n",
    "display(counts.collect())"
   ]
  },
  {
   "cell_type": "code",
   "execution_count": 0,
   "metadata": {
    "application/vnd.databricks.v1+cell": {
     "cellMetadata": {
      "byteLimit": 2048000,
      "rowLimit": 10000
     },
     "inputWidgets": {},
     "nuid": "16f7e485-df64-4c17-9165-474514ed51ec",
     "showTitle": false,
     "title": ""
    },
    "colab": {
     "base_uri": "https://localhost:8080/"
    },
    "id": "TfajHIRsejog",
    "outputId": "f4a9ea5d-ef0c-4ff2-d098-9ad60c43560d"
   },
   "outputs": [],
   "source": [
    "# SortByKey\n",
    "sorted = counts.sortByKey()\n",
    "display(sorted.collect())"
   ]
  },
  {
   "cell_type": "markdown",
   "metadata": {
    "application/vnd.databricks.v1+cell": {
     "cellMetadata": {
      "byteLimit": 2048000,
      "rowLimit": 10000
     },
     "inputWidgets": {},
     "nuid": "347aab67-67bb-4464-9e57-61b087eafb1a",
     "showTitle": false,
     "title": ""
    },
    "id": "a6c2qVSLj4Cy"
   },
   "source": [
    "### Example 5"
   ]
  },
  {
   "cell_type": "code",
   "execution_count": 0,
   "metadata": {
    "application/vnd.databricks.v1+cell": {
     "cellMetadata": {
      "byteLimit": 2048000,
      "rowLimit": 10000
     },
     "inputWidgets": {},
     "nuid": "3b23ee59-5ad4-460f-9968-3ab597a3c799",
     "showTitle": false,
     "title": ""
    },
    "colab": {
     "base_uri": "https://localhost:8080/"
    },
    "id": "fDwoLMbbdGPN",
    "outputId": "66cddc21-ea01-4a16-a989-dbc5ba8f6194"
   },
   "outputs": [],
   "source": [
    "# Filter\n",
    "linesWithSpark = textFile.filter(lambda line: \"the\" in line)\n",
    "display(linesWithSpark.count())"
   ]
  },
  {
   "cell_type": "markdown",
   "metadata": {
    "application/vnd.databricks.v1+cell": {
     "cellMetadata": {
      "byteLimit": 2048000,
      "rowLimit": 10000
     },
     "inputWidgets": {},
     "nuid": "0d562cf2-9f09-4afc-91ff-7296ce588bfd",
     "showTitle": false,
     "title": ""
    },
    "id": "ngS6b5jUfYen"
   },
   "source": [
    "### Exercise 3\n",
    "Get the word count for the file `frankenstein.txt`\n",
    "\n",
    "---"
   ]
  },
  {
   "cell_type": "code",
   "execution_count": 0,
   "metadata": {
    "application/vnd.databricks.v1+cell": {
     "cellMetadata": {
      "byteLimit": 2048000,
      "rowLimit": 10000
     },
     "inputWidgets": {},
     "nuid": "b849373e-2e2d-4801-abd6-07d0bd4fa05b",
     "showTitle": false,
     "title": ""
    },
    "colab": {
     "base_uri": "https://localhost:8080/"
    },
    "id": "wqbwlZn8fVNd",
    "outputId": "4ed4f385-2afd-4de4-c92d-43941d07e79b"
   },
   "outputs": [],
   "source": [
    "words = spark.sparkContext.textFile(\"file:/databricks/driver/frankenstein.txt\")\n",
    "\n",
    "words.flatMap(lambda x: x.split(\" \")) \\\n",
    ".map(lambda s: (s, 1)) \\\n",
    ".reduceByKey(lambda a, b: a + b) \\\n",
    ".map(lambda x: (x[1], x[0])) \\\n",
    ".sortByKey(False) \\\n",
    ".collect()"
   ]
  },
  {
   "cell_type": "markdown",
   "metadata": {
    "application/vnd.databricks.v1+cell": {
     "cellMetadata": {
      "byteLimit": 2048000,
      "rowLimit": 10000
     },
     "inputWidgets": {},
     "nuid": "d6d78f64-cfee-4176-9510-15529a9eb5ee",
     "showTitle": false,
     "title": ""
    },
    "id": "034ZWkexhXQF"
   },
   "source": [
    "### Exercise 4\n",
    "Get TOP 10 of the words with more than 4 characters\n",
    "\n",
    "---\n",
    "\n"
   ]
  },
  {
   "cell_type": "code",
   "execution_count": 0,
   "metadata": {
    "application/vnd.databricks.v1+cell": {
     "cellMetadata": {
      "byteLimit": 2048000,
      "rowLimit": 10000
     },
     "inputWidgets": {},
     "nuid": "166a0c67-7962-4fa8-b982-6e0bea2842ad",
     "showTitle": false,
     "title": ""
    },
    "colab": {
     "base_uri": "https://localhost:8080/"
    },
    "id": "5QjYLZ0MgJ1_",
    "outputId": "8bbbb07a-e156-4797-92fa-c4c33a9fbf62"
   },
   "outputs": [],
   "source": [
    "words \\\n",
    ".flatMap(lambda line: line.split(\" \")) \\\n",
    ".filter(lambda word: len(word) > 4) \\\n",
    ".map(lambda word: (word, 1)) \\\n",
    ".reduceByKey(lambda a, b: a + b) \\\n",
    ".map(lambda x: (x[1], x[0])) \\\n",
    ".sortByKey(False) \\\n",
    ".take(10)"
   ]
  },
  {
   "cell_type": "code",
   "execution_count": 0,
   "metadata": {
    "application/vnd.databricks.v1+cell": {
     "cellMetadata": {
      "byteLimit": 2048000,
      "rowLimit": 10000
     },
     "inputWidgets": {},
     "nuid": "14b27220-7b2a-4986-9a40-608ba34498bc",
     "showTitle": false,
     "title": ""
    },
    "colab": {
     "base_uri": "https://localhost:8080/"
    },
    "id": "47aWVH1K8X15",
    "outputId": "ed592106-da1f-470a-f32b-6c36ddf7cecb"
   },
   "outputs": [],
   "source": [
    "words \\\n",
    ".flatMap(lambda line: line.split(\" \")) \\\n",
    ".filter(lambda word: len(word) > 4) \\\n",
    ".map(lambda word: (word, 1)) \\\n",
    ".reduceByKey(lambda a, b: a + b) \\\n",
    ".top(10, key=lambda x: x[1])"
   ]
  },
  {
   "cell_type": "markdown",
   "metadata": {
    "application/vnd.databricks.v1+cell": {
     "cellMetadata": {
      "byteLimit": 2048000,
      "rowLimit": 10000
     },
     "inputWidgets": {},
     "nuid": "24ff67cf-ac08-4ed0-bef7-85d9e5a41008",
     "showTitle": false,
     "title": ""
    },
    "id": "6IqqLY6PRtGg"
   },
   "source": [
    "## Key/Value Pair RDD\n",
    "\n",
    "---\n",
    "\n"
   ]
  },
  {
   "cell_type": "markdown",
   "metadata": {
    "application/vnd.databricks.v1+cell": {
     "cellMetadata": {
      "byteLimit": 2048000,
      "rowLimit": 10000
     },
     "inputWidgets": {},
     "nuid": "58940f91-74e7-4487-99df-aa25bd00e2f4",
     "showTitle": false,
     "title": ""
    },
    "id": "Qq6NhwCXRl7n"
   },
   "source": [
    "### Example 6\n",
    "\n",
    "\n",
    "---\n",
    "\n"
   ]
  },
  {
   "cell_type": "code",
   "execution_count": 0,
   "metadata": {
    "application/vnd.databricks.v1+cell": {
     "cellMetadata": {
      "byteLimit": 2048000,
      "rowLimit": 10000
     },
     "inputWidgets": {},
     "nuid": "0b4f25ac-9e14-4c2d-a84e-f59c85d2a524",
     "showTitle": false,
     "title": ""
    },
    "colab": {
     "base_uri": "https://localhost:8080/"
    },
    "id": "R04SZu82R1ui",
    "outputId": "7e137bfc-74ce-4e30-fbb0-dc652ededfbf"
   },
   "outputs": [],
   "source": [
    "charac_sw = spark.sparkContext.textFile(\"file:/databricks/driver/characters.csv\")\n",
    "planets_sw = spark.sparkContext.textFile(\"file:/databricks/driver/planets.csv\")\n",
    "charac_sw.take(10)"
   ]
  },
  {
   "cell_type": "code",
   "execution_count": 0,
   "metadata": {
    "application/vnd.databricks.v1+cell": {
     "cellMetadata": {
      "byteLimit": 2048000,
      "rowLimit": 10000
     },
     "inputWidgets": {},
     "nuid": "52ca1b43-f126-4ceb-b09b-65346d3a21c2",
     "showTitle": false,
     "title": ""
    },
    "colab": {
     "base_uri": "https://localhost:8080/"
    },
    "id": "_fuMXUgnS_Rb",
    "outputId": "5badfc87-ce10-430d-f0b6-437e1465eaac"
   },
   "outputs": [],
   "source": [
    "planets_sw.take(10)"
   ]
  },
  {
   "cell_type": "code",
   "execution_count": 0,
   "metadata": {
    "application/vnd.databricks.v1+cell": {
     "cellMetadata": {
      "byteLimit": 2048000,
      "rowLimit": 10000
     },
     "inputWidgets": {},
     "nuid": "80d23e69-f588-4b47-bd98-6665a4b617f2",
     "showTitle": false,
     "title": ""
    },
    "id": "xbYKGuvxPiqb"
   },
   "outputs": [],
   "source": [
    "from itertools import islice\n",
    "\n",
    "charac_sw_noheader = charac_sw.mapPartitionsWithIndex(\n",
    "    lambda idx, it: islice(it, 1, None) if idx == 0 else it)\n",
    "\n",
    "planets_sw_noheader = planets_sw.mapPartitionsWithIndex(\n",
    "    lambda idx, it: islice(it, 1, None) if idx == 0 else it)"
   ]
  },
  {
   "cell_type": "markdown",
   "metadata": {
    "application/vnd.databricks.v1+cell": {
     "cellMetadata": {
      "byteLimit": 2048000,
      "rowLimit": 10000
     },
     "inputWidgets": {},
     "nuid": "7c392460-4652-4703-a7d8-16bdb8b384c2",
     "showTitle": false,
     "title": ""
    },
    "id": "m1BEEwqpTREy"
   },
   "source": [
    "### Exercise 5\n",
    "Get a list of the population of the planet each Star Wars character belongs to\n",
    "\n",
    "---\n"
   ]
  },
  {
   "cell_type": "code",
   "execution_count": 0,
   "metadata": {
    "application/vnd.databricks.v1+cell": {
     "cellMetadata": {
      "byteLimit": 2048000,
      "rowLimit": 10000
     },
     "inputWidgets": {},
     "nuid": "bb868927-af54-487e-bfef-9ccfff4376a2",
     "showTitle": false,
     "title": ""
    },
    "colab": {
     "base_uri": "https://localhost:8080/"
    },
    "id": "djKKpF55Npev",
    "outputId": "2a625110-5c0a-46e1-878d-57761f718262"
   },
   "outputs": [],
   "source": [
    "planets_sw_pair = planets_sw_noheader \\\n",
    ".map(lambda line: line.split(\";\")) \\\n",
    ".map(lambda x: (x[0], x[8]))\n",
    "\n",
    "\n",
    "characters_sw_pair = charac_sw_noheader \\\n",
    ".map(lambda line: line.split(\",\")) \\\n",
    ".map(lambda x: (x[8], x[0]))\n",
    "\n",
    "characters_sw_pair\\\n",
    ".join(planets_sw_pair)\\\n",
    ".map(lambda x: (x[0], x[1][0], x[1][1]))\\\n",
    ".distinct()\\\n",
    ".take(10)"
   ]
  },
  {
   "cell_type": "code",
   "execution_count": 0,
   "metadata": {
    "application/vnd.databricks.v1+cell": {
     "cellMetadata": {
      "byteLimit": 2048000,
      "rowLimit": 10000
     },
     "inputWidgets": {},
     "nuid": "d812d974-7847-4605-bbdc-938c96cb8cc9",
     "showTitle": false,
     "title": ""
    }
   },
   "outputs": [],
   "source": []
  }
 ],
 "metadata": {
  "application/vnd.databricks.v1+notebook": {
   "dashboards": [],
   "environmentMetadata": null,
   "language": "python",
   "notebookMetadata": {
    "mostRecentlyExecutedCommandWithImplicitDF": {
     "commandId": 1039563934419270,
     "dataframes": [
      "_sqldf"
     ]
    },
    "pythonIndentUnit": 2
   },
   "notebookName": "0.Spark Introduction - Solution",
   "widgets": {}
  },
  "colab": {
   "collapsed_sections": [
    "yzU_4EjAjZgh"
   ],
   "provenance": [],
   "toc_visible": true
  },
  "kernelspec": {
   "display_name": "Python 3",
   "name": "python3"
  }
 },
 "nbformat": 4,
 "nbformat_minor": 0
}
