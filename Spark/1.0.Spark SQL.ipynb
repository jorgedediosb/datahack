{
 "cells": [
  {
   "cell_type": "markdown",
   "metadata": {
    "application/vnd.databricks.v1+cell": {
     "cellMetadata": {},
     "inputWidgets": {},
     "nuid": "576a9d2b-8c1f-4f25-8550-54bdd0a35017",
     "showTitle": false,
     "title": ""
    },
    "id": "8Z0h3dF9Vg4X"
   },
   "source": [
    "# Download Datasets"
   ]
  },
  {
   "cell_type": "code",
   "execution_count": 0,
   "metadata": {
    "application/vnd.databricks.v1+cell": {
     "cellMetadata": {
      "byteLimit": 2048000,
      "rowLimit": 10000
     },
     "inputWidgets": {},
     "nuid": "04d6448e-63bb-4131-8bce-8e190f4beec5",
     "showTitle": false,
     "title": ""
    },
    "colab": {
     "base_uri": "https://localhost:8080/"
    },
    "id": "KBDin-0sXgyI",
    "outputId": "dba46cf4-b181-4fc7-bea4-c77d2060869d"
   },
   "outputs": [],
   "source": [
    "%sh \n",
    "curl -O 'https://raw.githubusercontent.com/masfworld/datahack_docker/master/zeppelin/data/bank.csv'\n",
    "curl -O 'https://raw.githubusercontent.com/masfworld/datahack_docker/master/zeppelin/data/vehicles.csv'\n",
    "curl -O 'https://raw.githubusercontent.com/masfworld/datahack_docker/master/zeppelin/data/characters.csv'\n",
    "curl -O 'https://raw.githubusercontent.com/masfworld/datahack_docker/master/zeppelin/data/netflix_titles.csv'"
   ]
  },
  {
   "cell_type": "code",
   "execution_count": 0,
   "metadata": {
    "application/vnd.databricks.v1+cell": {
     "cellMetadata": {
      "byteLimit": 2048000,
      "rowLimit": 10000
     },
     "inputWidgets": {},
     "nuid": "bfb8f40b-eba8-41f1-818c-6d335dc64ad5",
     "showTitle": false,
     "title": ""
    }
   },
   "outputs": [],
   "source": [
    "dbutils.fs.mkdirs(\"/dataset\")\n",
    "dbutils.fs.cp('file:/databricks/driver/bank.csv','dbfs:/dataset/bank.csv')\n",
    "dbutils.fs.cp('file:/databricks/driver/vehicles.csv','dbfs:/dataset/vehicles.csv')\n",
    "dbutils.fs.cp('file:/databricks/driver/characters.csv','dbfs:/dataset/characters.csv')\n",
    "dbutils.fs.cp('file:/databricks/driver/netflix_titles.csv','dbfs:/dataset/netflix_titles.csv')"
   ]
  },
  {
   "cell_type": "markdown",
   "metadata": {
    "application/vnd.databricks.v1+cell": {
     "cellMetadata": {},
     "inputWidgets": {},
     "nuid": "7c0298fa-3628-4079-a65c-cecc94070e11",
     "showTitle": false,
     "title": ""
    },
    "id": "02Zwm3NRXS_I"
   },
   "source": [
    "# Reading Data with Spark SQL\n",
    "\n",
    "---\n",
    "\n"
   ]
  },
  {
   "cell_type": "markdown",
   "metadata": {
    "application/vnd.databricks.v1+cell": {
     "cellMetadata": {},
     "inputWidgets": {},
     "nuid": "419cded8-0972-4574-ac64-e2baaa965cb5",
     "showTitle": false,
     "title": ""
    },
    "id": "h1o6f6QOjTcZ"
   },
   "source": [
    "## Example 1"
   ]
  },
  {
   "cell_type": "code",
   "execution_count": 0,
   "metadata": {
    "application/vnd.databricks.v1+cell": {
     "cellMetadata": {
      "byteLimit": 2048000,
      "rowLimit": 10000
     },
     "inputWidgets": {},
     "nuid": "7ce40478-7679-4705-957d-59bffd0122aa",
     "showTitle": false,
     "title": ""
    },
    "colab": {
     "base_uri": "https://localhost:8080/"
    },
    "id": "USrsDETtstv-",
    "outputId": "492cc356-f598-4c18-b3bd-50efd5a1a13a"
   },
   "outputs": [],
   "source": [
    "dbutils.fs.head('/dataset/bank.csv')"
   ]
  },
  {
   "cell_type": "markdown",
   "metadata": {
    "application/vnd.databricks.v1+cell": {
     "cellMetadata": {},
     "inputWidgets": {},
     "nuid": "60dcad51-407e-47dd-8d8e-c7621735e1fd",
     "showTitle": false,
     "title": ""
    },
    "id": "yjPpxRyJYA1h"
   },
   "source": [
    "Converting a RDD to a DataFrame"
   ]
  },
  {
   "cell_type": "code",
   "execution_count": 0,
   "metadata": {
    "application/vnd.databricks.v1+cell": {
     "cellMetadata": {
      "byteLimit": 2048000,
      "rowLimit": 10000
     },
     "inputWidgets": {},
     "nuid": "1e89cd63-b80b-4a55-89ae-48ec5f2e7a45",
     "showTitle": false,
     "title": ""
    },
    "id": "HnbafeFCVk8d"
   },
   "outputs": [],
   "source": [
    "from pyspark.sql.types import Row\n",
    "from pyspark.sql.functions import *\n",
    "\n",
    "bankText = spark.sparkContext.textFile(\"file:/databricks/driver/bank.csv\")\n",
    "\n",
    "bank = bankText.map(lambda lineaCsv: lineaCsv.split(\";\"))\\\n",
    ".filter(lambda s: s[0] != \"\\\"age\\\"\") \\\n",
    ".map(lambda row: Row(int(row[0]), row[1].replace(\"\\\"\", \"\"), row[2].replace(\"\\\"\", \"\"), row[3].replace(\"\\\"\", \"\"), row[5].replace(\"\\\"\", \"\"))) \\\n",
    ".toDF([\"age\", \"job\", \"marital\", \"education\", \"balance\"]) \\\n",
    ".withColumn(\"age\", col(\"age\").cast(\"float\"))"
   ]
  },
  {
   "cell_type": "code",
   "execution_count": 0,
   "metadata": {
    "application/vnd.databricks.v1+cell": {
     "cellMetadata": {
      "byteLimit": 2048000,
      "rowLimit": 10000
     },
     "inputWidgets": {},
     "nuid": "e5fbd76c-fdb2-4b01-9dc9-7add875c509a",
     "showTitle": false,
     "title": ""
    }
   },
   "outputs": [],
   "source": [
    "bank"
   ]
  },
  {
   "cell_type": "code",
   "execution_count": 0,
   "metadata": {
    "application/vnd.databricks.v1+cell": {
     "cellMetadata": {
      "byteLimit": 2048000,
      "rowLimit": 10000
     },
     "inputWidgets": {},
     "nuid": "3f388699-2298-4a0f-8447-2bf2b4ff4efe",
     "showTitle": false,
     "title": ""
    },
    "colab": {
     "base_uri": "https://localhost:8080/"
    },
    "id": "I7kQm1A5q00M",
    "outputId": "f54f1e03-a14d-482d-ba3c-9bd2f4452fbe"
   },
   "outputs": [],
   "source": [
    "bank.createOrReplaceTempView(\"bank_table\")"
   ]
  },
  {
   "cell_type": "code",
   "execution_count": 0,
   "metadata": {
    "application/vnd.databricks.v1+cell": {
     "cellMetadata": {
      "byteLimit": 2048000,
      "implicitDf": true,
      "rowLimit": 10000
     },
     "inputWidgets": {},
     "nuid": "0829b9d5-e261-4315-928a-e60827bef2a4",
     "showTitle": false,
     "title": ""
    }
   },
   "outputs": [],
   "source": [
    "%sql\n",
    "SELECT *\n",
    "FROM BANK_TABLE"
   ]
  },
  {
   "cell_type": "code",
   "execution_count": 0,
   "metadata": {
    "application/vnd.databricks.v1+cell": {
     "cellMetadata": {
      "byteLimit": 2048000,
      "rowLimit": 10000
     },
     "inputWidgets": {},
     "nuid": "4006c2c4-9380-4962-ba55-3afc52193c00",
     "showTitle": false,
     "title": ""
    },
    "colab": {
     "base_uri": "https://localhost:8080/"
    },
    "id": "GE6JMclKbbkw",
    "outputId": "a910a9a3-2b1a-4592-a80a-e1f4518df039"
   },
   "outputs": [],
   "source": [
    "\n",
    "from pyspark.sql.functions import *\n",
    "\n",
    "bank_grouped = bank\\\n",
    ".groupBy(bank.marital) \\\n",
    ".agg({\"balance\": \"avg\"}) \\\n",
    ".select(\"marital\", col(\"avg(balance)\").alias(\"balance_avg\")) \\\n",
    ".orderBy(col(\"balance_avg\").desc())\n"
   ]
  },
  {
   "cell_type": "code",
   "execution_count": 0,
   "metadata": {
    "application/vnd.databricks.v1+cell": {
     "cellMetadata": {
      "byteLimit": 2048000,
      "implicitDf": true,
      "rowLimit": 10000
     },
     "inputWidgets": {},
     "nuid": "0c23e711-cc5b-43d9-9f28-8549e7dc7980",
     "showTitle": false,
     "title": ""
    },
    "colab": {
     "base_uri": "https://localhost:8080/"
    },
    "id": "tTy8ySNSpgpN",
    "outputId": "ec818dff-b754-4eb0-8f22-1c22886c740a"
   },
   "outputs": [],
   "source": [
    "%sql\n",
    "SELECT marital, avg(balance) as balance_avg \n",
    "FROM bank_table \n",
    "WHERE\n",
    "GROUP BY marital"
   ]
  },
  {
   "cell_type": "markdown",
   "metadata": {
    "application/vnd.databricks.v1+cell": {
     "cellMetadata": {},
     "inputWidgets": {},
     "nuid": "22806023-dda1-42c4-b066-3b631e7d564d",
     "showTitle": false,
     "title": ""
    },
    "id": "yzU_4EjAjZgh"
   },
   "source": [
    "## Example 2"
   ]
  },
  {
   "cell_type": "markdown",
   "metadata": {
    "application/vnd.databricks.v1+cell": {
     "cellMetadata": {},
     "inputWidgets": {},
     "nuid": "779ac5d1-5ccc-4c7a-a1d7-d800795f94db",
     "showTitle": false,
     "title": ""
    },
    "id": "sV-NchsMsHvF"
   },
   "source": [
    "Loading a CSV file as RDD, converting into a DataFrame, applying a specific schema using the method `createDataFrame`"
   ]
  },
  {
   "cell_type": "code",
   "execution_count": 0,
   "metadata": {
    "application/vnd.databricks.v1+cell": {
     "cellMetadata": {
      "byteLimit": 2048000,
      "rowLimit": 10000
     },
     "inputWidgets": {},
     "nuid": "5bb12764-d901-4831-9e70-e133849bec91",
     "showTitle": false,
     "title": ""
    },
    "colab": {
     "base_uri": "https://localhost:8080/"
    },
    "id": "SgireGq6YWEj",
    "outputId": "3bb6f985-f86c-45d7-e9ec-7abeac7be741"
   },
   "outputs": [],
   "source": [
    "from pyspark.sql.types import *\n",
    "\n",
    "bankSchema = StructType([\n",
    "    StructField(\"age\", IntegerType(), False), \n",
    "    StructField(\"job\", StringType(), False),\n",
    "    StructField(\"marital\", StringType(), False),\n",
    "    StructField(\"education\", StringType(), False),\n",
    "    StructField(\"balance\", IntegerType(), False)])\n",
    "\n",
    "bankText = spark.sparkContext.textFile(\"file:/databricks/driver/bank.csv\")\n",
    "\n",
    "bank = bankText\\\n",
    ".map(lambda s: s.split(\";\")).filter(lambda s: s[0] != \"\\\"age\\\"\")\\\n",
    ".map(lambda s:(int(s[0]), str(s[1]).replace(\"\\\"\", \"\"), str(s[2]).replace(\"\\\"\", \"\"), str(s[3]).replace(\"\\\"\", \"\"), int(s[5]) ))\n",
    "\n",
    "bankdf = spark.createDataFrame(bank, bankSchema)\n",
    "bankdf.createOrReplaceTempView(\"bank2\")"
   ]
  },
  {
   "cell_type": "code",
   "execution_count": 0,
   "metadata": {
    "application/vnd.databricks.v1+cell": {
     "cellMetadata": {
      "byteLimit": 2048000,
      "implicitDf": true,
      "rowLimit": 10000
     },
     "inputWidgets": {},
     "nuid": "b79a913a-e5ef-4e5e-a765-49ada4696f64",
     "showTitle": false,
     "title": ""
    },
    "colab": {
     "base_uri": "https://localhost:8080/"
    },
    "id": "tTSxYSiqtwum",
    "outputId": "1d2f6009-f0fd-4e60-a284-762ef7dce50b"
   },
   "outputs": [],
   "source": [
    "%sql\n",
    "SELECT * \n",
    "FROM bank2 \n",
    "LIMIT 10"
   ]
  },
  {
   "cell_type": "markdown",
   "metadata": {
    "application/vnd.databricks.v1+cell": {
     "cellMetadata": {},
     "inputWidgets": {},
     "nuid": "daca6eda-1eb7-4f5e-977b-1844f08c0034",
     "showTitle": false,
     "title": ""
    },
    "id": "bX0FXU7JawRm"
   },
   "source": [
    "## Exercise 1\n",
    "Load file `vehicles.csv` to a DataFrame, showing the content and printing the schema.\n",
    "\n",
    "Use this [documentation](https://spark.apache.org/docs/latest/sql-data-sources-load-save-functions.html) to read data in a DataFrame\n",
    "\n",
    "---\n",
    "\n"
   ]
  },
  {
   "cell_type": "code",
   "execution_count": 0,
   "metadata": {
    "application/vnd.databricks.v1+cell": {
     "cellMetadata": {
      "byteLimit": 2048000,
      "rowLimit": 10000
     },
     "inputWidgets": {},
     "nuid": "1d6a0934-1081-431b-9f4d-d1b1a35c6cdc",
     "showTitle": false,
     "title": ""
    },
    "colab": {
     "base_uri": "https://localhost:8080/"
    },
    "id": "eYPt59chwJUw",
    "outputId": "328fe2d5-7f95-422f-f797-413266fc9c99"
   },
   "outputs": [],
   "source": [
    "dbutils.fs.head('/dataset/vehicles.csv')"
   ]
  },
  {
   "cell_type": "code",
   "execution_count": 0,
   "metadata": {
    "application/vnd.databricks.v1+cell": {
     "cellMetadata": {
      "byteLimit": 2048000,
      "rowLimit": 10000
     },
     "inputWidgets": {},
     "nuid": "df8c571e-37b9-4db4-bc05-930d17aa49d1",
     "showTitle": false,
     "title": ""
    }
   },
   "outputs": [],
   "source": []
  },
  {
   "cell_type": "markdown",
   "metadata": {
    "application/vnd.databricks.v1+cell": {
     "cellMetadata": {},
     "inputWidgets": {},
     "nuid": "9810417b-e1bd-45f6-b20c-e735a3a8ab9d",
     "showTitle": false,
     "title": ""
    },
    "id": "vCDfqm_UxUcn"
   },
   "source": [
    "Filter out the previous DafaFrame to get vehicles where the capacity is greater than `70`\n",
    "\n",
    "---\n",
    "\n"
   ]
  },
  {
   "cell_type": "code",
   "execution_count": 0,
   "metadata": {
    "application/vnd.databricks.v1+cell": {
     "cellMetadata": {},
     "inputWidgets": {},
     "nuid": "1dfaa7ff-5ab2-4282-a9f0-24f060e31100",
     "showTitle": false,
     "title": ""
    },
    "colab": {
     "base_uri": "https://localhost:8080/"
    },
    "id": "-IdhtILfwmSF",
    "outputId": "707f965e-d5cc-45b1-83ee-ba28e0141ebc"
   },
   "outputs": [],
   "source": []
  },
  {
   "cell_type": "markdown",
   "metadata": {
    "application/vnd.databricks.v1+cell": {
     "cellMetadata": {},
     "inputWidgets": {},
     "nuid": "b30d8f4c-9f86-4d7d-a245-e377644a29af",
     "showTitle": false,
     "title": ""
    },
    "id": "8GUV9KLzqR-4"
   },
   "source": [
    "# Spark SQL. Aggregation Functions"
   ]
  },
  {
   "cell_type": "markdown",
   "metadata": {
    "application/vnd.databricks.v1+cell": {
     "cellMetadata": {},
     "inputWidgets": {},
     "nuid": "07a4a985-393f-4172-b899-8f5cecc7b9fe",
     "showTitle": false,
     "title": ""
    },
    "id": "BbMEyQFOqVnQ"
   },
   "source": [
    "Useful Links:\n",
    "\n",
    "https://spark.apache.org/docs/latest/api/python/\n"
   ]
  },
  {
   "cell_type": "markdown",
   "metadata": {
    "application/vnd.databricks.v1+cell": {
     "cellMetadata": {},
     "inputWidgets": {},
     "nuid": "95f2e99c-8d62-4d62-9e4f-b461a219de18",
     "showTitle": false,
     "title": ""
    },
    "id": "tZw41ki6kc3p"
   },
   "source": [
    "## Exercise 2"
   ]
  },
  {
   "cell_type": "markdown",
   "metadata": {
    "application/vnd.databricks.v1+cell": {
     "cellMetadata": {},
     "inputWidgets": {},
     "nuid": "058ef184-7588-46c2-b32c-8af5cac1640a",
     "showTitle": false,
     "title": ""
    },
    "id": "YAzx5B5IkVeP"
   },
   "source": [
    "Using the DataFrame with all vehicles loaded in Exercise 1, get the average of passengers by vehicle class\n",
    "\n",
    "\n",
    "---\n",
    "\n",
    "\n"
   ]
  },
  {
   "cell_type": "code",
   "execution_count": 0,
   "metadata": {
    "application/vnd.databricks.v1+cell": {
     "cellMetadata": {},
     "inputWidgets": {},
     "nuid": "076bb6af-7d06-4ee4-9cc6-74895f20b0ae",
     "showTitle": false,
     "title": ""
    },
    "colab": {
     "base_uri": "https://localhost:8080/"
    },
    "id": "SIKCDk4mx0ep",
    "outputId": "71e77025-b69b-46c5-c2d2-a0c8e4e05816"
   },
   "outputs": [],
   "source": []
  },
  {
   "cell_type": "markdown",
   "metadata": {
    "application/vnd.databricks.v1+cell": {
     "cellMetadata": {},
     "inputWidgets": {},
     "nuid": "1bf45e3f-43fe-4979-9802-6ad2837ac8b7",
     "showTitle": false,
     "title": ""
    },
    "id": "HSEBVnVQlU52"
   },
   "source": [
    "## Exercise 3"
   ]
  },
  {
   "cell_type": "markdown",
   "metadata": {
    "application/vnd.databricks.v1+cell": {
     "cellMetadata": {},
     "inputWidgets": {},
     "nuid": "473e5dc1-2664-41fd-aa48-eb843a6348f5",
     "showTitle": false,
     "title": ""
    },
    "id": "JF4fyAaMlXsI"
   },
   "source": [
    "Load the file `characters.csv` getting the most common eye color among all characters\n",
    "\n",
    "---"
   ]
  },
  {
   "cell_type": "code",
   "execution_count": 0,
   "metadata": {
    "application/vnd.databricks.v1+cell": {
     "cellMetadata": {
      "byteLimit": 2048000,
      "rowLimit": 10000
     },
     "inputWidgets": {},
     "nuid": "755ab71f-dadf-4591-8c62-25b6483e5c9e",
     "showTitle": false,
     "title": ""
    },
    "colab": {
     "base_uri": "https://localhost:8080/"
    },
    "id": "qKlZCm8Hl0tg",
    "outputId": "71bb883e-4797-41de-bb15-c0ae5b707a36"
   },
   "outputs": [],
   "source": [
    "dbutils.fs.head(\"/dataset/characters.csv\")"
   ]
  },
  {
   "cell_type": "code",
   "execution_count": 0,
   "metadata": {
    "application/vnd.databricks.v1+cell": {
     "cellMetadata": {
      "byteLimit": 2048000,
      "rowLimit": 10000
     },
     "inputWidgets": {},
     "nuid": "33972d3f-5ac8-47f6-83d3-c4fe59e82f11",
     "showTitle": false,
     "title": ""
    }
   },
   "outputs": [],
   "source": []
  },
  {
   "cell_type": "markdown",
   "metadata": {
    "application/vnd.databricks.v1+cell": {
     "cellMetadata": {},
     "inputWidgets": {},
     "nuid": "92bf8342-a9ae-45ce-bea4-d398ec0e4f8a",
     "showTitle": false,
     "title": ""
    },
    "id": "yT-AFIMvm43z"
   },
   "source": [
    "## Exercise 4"
   ]
  },
  {
   "cell_type": "markdown",
   "metadata": {
    "application/vnd.databricks.v1+cell": {
     "cellMetadata": {},
     "inputWidgets": {},
     "nuid": "1f766a96-0467-45fb-9424-4fb406e4216a",
     "showTitle": false,
     "title": ""
    },
    "id": "C9UBVU6ym9ue"
   },
   "source": [
    "1. Load characters DataFrame into a temporary table\n",
    "2. Using SQL, get the number of characters by gender\n",
    "\n",
    "\n",
    "---\n",
    "\n"
   ]
  },
  {
   "cell_type": "code",
   "execution_count": 0,
   "metadata": {
    "application/vnd.databricks.v1+cell": {
     "cellMetadata": {
      "byteLimit": 2048000,
      "rowLimit": 10000
     },
     "inputWidgets": {},
     "nuid": "94aea0c6-0d12-422a-b568-e84f9689f3f5",
     "showTitle": false,
     "title": ""
    }
   },
   "outputs": [],
   "source": []
  },
  {
   "cell_type": "markdown",
   "metadata": {
    "application/vnd.databricks.v1+cell": {
     "cellMetadata": {},
     "inputWidgets": {},
     "nuid": "2ce54831-8517-4462-9729-abc7e9d4ea1b",
     "showTitle": false,
     "title": ""
    },
    "id": "tv0AmHi926F7"
   },
   "source": [
    "## Exercise 5"
   ]
  },
  {
   "cell_type": "markdown",
   "metadata": {
    "application/vnd.databricks.v1+cell": {
     "cellMetadata": {},
     "inputWidgets": {},
     "nuid": "a1ad727a-2339-4cde-b043-6c4073f21572",
     "showTitle": false,
     "title": ""
    },
    "id": "WR6FPU3b29TP"
   },
   "source": [
    "Load `netflix_titles.csv` file in a DataFrame, printing the schema\n",
    "\n",
    "---\n",
    "\n"
   ]
  },
  {
   "cell_type": "code",
   "execution_count": 0,
   "metadata": {
    "application/vnd.databricks.v1+cell": {
     "cellMetadata": {
      "byteLimit": 2048000,
      "rowLimit": 10000
     },
     "inputWidgets": {},
     "nuid": "9d592b26-eedf-4986-a98f-2f404fd75688",
     "showTitle": false,
     "title": ""
    },
    "colab": {
     "base_uri": "https://localhost:8080/"
    },
    "id": "5zyuYbll3UrI",
    "outputId": "3b6ed46e-4aac-40ec-8f56-6b0aa24aa125"
   },
   "outputs": [],
   "source": [
    "dbutils.fs.head('/dataset/netflix_titles.csv')"
   ]
  },
  {
   "cell_type": "code",
   "execution_count": 0,
   "metadata": {
    "application/vnd.databricks.v1+cell": {
     "cellMetadata": {
      "byteLimit": 2048000,
      "implicitDf": true,
      "rowLimit": 10000
     },
     "inputWidgets": {},
     "nuid": "461f85ad-6a63-41da-8265-8fce891ce1a4",
     "showTitle": false,
     "title": ""
    }
   },
   "outputs": [],
   "source": []
  },
  {
   "cell_type": "markdown",
   "metadata": {
    "application/vnd.databricks.v1+cell": {
     "cellMetadata": {},
     "inputWidgets": {},
     "nuid": "400fd89e-01fe-455d-9bb7-3621336ee5c5",
     "showTitle": false,
     "title": ""
    },
    "id": "xG81SgpY4P3t"
   },
   "source": [
    "## Exercise 6"
   ]
  },
  {
   "cell_type": "markdown",
   "metadata": {
    "application/vnd.databricks.v1+cell": {
     "cellMetadata": {},
     "inputWidgets": {},
     "nuid": "812c06a9-255e-4088-b64d-3107ee7b987b",
     "showTitle": false,
     "title": ""
    },
    "id": "56fGSsmt4adO"
   },
   "source": [
    "Get the year in which most films were added(No TV Shows). Use a UDF to get the year\n",
    "\n",
    "---\n",
    "\n"
   ]
  },
  {
   "cell_type": "code",
   "execution_count": 0,
   "metadata": {
    "application/vnd.databricks.v1+cell": {
     "cellMetadata": {
      "byteLimit": 2048000,
      "rowLimit": 10000
     },
     "inputWidgets": {},
     "nuid": "df576376-86c5-4c1e-a44d-42a70c36b539",
     "showTitle": false,
     "title": ""
    }
   },
   "outputs": [],
   "source": []
  },
  {
   "cell_type": "markdown",
   "metadata": {
    "application/vnd.databricks.v1+cell": {
     "cellMetadata": {},
     "inputWidgets": {},
     "nuid": "90298cc1-7f55-43ed-80ef-edb9d04e2d5c",
     "showTitle": false,
     "title": ""
    },
    "id": "O-x3YiOI0zNc"
   },
   "source": [
    "## Exercise 7\n",
    "\n",
    "---\n",
    "Using Dataframe API, split `characters.csv` in 3 different csv in dbfs"
   ]
  },
  {
   "cell_type": "code",
   "execution_count": 0,
   "metadata": {
    "application/vnd.databricks.v1+cell": {
     "cellMetadata": {},
     "inputWidgets": {},
     "nuid": "c4435ac1-440e-43df-b0b1-57146e7f2a1d",
     "showTitle": false,
     "title": ""
    },
    "id": "lozH0Yj413YA"
   },
   "outputs": [],
   "source": []
  }
 ],
 "metadata": {
  "application/vnd.databricks.v1+notebook": {
   "dashboards": [
    {
     "elements": [],
     "globalVars": {},
     "guid": "",
     "layoutOption": {
      "grid": true,
      "stack": true
     },
     "nuid": "b570e2b7-67bc-4222-9834-fcb354a4f933",
     "origId": 1039563934418965,
     "title": "Untitled",
     "version": "DashboardViewV1",
     "width": 1024
    }
   ],
   "environmentMetadata": null,
   "language": "python",
   "notebookMetadata": {
    "mostRecentlyExecutedCommandWithImplicitDF": {
     "commandId": 1175301913630823,
     "dataframes": [
      "_sqldf"
     ]
    },
    "pythonIndentUnit": 2
   },
   "notebookName": "1.0.Spark SQL",
   "widgets": {}
  },
  "colab": {
   "collapsed_sections": [
    "Jq9d0x1OTh2N",
    "8Z0h3dF9Vg4X"
   ],
   "provenance": [],
   "toc_visible": true
  },
  "kernelspec": {
   "display_name": "Python 3",
   "name": "python3"
  }
 },
 "nbformat": 4,
 "nbformat_minor": 0
}
