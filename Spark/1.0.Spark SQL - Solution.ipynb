{
 "cells": [
  {
   "cell_type": "markdown",
   "metadata": {
    "application/vnd.databricks.v1+cell": {
     "cellMetadata": {},
     "inputWidgets": {},
     "nuid": "576a9d2b-8c1f-4f25-8550-54bdd0a35017",
     "showTitle": false,
     "title": ""
    },
    "id": "8Z0h3dF9Vg4X"
   },
   "source": [
    "# Download Datasets"
   ]
  },
  {
   "cell_type": "code",
   "execution_count": 0,
   "metadata": {
    "application/vnd.databricks.v1+cell": {
     "cellMetadata": {},
     "inputWidgets": {},
     "nuid": "04d6448e-63bb-4131-8bce-8e190f4beec5",
     "showTitle": false,
     "title": ""
    },
    "colab": {
     "base_uri": "https://localhost:8080/"
    },
    "id": "KBDin-0sXgyI",
    "outputId": "dba46cf4-b181-4fc7-bea4-c77d2060869d"
   },
   "outputs": [],
   "source": [
    "%sh \n",
    "curl -O 'https://raw.githubusercontent.com/masfworld/datahack_docker/master/zeppelin/data/bank.csv'\n",
    "curl -O 'https://raw.githubusercontent.com/masfworld/datahack_docker/master/zeppelin/data/vehicles.csv'\n",
    "curl -O 'https://raw.githubusercontent.com/masfworld/datahack_docker/master/zeppelin/data/characters.csv'\n",
    "curl -O 'https://raw.githubusercontent.com/masfworld/datahack_docker/master/zeppelin/data/netflix_titles.csv'"
   ]
  },
  {
   "cell_type": "code",
   "execution_count": 0,
   "metadata": {
    "application/vnd.databricks.v1+cell": {
     "cellMetadata": {},
     "inputWidgets": {},
     "nuid": "bfb8f40b-eba8-41f1-818c-6d335dc64ad5",
     "showTitle": false,
     "title": ""
    }
   },
   "outputs": [],
   "source": [
    "dbutils.fs.mkdirs(\"/dataset\")\n",
    "dbutils.fs.cp('file:/databricks/driver/bank.csv','dbfs:/dataset/bank.csv')\n",
    "dbutils.fs.cp('file:/databricks/driver/vehicles.csv','dbfs:/dataset/vehicles.csv')\n",
    "dbutils.fs.cp('file:/databricks/driver/characters.csv','dbfs:/dataset/characters.csv')\n",
    "dbutils.fs.cp('file:/databricks/driver/netflix_titles.csv','dbfs:/dataset/netflix_titles.csv')"
   ]
  },
  {
   "cell_type": "markdown",
   "metadata": {
    "application/vnd.databricks.v1+cell": {
     "cellMetadata": {},
     "inputWidgets": {},
     "nuid": "7c0298fa-3628-4079-a65c-cecc94070e11",
     "showTitle": false,
     "title": ""
    },
    "id": "02Zwm3NRXS_I"
   },
   "source": [
    "# Reading Data with Spark SQL\n",
    "\n",
    "---\n",
    "\n"
   ]
  },
  {
   "cell_type": "markdown",
   "metadata": {
    "application/vnd.databricks.v1+cell": {
     "cellMetadata": {},
     "inputWidgets": {},
     "nuid": "419cded8-0972-4574-ac64-e2baaa965cb5",
     "showTitle": false,
     "title": ""
    },
    "id": "h1o6f6QOjTcZ"
   },
   "source": [
    "## Example 1"
   ]
  },
  {
   "cell_type": "code",
   "execution_count": 0,
   "metadata": {
    "application/vnd.databricks.v1+cell": {
     "cellMetadata": {},
     "inputWidgets": {},
     "nuid": "7ce40478-7679-4705-957d-59bffd0122aa",
     "showTitle": false,
     "title": ""
    },
    "colab": {
     "base_uri": "https://localhost:8080/"
    },
    "id": "USrsDETtstv-",
    "outputId": "492cc356-f598-4c18-b3bd-50efd5a1a13a"
   },
   "outputs": [],
   "source": [
    "dbutils.fs.head('/dataset/bank.csv')"
   ]
  },
  {
   "cell_type": "markdown",
   "metadata": {
    "application/vnd.databricks.v1+cell": {
     "cellMetadata": {},
     "inputWidgets": {},
     "nuid": "60dcad51-407e-47dd-8d8e-c7621735e1fd",
     "showTitle": false,
     "title": ""
    },
    "id": "yjPpxRyJYA1h"
   },
   "source": [
    "Converting a RDD to a DataFrame"
   ]
  },
  {
   "cell_type": "code",
   "execution_count": 0,
   "metadata": {
    "application/vnd.databricks.v1+cell": {
     "cellMetadata": {},
     "inputWidgets": {},
     "nuid": "1e89cd63-b80b-4a55-89ae-48ec5f2e7a45",
     "showTitle": false,
     "title": ""
    },
    "id": "HnbafeFCVk8d"
   },
   "outputs": [],
   "source": [
    "from pyspark.sql.types import Row\n",
    "from pyspark.sql.functions import *\n",
    "\n",
    "bankText = spark.sparkContext.textFile(\"file:/databricks/driver/bank.csv\")\n",
    "\n",
    "bank = bankText.map(lambda lineaCsv: lineaCsv.split(\";\"))\\\n",
    ".filter(lambda s: s[0] != \"\\\"age\\\"\") \\\n",
    ".map(lambda row: Row(int(row[0]), row[1].replace(\"\\\"\", \"\"), row[2].replace(\"\\\"\", \"\"), row[3].replace(\"\\\"\", \"\"), row[5].replace(\"\\\"\", \"\"))) \\\n",
    ".toDF([\"age\", \"job\", \"marital\", \"education\", \"balance\"]) \\\n",
    ".withColumn(\"age\", col(\"age\").cast(\"int\"))"
   ]
  },
  {
   "cell_type": "code",
   "execution_count": 0,
   "metadata": {
    "application/vnd.databricks.v1+cell": {
     "cellMetadata": {},
     "inputWidgets": {},
     "nuid": "be3e0228-b083-4848-b466-07161dbd842b",
     "showTitle": false,
     "title": ""
    },
    "colab": {
     "base_uri": "https://localhost:8080/"
    },
    "id": "3BEWmhhYqxp8",
    "outputId": "8856ebd5-b782-4a63-ce94-0a1e263228f6"
   },
   "outputs": [],
   "source": [
    "bank.printSchema()"
   ]
  },
  {
   "cell_type": "code",
   "execution_count": 0,
   "metadata": {
    "application/vnd.databricks.v1+cell": {
     "cellMetadata": {},
     "inputWidgets": {},
     "nuid": "3f388699-2298-4a0f-8447-2bf2b4ff4efe",
     "showTitle": false,
     "title": ""
    },
    "colab": {
     "base_uri": "https://localhost:8080/"
    },
    "id": "I7kQm1A5q00M",
    "outputId": "f54f1e03-a14d-482d-ba3c-9bd2f4452fbe"
   },
   "outputs": [],
   "source": [
    "bank.createOrReplaceTempView(\"bank\")"
   ]
  },
  {
   "cell_type": "code",
   "execution_count": 0,
   "metadata": {
    "application/vnd.databricks.v1+cell": {
     "cellMetadata": {},
     "inputWidgets": {},
     "nuid": "4006c2c4-9380-4962-ba55-3afc52193c00",
     "showTitle": false,
     "title": ""
    },
    "colab": {
     "base_uri": "https://localhost:8080/"
    },
    "id": "GE6JMclKbbkw",
    "outputId": "a910a9a3-2b1a-4592-a80a-e1f4518df039"
   },
   "outputs": [],
   "source": [
    "\n",
    "from pyspark.sql.functions import *\n",
    "\n",
    "bank_grouped = bank\\\n",
    ".groupBy(bank.marital) \\\n",
    ".agg({\"balance\": \"avg\"}) \\\n",
    ".select(\"marital\", col(\"avg(balance)\").alias(\"balance_avg\")) \\\n",
    ".orderBy(col(\"balance_avg\").desc())\\\n",
    "\n",
    "bank_grouped.display()\n"
   ]
  },
  {
   "cell_type": "code",
   "execution_count": 0,
   "metadata": {
    "application/vnd.databricks.v1+cell": {
     "cellMetadata": {},
     "inputWidgets": {},
     "nuid": "0ba155be-10fb-4d8c-b78a-d596fed74550",
     "showTitle": false,
     "title": ""
    },
    "colab": {
     "base_uri": "https://localhost:8080/",
     "height": 154
    },
    "id": "QQ1vduJ45VtS",
    "outputId": "a5292282-8c70-40f7-a5c2-dd6e8885a9f0"
   },
   "outputs": [],
   "source": [
    "bank_grouped.toPandas()"
   ]
  },
  {
   "cell_type": "code",
   "execution_count": 0,
   "metadata": {
    "application/vnd.databricks.v1+cell": {
     "cellMetadata": {},
     "inputWidgets": {},
     "nuid": "0c23e711-cc5b-43d9-9f28-8549e7dc7980",
     "showTitle": false,
     "title": ""
    },
    "colab": {
     "base_uri": "https://localhost:8080/"
    },
    "id": "tTy8ySNSpgpN",
    "outputId": "ec818dff-b754-4eb0-8f22-1c22886c740a"
   },
   "outputs": [],
   "source": [
    "%sql\n",
    "SELECT marital, avg(balance) as balance_avg \n",
    "FROM bank \n",
    "GROUP BY marital"
   ]
  },
  {
   "cell_type": "markdown",
   "metadata": {
    "application/vnd.databricks.v1+cell": {
     "cellMetadata": {},
     "inputWidgets": {},
     "nuid": "22806023-dda1-42c4-b066-3b631e7d564d",
     "showTitle": false,
     "title": ""
    },
    "id": "yzU_4EjAjZgh"
   },
   "source": [
    "## Example 2"
   ]
  },
  {
   "cell_type": "markdown",
   "metadata": {
    "application/vnd.databricks.v1+cell": {
     "cellMetadata": {},
     "inputWidgets": {},
     "nuid": "779ac5d1-5ccc-4c7a-a1d7-d800795f94db",
     "showTitle": false,
     "title": ""
    },
    "id": "sV-NchsMsHvF"
   },
   "source": [
    "Loading a CSV file as RDD, converting into a DataFrame, applying a specific schema using the method `createDataFrame`"
   ]
  },
  {
   "cell_type": "code",
   "execution_count": 0,
   "metadata": {
    "application/vnd.databricks.v1+cell": {
     "cellMetadata": {},
     "inputWidgets": {},
     "nuid": "5bb12764-d901-4831-9e70-e133849bec91",
     "showTitle": false,
     "title": ""
    },
    "colab": {
     "base_uri": "https://localhost:8080/"
    },
    "id": "SgireGq6YWEj",
    "outputId": "3bb6f985-f86c-45d7-e9ec-7abeac7be741"
   },
   "outputs": [],
   "source": [
    "from pyspark.sql.types import *\n",
    "\n",
    "bankSchema = StructType([\n",
    "    StructField(\"age\", IntegerType(), False), \n",
    "    StructField(\"job\", StringType(), False),\n",
    "    StructField(\"marital\", StringType(), False),\n",
    "    StructField(\"education\", StringType(), False),\n",
    "    StructField(\"balance\", IntegerType(), False)])\n",
    "\n",
    "bankText = spark.sparkContext.textFile(\"file:/databricks/driver/bank.csv\")\n",
    "\n",
    "bank = bankText\\\n",
    ".map(lambda s: s.split(\";\")).filter(lambda s: s[0] != \"\\\"age\\\"\")\\\n",
    ".map(lambda s:(int(s[0]), str(s[1]).replace(\"\\\"\", \"\"), str(s[2]).replace(\"\\\"\", \"\"), str(s[3]).replace(\"\\\"\", \"\"), int(s[5]) ))\n",
    "\n",
    "bankdf = spark.createDataFrame(bank, bankSchema)\n",
    "bankdf.createOrReplaceTempView(\"bank2\")"
   ]
  },
  {
   "cell_type": "code",
   "execution_count": 0,
   "metadata": {
    "application/vnd.databricks.v1+cell": {
     "cellMetadata": {},
     "inputWidgets": {},
     "nuid": "b79a913a-e5ef-4e5e-a765-49ada4696f64",
     "showTitle": false,
     "title": ""
    },
    "colab": {
     "base_uri": "https://localhost:8080/"
    },
    "id": "tTSxYSiqtwum",
    "outputId": "1d2f6009-f0fd-4e60-a284-762ef7dce50b"
   },
   "outputs": [],
   "source": [
    "%sql\n",
    "SELECT * \n",
    "FROM bank2 \n",
    "LIMIT 10"
   ]
  },
  {
   "cell_type": "markdown",
   "metadata": {
    "application/vnd.databricks.v1+cell": {
     "cellMetadata": {},
     "inputWidgets": {},
     "nuid": "daca6eda-1eb7-4f5e-977b-1844f08c0034",
     "showTitle": false,
     "title": ""
    },
    "id": "bX0FXU7JawRm"
   },
   "source": [
    "## Exercise 1\n",
    "Load file `vehicles.csv` to a DataFrame, showing the content and printing the schema.\n",
    "\n",
    "Use this [documentation](https://spark.apache.org/docs/latest/sql-data-sources-load-save-functions.html) to read data in a DataFrame\n",
    "\n",
    "---\n",
    "\n"
   ]
  },
  {
   "cell_type": "code",
   "execution_count": 0,
   "metadata": {
    "application/vnd.databricks.v1+cell": {
     "cellMetadata": {},
     "inputWidgets": {},
     "nuid": "1d6a0934-1081-431b-9f4d-d1b1a35c6cdc",
     "showTitle": false,
     "title": ""
    },
    "colab": {
     "base_uri": "https://localhost:8080/"
    },
    "id": "eYPt59chwJUw",
    "outputId": "328fe2d5-7f95-422f-f797-413266fc9c99"
   },
   "outputs": [],
   "source": [
    "dbutils.fs.head('/dataset/vehicles.csv')"
   ]
  },
  {
   "cell_type": "code",
   "execution_count": 0,
   "metadata": {
    "application/vnd.databricks.v1+cell": {
     "cellMetadata": {},
     "inputWidgets": {},
     "nuid": "622818e4-0be8-4fb0-bcca-388bef033a9c",
     "showTitle": false,
     "title": ""
    },
    "id": "mCDo_-PiaEVl"
   },
   "outputs": [],
   "source": [
    "vehiclesDF_all = spark.read.format(\"csv\")\\\n",
    "  .option(\"sep\", \",\") \\\n",
    "  .option(\"inferSchema\", \"true\") \\\n",
    "  .option(\"header\", \"true\") \\\n",
    "  .load(\"/dataset/vehicles.csv\")\n"
   ]
  },
  {
   "cell_type": "code",
   "execution_count": 0,
   "metadata": {
    "application/vnd.databricks.v1+cell": {
     "cellMetadata": {},
     "inputWidgets": {},
     "nuid": "2cd1c066-b9cd-443c-93d9-b72980c1c1bd",
     "showTitle": false,
     "title": ""
    },
    "colab": {
     "base_uri": "https://localhost:8080/"
    },
    "id": "gWdg2O5bwhV-",
    "outputId": "345be453-18a4-40c9-a9b8-a90dbcc104e0"
   },
   "outputs": [],
   "source": [
    "vehiclesDF_all.display()"
   ]
  },
  {
   "cell_type": "code",
   "execution_count": 0,
   "metadata": {
    "application/vnd.databricks.v1+cell": {
     "cellMetadata": {},
     "inputWidgets": {},
     "nuid": "10f7c522-f9ef-4250-9144-d51ab48747b6",
     "showTitle": false,
     "title": ""
    },
    "colab": {
     "base_uri": "https://localhost:8080/"
    },
    "id": "mAhEgykBxrX_",
    "outputId": "2bc6f9bb-08af-4542-b1d0-b4c22906c2db"
   },
   "outputs": [],
   "source": [
    "vehiclesDF_all.printSchema()"
   ]
  },
  {
   "cell_type": "markdown",
   "metadata": {
    "application/vnd.databricks.v1+cell": {
     "cellMetadata": {},
     "inputWidgets": {},
     "nuid": "9810417b-e1bd-45f6-b20c-e735a3a8ab9d",
     "showTitle": false,
     "title": ""
    },
    "id": "vCDfqm_UxUcn"
   },
   "source": [
    "Filter out the previous DafaFrame to get vehicles where the capicity is greater than 70\n",
    "\n",
    "---\n",
    "\n"
   ]
  },
  {
   "cell_type": "code",
   "execution_count": 0,
   "metadata": {
    "application/vnd.databricks.v1+cell": {
     "cellMetadata": {},
     "inputWidgets": {},
     "nuid": "1dfaa7ff-5ab2-4282-a9f0-24f060e31100",
     "showTitle": false,
     "title": ""
    },
    "colab": {
     "base_uri": "https://localhost:8080/"
    },
    "id": "-IdhtILfwmSF",
    "outputId": "707f965e-d5cc-45b1-83ee-ba28e0141ebc"
   },
   "outputs": [],
   "source": [
    "vehiclesDF_all \\\n",
    "  .withColumn(\"cargo_capacity\", col(\"cargo_capacity\").cast(\"float\")) \\\n",
    "  .filter(col(\"cargo_capacity\") > 70) \\\n",
    "  .display()"
   ]
  },
  {
   "cell_type": "markdown",
   "metadata": {
    "application/vnd.databricks.v1+cell": {
     "cellMetadata": {},
     "inputWidgets": {},
     "nuid": "b30d8f4c-9f86-4d7d-a245-e377644a29af",
     "showTitle": false,
     "title": ""
    },
    "id": "8GUV9KLzqR-4"
   },
   "source": [
    "# Spark SQL. Aggregation Functions"
   ]
  },
  {
   "cell_type": "markdown",
   "metadata": {
    "application/vnd.databricks.v1+cell": {
     "cellMetadata": {},
     "inputWidgets": {},
     "nuid": "07a4a985-393f-4172-b899-8f5cecc7b9fe",
     "showTitle": false,
     "title": ""
    },
    "id": "BbMEyQFOqVnQ"
   },
   "source": [
    "Useful Links:\n",
    "\n",
    "https://spark.apache.org/docs/latest/api/python/pyspark.sql.html\n"
   ]
  },
  {
   "cell_type": "markdown",
   "metadata": {
    "application/vnd.databricks.v1+cell": {
     "cellMetadata": {},
     "inputWidgets": {},
     "nuid": "95f2e99c-8d62-4d62-9e4f-b461a219de18",
     "showTitle": false,
     "title": ""
    },
    "id": "tZw41ki6kc3p"
   },
   "source": [
    "## Exercise 2"
   ]
  },
  {
   "cell_type": "markdown",
   "metadata": {
    "application/vnd.databricks.v1+cell": {
     "cellMetadata": {},
     "inputWidgets": {},
     "nuid": "058ef184-7588-46c2-b32c-8af5cac1640a",
     "showTitle": false,
     "title": ""
    },
    "id": "YAzx5B5IkVeP"
   },
   "source": [
    "Using the DataFrame with all vehicles loaded in Exercise 1, get the average of passengers by vehicle class\n",
    "\n",
    "\n",
    "---\n",
    "\n",
    "\n"
   ]
  },
  {
   "cell_type": "code",
   "execution_count": 0,
   "metadata": {
    "application/vnd.databricks.v1+cell": {
     "cellMetadata": {},
     "inputWidgets": {},
     "nuid": "076bb6af-7d06-4ee4-9cc6-74895f20b0ae",
     "showTitle": false,
     "title": ""
    },
    "colab": {
     "base_uri": "https://localhost:8080/"
    },
    "id": "SIKCDk4mx0ep",
    "outputId": "71e77025-b69b-46c5-c2d2-a0c8e4e05816"
   },
   "outputs": [],
   "source": [
    "from pyspark.sql.types import IntegerType\n",
    "\n",
    "vehiclesDF_all \\\n",
    "  .withColumn(\"passengers\", col(\"passengers\").cast(IntegerType())) \\\n",
    "  .groupBy(\"vehicle_class\") \\\n",
    "  .avg(\"passengers\") \\\n",
    "  .display()"
   ]
  },
  {
   "cell_type": "markdown",
   "metadata": {
    "application/vnd.databricks.v1+cell": {
     "cellMetadata": {},
     "inputWidgets": {},
     "nuid": "1bf45e3f-43fe-4979-9802-6ad2837ac8b7",
     "showTitle": false,
     "title": ""
    },
    "id": "HSEBVnVQlU52"
   },
   "source": [
    "## Exercise 3"
   ]
  },
  {
   "cell_type": "markdown",
   "metadata": {
    "application/vnd.databricks.v1+cell": {
     "cellMetadata": {},
     "inputWidgets": {},
     "nuid": "473e5dc1-2664-41fd-aa48-eb843a6348f5",
     "showTitle": false,
     "title": ""
    },
    "id": "JF4fyAaMlXsI"
   },
   "source": [
    "Load the file `characters.csv` getting the most common eye color among all characters\n",
    "\n",
    "---"
   ]
  },
  {
   "cell_type": "code",
   "execution_count": 0,
   "metadata": {
    "application/vnd.databricks.v1+cell": {
     "cellMetadata": {},
     "inputWidgets": {},
     "nuid": "53ff758d-c37e-4f94-9aac-35ea4175da99",
     "showTitle": false,
     "title": ""
    },
    "colab": {
     "base_uri": "https://localhost:8080/",
     "height": 637
    },
    "id": "qZ_HrY7uk3bM",
    "outputId": "d25eb24f-937c-404d-ec45-4c43d3957752"
   },
   "outputs": [],
   "source": [
    "characters_df = spark.read.format(\"csv\") \\\n",
    "  .option(\"sep\", \",\") \\\n",
    "  .option(\"inferSchema\", \"true\") \\\n",
    "  .option(\"header\", \"true\") \\\n",
    "  .load(\"/dataset/characters.csv\") \\\n",
    "  "
   ]
  },
  {
   "cell_type": "code",
   "execution_count": 0,
   "metadata": {
    "application/vnd.databricks.v1+cell": {
     "cellMetadata": {},
     "inputWidgets": {},
     "nuid": "755ab71f-dadf-4591-8c62-25b6483e5c9e",
     "showTitle": false,
     "title": ""
    },
    "colab": {
     "base_uri": "https://localhost:8080/"
    },
    "id": "qKlZCm8Hl0tg",
    "outputId": "71bb883e-4797-41de-bb15-c0ae5b707a36"
   },
   "outputs": [],
   "source": [
    "characters_df \\\n",
    "  .groupBy(\"eye_color\") \\\n",
    "  .count() \\\n",
    "  .orderBy(col(\"count\").desc()) \\\n",
    "  .limit(1) \\\n",
    "  .display()"
   ]
  },
  {
   "cell_type": "markdown",
   "metadata": {
    "application/vnd.databricks.v1+cell": {
     "cellMetadata": {},
     "inputWidgets": {},
     "nuid": "92bf8342-a9ae-45ce-bea4-d398ec0e4f8a",
     "showTitle": false,
     "title": ""
    },
    "id": "yT-AFIMvm43z"
   },
   "source": [
    "## Exercise 4"
   ]
  },
  {
   "cell_type": "markdown",
   "metadata": {
    "application/vnd.databricks.v1+cell": {
     "cellMetadata": {},
     "inputWidgets": {},
     "nuid": "1f766a96-0467-45fb-9424-4fb406e4216a",
     "showTitle": false,
     "title": ""
    },
    "id": "C9UBVU6ym9ue"
   },
   "source": [
    "1. Load characters DataFrame into a temporary table\n",
    "2. Using SQL, get the number of characters by gender\n",
    "\n",
    "\n",
    "---\n",
    "\n"
   ]
  },
  {
   "cell_type": "code",
   "execution_count": 0,
   "metadata": {
    "application/vnd.databricks.v1+cell": {
     "cellMetadata": {},
     "inputWidgets": {},
     "nuid": "d4cd79f3-7e5f-423f-b760-4e418a9cbba9",
     "showTitle": false,
     "title": ""
    },
    "colab": {
     "base_uri": "https://localhost:8080/"
    },
    "id": "nbQcMwsJmY4m",
    "outputId": "ecab3d3d-492d-444b-9636-53ff5c4abd63"
   },
   "outputs": [],
   "source": [
    "characters_df \\\n",
    ".withColumn(\"gender\",\n",
    "    when(col(\"gender\") == \"none\", lit(\"NA\")) \\\n",
    "        .otherwise(characters_df.gender)) \\\n",
    ".createOrReplaceTempView(\"characters\")"
   ]
  },
  {
   "cell_type": "code",
   "execution_count": 0,
   "metadata": {
    "application/vnd.databricks.v1+cell": {
     "cellMetadata": {},
     "inputWidgets": {},
     "nuid": "7ded43d6-ce2e-448f-948b-feb452022565",
     "showTitle": false,
     "title": ""
    },
    "colab": {
     "base_uri": "https://localhost:8080/"
    },
    "id": "tMADdr0FnK7E",
    "outputId": "343b767c-7a4e-49cc-cb28-fcfae41a3dbc"
   },
   "outputs": [],
   "source": [
    "%sql\n",
    "SELECT gender, count(*) AS count \n",
    "FROM characters \n",
    "GROUP BY gender"
   ]
  },
  {
   "cell_type": "markdown",
   "metadata": {
    "application/vnd.databricks.v1+cell": {
     "cellMetadata": {},
     "inputWidgets": {},
     "nuid": "2ce54831-8517-4462-9729-abc7e9d4ea1b",
     "showTitle": false,
     "title": ""
    },
    "id": "tv0AmHi926F7"
   },
   "source": [
    "## Exercise 5"
   ]
  },
  {
   "cell_type": "markdown",
   "metadata": {
    "application/vnd.databricks.v1+cell": {
     "cellMetadata": {},
     "inputWidgets": {},
     "nuid": "a1ad727a-2339-4cde-b043-6c4073f21572",
     "showTitle": false,
     "title": ""
    },
    "id": "WR6FPU3b29TP"
   },
   "source": [
    "Load `netflix_titles.csv` file in a DataFrame, printing the schema\n",
    "\n",
    "---\n",
    "\n"
   ]
  },
  {
   "cell_type": "code",
   "execution_count": 0,
   "metadata": {
    "application/vnd.databricks.v1+cell": {
     "cellMetadata": {},
     "inputWidgets": {},
     "nuid": "9d592b26-eedf-4986-a98f-2f404fd75688",
     "showTitle": false,
     "title": ""
    },
    "colab": {
     "base_uri": "https://localhost:8080/"
    },
    "id": "5zyuYbll3UrI",
    "outputId": "3b6ed46e-4aac-40ec-8f56-6b0aa24aa125"
   },
   "outputs": [],
   "source": [
    "dbutils.fs.head('/dataset/netflix_titles.csv')"
   ]
  },
  {
   "cell_type": "code",
   "execution_count": 0,
   "metadata": {
    "application/vnd.databricks.v1+cell": {
     "cellMetadata": {},
     "inputWidgets": {},
     "nuid": "09fafaf1-5779-4ad4-8016-5575cbe7abb9",
     "showTitle": false,
     "title": ""
    },
    "id": "i4jSnroRoJXg"
   },
   "outputs": [],
   "source": [
    "netflixDF_all = spark.read.format(\"csv\")\\\n",
    "  .option(\"sep\", \",\") \\\n",
    "  .option(\"inferSchema\", \"true\") \\\n",
    "  .option(\"header\", \"true\") \\\n",
    "  .load(\"/dataset/netflix_titles.csv\")\n"
   ]
  },
  {
   "cell_type": "code",
   "execution_count": 0,
   "metadata": {
    "application/vnd.databricks.v1+cell": {
     "cellMetadata": {},
     "inputWidgets": {},
     "nuid": "122f3b8b-88fc-41e6-976e-7046096f4397",
     "showTitle": false,
     "title": ""
    },
    "colab": {
     "base_uri": "https://localhost:8080/"
    },
    "id": "r1Qm9VkV3Zm6",
    "outputId": "40a84718-7ef4-4862-c6a0-2157e58e3699"
   },
   "outputs": [],
   "source": [
    "netflixDF_all.printSchema()"
   ]
  },
  {
   "cell_type": "code",
   "execution_count": 0,
   "metadata": {
    "application/vnd.databricks.v1+cell": {
     "cellMetadata": {},
     "inputWidgets": {},
     "nuid": "b1db0ad3-4ccd-4c22-9a00-30965edee714",
     "showTitle": false,
     "title": ""
    },
    "colab": {
     "base_uri": "https://localhost:8080/"
    },
    "id": "s3qnxQT_3cd3",
    "outputId": "1911a5d9-9c01-4eaf-9b5b-f49249e4ce50"
   },
   "outputs": [],
   "source": [
    "netflixDF_all.display()"
   ]
  },
  {
   "cell_type": "markdown",
   "metadata": {
    "application/vnd.databricks.v1+cell": {
     "cellMetadata": {},
     "inputWidgets": {},
     "nuid": "400fd89e-01fe-455d-9bb7-3621336ee5c5",
     "showTitle": false,
     "title": ""
    },
    "id": "xG81SgpY4P3t"
   },
   "source": [
    "## Exercise 6"
   ]
  },
  {
   "cell_type": "markdown",
   "metadata": {
    "application/vnd.databricks.v1+cell": {
     "cellMetadata": {},
     "inputWidgets": {},
     "nuid": "812c06a9-255e-4088-b64d-3107ee7b987b",
     "showTitle": false,
     "title": ""
    },
    "id": "56fGSsmt4adO"
   },
   "source": [
    "Get the year in which most films were added(No TV Shows). Use a UDF to get the year\n",
    "\n",
    "---\n",
    "\n"
   ]
  },
  {
   "cell_type": "code",
   "execution_count": 0,
   "metadata": {
    "application/vnd.databricks.v1+cell": {
     "cellMetadata": {},
     "inputWidgets": {},
     "nuid": "de8e4422-e265-421e-9942-2760b960288f",
     "showTitle": false,
     "title": ""
    },
    "colab": {
     "base_uri": "https://localhost:8080/"
    },
    "id": "EFvUIbn93woD",
    "outputId": "8939206c-3523-4f74-c28b-c5d59e315a8c"
   },
   "outputs": [],
   "source": [
    "from pyspark.sql.functions import *\n",
    "\n",
    "netflixDF_movies = netflixDF_all\\\n",
    "  .filter(netflixDF_all.type == \"Movie\") \\\n",
    "\n",
    "netflixDF_movies.display()"
   ]
  },
  {
   "cell_type": "code",
   "execution_count": 0,
   "metadata": {
    "application/vnd.databricks.v1+cell": {
     "cellMetadata": {},
     "inputWidgets": {},
     "nuid": "33637af2-fbc1-477d-949b-b4b2b16631bc",
     "showTitle": false,
     "title": ""
    },
    "colab": {
     "base_uri": "https://localhost:8080/"
    },
    "id": "XhNn5PZX6Dpf",
    "outputId": "df6fbbe5-f360-406f-d097-761709491cc0"
   },
   "outputs": [],
   "source": [
    "from pyspark.sql.functions import *\n",
    "\n",
    "def getYearAdded(s): return s[-4:]\n",
    "getYearAdded_udf = udf(getYearAdded)\n",
    "\n",
    "display(netflixDF_movies \\\n",
    "  .filter(col(\"date_added\").isNotNull()) \\\n",
    "  .select(getYearAdded_udf(\"date_added\").alias(\"release_year\")) \\\n",
    "  .groupBy(col(\"release_year\")) \\\n",
    "  .count() \\\n",
    "  .orderBy(col(\"count\").desc()) \\\n",
    "  .first())"
   ]
  },
  {
   "cell_type": "markdown",
   "metadata": {
    "application/vnd.databricks.v1+cell": {
     "cellMetadata": {},
     "inputWidgets": {},
     "nuid": "90298cc1-7f55-43ed-80ef-edb9d04e2d5c",
     "showTitle": false,
     "title": ""
    },
    "id": "O-x3YiOI0zNc"
   },
   "source": [
    "## Exercise 7\n",
    "\n",
    "---\n",
    "Using Dataframe API, split `characters.csv` in 3 different csv"
   ]
  },
  {
   "cell_type": "code",
   "execution_count": 0,
   "metadata": {
    "application/vnd.databricks.v1+cell": {
     "cellMetadata": {},
     "inputWidgets": {},
     "nuid": "6fe25054-cca7-4a0b-99dd-fe687cad4bcf",
     "showTitle": false,
     "title": ""
    },
    "id": "Zib6zA_41hFE"
   },
   "outputs": [],
   "source": [
    "dbutils.fs.rm(\"dbfs:/tmp/characters_csv/\", True)"
   ]
  },
  {
   "cell_type": "code",
   "execution_count": 0,
   "metadata": {
    "application/vnd.databricks.v1+cell": {
     "cellMetadata": {},
     "inputWidgets": {},
     "nuid": "fe694d92-076f-478b-903a-7d047bb83d18",
     "showTitle": false,
     "title": ""
    },
    "id": "lE_ahBoZ1M65"
   },
   "outputs": [],
   "source": [
    "characters_df.repartition(3).write.option('header',True).csv(\"/tmp/characters_csv/\")"
   ]
  },
  {
   "cell_type": "code",
   "execution_count": 0,
   "metadata": {
    "application/vnd.databricks.v1+cell": {
     "cellMetadata": {},
     "inputWidgets": {},
     "nuid": "9dfc8f92-0fb8-4e81-af61-bce380487134",
     "showTitle": false,
     "title": ""
    },
    "colab": {
     "base_uri": "https://localhost:8080/"
    },
    "id": "pD_C718v1v1H",
    "outputId": "cd887910-e638-487b-c65a-6302e6555486"
   },
   "outputs": [],
   "source": [
    "dbutils.fs.ls(\"dbfs:/tmp/characters_csv/\")"
   ]
  },
  {
   "cell_type": "code",
   "execution_count": 0,
   "metadata": {
    "application/vnd.databricks.v1+cell": {
     "cellMetadata": {},
     "inputWidgets": {},
     "nuid": "555c9295-6e70-4a9d-a1eb-ff721a6dc7dc",
     "showTitle": false,
     "title": ""
    },
    "colab": {
     "base_uri": "https://localhost:8080/"
    },
    "id": "EbFAsn3j1zpI",
    "outputId": "89a62b94-f913-4234-8643-74dc4e90f939"
   },
   "outputs": [],
   "source": [
    "dbutils.fs.head('dbfs:/tmp/characters_csv/part-00000-tid-1015221579411064865-f8495037-4a72-456c-a75f-0852c4a88ae7-182-1-c000.csv')"
   ]
  },
  {
   "cell_type": "code",
   "execution_count": 0,
   "metadata": {
    "application/vnd.databricks.v1+cell": {
     "cellMetadata": {},
     "inputWidgets": {},
     "nuid": "c4435ac1-440e-43df-b0b1-57146e7f2a1d",
     "showTitle": false,
     "title": ""
    },
    "id": "lozH0Yj413YA"
   },
   "outputs": [],
   "source": []
  }
 ],
 "metadata": {
  "application/vnd.databricks.v1+notebook": {
   "dashboards": [],
   "environmentMetadata": null,
   "language": "python",
   "notebookMetadata": {
    "pythonIndentUnit": 2
   },
   "notebookName": "1.0.Spark SQL - Solution",
   "widgets": {}
  },
  "colab": {
   "collapsed_sections": [
    "Jq9d0x1OTh2N",
    "8Z0h3dF9Vg4X"
   ],
   "provenance": [],
   "toc_visible": true
  },
  "kernelspec": {
   "display_name": "Python 3",
   "name": "python3"
  }
 },
 "nbformat": 4,
 "nbformat_minor": 0
}
